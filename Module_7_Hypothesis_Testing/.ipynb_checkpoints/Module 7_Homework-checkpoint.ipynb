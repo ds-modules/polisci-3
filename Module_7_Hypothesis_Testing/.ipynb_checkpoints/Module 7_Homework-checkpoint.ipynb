{
 "cells": [
  {
   "cell_type": "markdown",
   "id": "7f86e60a",
   "metadata": {},
   "source": [
    "## POLSCI 3 Summer 2022\n",
    "\n",
    "## Week 7 Homework\n",
    "\n",
    "In this homework we will review different methods of testing hypotheses. These methods depend on the kinds of data we are working with: categorical or numeric. To start, let's consider when we have just categorical variables."
   ]
  },
  {
   "cell_type": "markdown",
   "id": "aa16f81d",
   "metadata": {},
   "source": [
    "## $\\chi^2$ Statistic"
   ]
  },
  {
   "cell_type": "markdown",
   "id": "101145f7",
   "metadata": {},
   "source": [
    "### Question 1a:\n",
    "Before we begin, let's review: what is the purpose of calculating the $\\chi^2$ statistic?"
   ]
  },
  {
   "cell_type": "markdown",
   "id": "a9402b7f",
   "metadata": {},
   "source": [
    "*YOUR ANSWER HERE*"
   ]
  },
  {
   "cell_type": "markdown",
   "id": "c4191fac",
   "metadata": {},
   "source": [
    "### Question 1b:"
   ]
  },
  {
   "cell_type": "markdown",
   "id": "ed9253f5",
   "metadata": {},
   "source": [
    "In this example, we're going to use the relationship between union membership and 2016 presidential vote choice. Below, we have the results of a poll of voters who were asked about their preferred candidate and whether they were a union member.  "
   ]
  },
  {
   "cell_type": "code",
   "execution_count": 1,
   "id": "ce6e4994",
   "metadata": {},
   "outputs": [
    {
     "data": {
      "text/plain": [
       "         membership\n",
       "candidate Not_Union Union\n",
       "  Clinton      1068   218\n",
       "  Trump        1019   157"
      ]
     },
     "metadata": {},
     "output_type": "display_data"
    }
   ],
   "source": [
    "respond_table <- as.table(cbind(c(1068, 1019),c (218, 157)))\n",
    "dimnames(respond_table) <- list(candidate = c(\"Clinton\",\"Trump\"),\n",
    "                                membership = c(\"Not_Union\",\"Union\")\n",
    "                                )\n",
    "respond_table"
   ]
  },
  {
   "cell_type": "markdown",
   "id": "5889e0ea",
   "metadata": {},
   "source": [
    "What are your initial impressions of how the data are distributed?"
   ]
  },
  {
   "cell_type": "markdown",
   "id": "9b3f4d00",
   "metadata": {},
   "source": [
    "*YOUR ANSWER HERE*"
   ]
  },
  {
   "cell_type": "markdown",
   "id": "d413a6f8",
   "metadata": {},
   "source": [
    "### Question 1c:\n",
    "Now let's try using the <code> chisq.test </code> function we learned in the lecture notebook. Recall the first step when using this function is creating a contingency table. Remember, you need to fill in the \"...\" in the command below with the name of the table you are analyzing. "
   ]
  },
  {
   "cell_type": "code",
   "execution_count": 3,
   "id": "a01c2091",
   "metadata": {},
   "outputs": [
    {
     "ename": "ERROR",
     "evalue": "Error in eval(expr, envir, enclos): '...' used in an incorrect context\n",
     "output_type": "error",
     "traceback": [
      "Error in eval(expr, envir, enclos): '...' used in an incorrect context\nTraceback:\n"
     ]
    }
   ],
   "source": [
    "## YOUR ANSWER HERE\n",
    "chisq.test(...)"
   ]
  },
  {
   "cell_type": "markdown",
   "id": "6a3c280a",
   "metadata": {},
   "source": [
    "### Question 1d:\n",
    "What do these results tell you about the relationship between union membership and US presidential vote preference in 2016?"
   ]
  },
  {
   "cell_type": "markdown",
   "id": "d374c0f9",
   "metadata": {},
   "source": [
    "*YOUR ANSWER HERE*"
   ]
  },
  {
   "cell_type": "markdown",
   "id": "a9d0b503",
   "metadata": {},
   "source": [
    "## Difference of Means - Question 2\n",
    "Are democracies richer than autocracies? This can be tested with a difference in means test. To test this we will use the happiness_polity data that we introduced in the previous module. First let's read in the data and examine the code book:"
   ]
  },
  {
   "cell_type": "code",
   "execution_count": 5,
   "id": "b0e57282",
   "metadata": {},
   "outputs": [
    {
     "data": {
      "text/html": [
       "<table class=\"dataframe\">\n",
       "<caption>A data.frame: 6 × 9</caption>\n",
       "<thead>\n",
       "\t<tr><th></th><th scope=col>countryname</th><th scope=col>polity2</th><th scope=col>polity2_cat</th><th scope=col>gdpcapita</th><th scope=col>gdpcapita_cat</th><th scope=col>happiness</th><th scope=col>happiness_cat</th><th scope=col>life_expectancy</th><th scope=col>life_expectancy_cat</th></tr>\n",
       "\t<tr><th></th><th scope=col>&lt;chr&gt;</th><th scope=col>&lt;int&gt;</th><th scope=col>&lt;chr&gt;</th><th scope=col>&lt;dbl&gt;</th><th scope=col>&lt;chr&gt;</th><th scope=col>&lt;dbl&gt;</th><th scope=col>&lt;chr&gt;</th><th scope=col>&lt;dbl&gt;</th><th scope=col>&lt;chr&gt;</th></tr>\n",
       "</thead>\n",
       "<tbody>\n",
       "\t<tr><th scope=row>1</th><td>Afghanistan</td><td>-1</td><td>anocracies </td><td> 2190.751</td><td>low-income   </td><td>2.694</td><td>least happy     </td><td>52.6</td><td>shortest lives</td></tr>\n",
       "\t<tr><th scope=row>2</th><td>Albania    </td><td> 9</td><td>democracies</td><td>13602.374</td><td>middle-income</td><td>5.004</td><td>middle happiness</td><td>68.7</td><td>middle        </td></tr>\n",
       "\t<tr><th scope=row>3</th><td>Algeria    </td><td> 2</td><td>anocracies </td><td>11475.844</td><td>middle-income</td><td>5.043</td><td>middle happiness</td><td>65.9</td><td>middle        </td></tr>\n",
       "\t<tr><th scope=row>4</th><td>Argentina  </td><td> 9</td><td>democracies</td><td>22742.701</td><td>middle-income</td><td>5.793</td><td>middle happiness</td><td>68.8</td><td>middle        </td></tr>\n",
       "\t<tr><th scope=row>5</th><td>Armenia    </td><td> 7</td><td>democracies</td><td>12720.883</td><td>middle-income</td><td>5.062</td><td>middle happiness</td><td>66.9</td><td>middle        </td></tr>\n",
       "\t<tr><th scope=row>6</th><td>Australia  </td><td>10</td><td>democracies</td><td>49563.000</td><td>rich         </td><td>7.177</td><td>most happy      </td><td>73.6</td><td>longest lives </td></tr>\n",
       "</tbody>\n",
       "</table>\n"
      ],
      "text/latex": [
       "A data.frame: 6 × 9\n",
       "\\begin{tabular}{r|lllllllll}\n",
       "  & countryname & polity2 & polity2\\_cat & gdpcapita & gdpcapita\\_cat & happiness & happiness\\_cat & life\\_expectancy & life\\_expectancy\\_cat\\\\\n",
       "  & <chr> & <int> & <chr> & <dbl> & <chr> & <dbl> & <chr> & <dbl> & <chr>\\\\\n",
       "\\hline\n",
       "\t1 & Afghanistan & -1 & anocracies  &  2190.751 & low-income    & 2.694 & least happy      & 52.6 & shortest lives\\\\\n",
       "\t2 & Albania     &  9 & democracies & 13602.374 & middle-income & 5.004 & middle happiness & 68.7 & middle        \\\\\n",
       "\t3 & Algeria     &  2 & anocracies  & 11475.844 & middle-income & 5.043 & middle happiness & 65.9 & middle        \\\\\n",
       "\t4 & Argentina   &  9 & democracies & 22742.701 & middle-income & 5.793 & middle happiness & 68.8 & middle        \\\\\n",
       "\t5 & Armenia     &  7 & democracies & 12720.883 & middle-income & 5.062 & middle happiness & 66.9 & middle        \\\\\n",
       "\t6 & Australia   & 10 & democracies & 49563.000 & rich          & 7.177 & most happy       & 73.6 & longest lives \\\\\n",
       "\\end{tabular}\n"
      ],
      "text/markdown": [
       "\n",
       "A data.frame: 6 × 9\n",
       "\n",
       "| <!--/--> | countryname &lt;chr&gt; | polity2 &lt;int&gt; | polity2_cat &lt;chr&gt; | gdpcapita &lt;dbl&gt; | gdpcapita_cat &lt;chr&gt; | happiness &lt;dbl&gt; | happiness_cat &lt;chr&gt; | life_expectancy &lt;dbl&gt; | life_expectancy_cat &lt;chr&gt; |\n",
       "|---|---|---|---|---|---|---|---|---|---|\n",
       "| 1 | Afghanistan | -1 | anocracies  |  2190.751 | low-income    | 2.694 | least happy      | 52.6 | shortest lives |\n",
       "| 2 | Albania     |  9 | democracies | 13602.374 | middle-income | 5.004 | middle happiness | 68.7 | middle         |\n",
       "| 3 | Algeria     |  2 | anocracies  | 11475.844 | middle-income | 5.043 | middle happiness | 65.9 | middle         |\n",
       "| 4 | Argentina   |  9 | democracies | 22742.701 | middle-income | 5.793 | middle happiness | 68.8 | middle         |\n",
       "| 5 | Armenia     |  7 | democracies | 12720.883 | middle-income | 5.062 | middle happiness | 66.9 | middle         |\n",
       "| 6 | Australia   | 10 | democracies | 49563.000 | rich          | 7.177 | most happy       | 73.6 | longest lives  |\n",
       "\n"
      ],
      "text/plain": [
       "  countryname polity2 polity2_cat gdpcapita gdpcapita_cat happiness\n",
       "1 Afghanistan -1      anocracies   2190.751 low-income    2.694    \n",
       "2 Albania      9      democracies 13602.374 middle-income 5.004    \n",
       "3 Algeria      2      anocracies  11475.844 middle-income 5.043    \n",
       "4 Argentina    9      democracies 22742.701 middle-income 5.793    \n",
       "5 Armenia      7      democracies 12720.883 middle-income 5.062    \n",
       "6 Australia   10      democracies 49563.000 rich          7.177    \n",
       "  happiness_cat    life_expectancy life_expectancy_cat\n",
       "1 least happy      52.6            shortest lives     \n",
       "2 middle happiness 68.7            middle             \n",
       "3 middle happiness 65.9            middle             \n",
       "4 middle happiness 68.8            middle             \n",
       "5 middle happiness 66.9            middle             \n",
       "6 most happy       73.6            longest lives      "
      ]
     },
     "metadata": {},
     "output_type": "display_data"
    }
   ],
   "source": [
    "happiness_data <- read.csv('happiness_polity_2018.csv')\n",
    "head(happiness_data)"
   ]
  },
  {
   "cell_type": "markdown",
   "id": "a856ed9c",
   "metadata": {},
   "source": [
    "This dataset contains data from countries around the world in terms of factors such as happiness levels, \n",
    "political categories, and demographic information. Here's a codebook:\n",
    "\n",
    "<code>polity2</code>: The \"Polity Score\" of the country, which measures its political system on a 21-pont scale \n",
    "ranging from -10 (hereditary monarchy) to +10 (consolidated democracy).\n",
    "\n",
    "<code>polity2_cat</code>: The political category the country is identified within. \"autocracies\" are on one end of \n",
    "the spectrum, \"anocracies\" are in the middle (semi-democracies), and \"democracies\" are at the top of the spectrum.\n",
    "\n",
    "<code>gdpcapita</code>: GDP per Capita (economic output per person)\n",
    "\n",
    "<code>gdpcapita_cat</code>: GDP/income category that the country falls into (based on GDP per capita)\n",
    "\n",
    "<code>happiness</code>: The country's happiness index, measured through surveys that require participants to rank \n",
    "their level of happiness based on an assortment of quality-of-life factors\n",
    "\n",
    "<code>happiness_cat</code>: Happiness category that the country falls into (based on happpiness indicator)\n",
    "\n",
    "<code>life_expectancy</code>: Average life expectancy in years\n",
    "\n",
    "<code>life_expectancy_cat</code>: Life Expectancy category that the country falls into"
   ]
  },
  {
   "cell_type": "markdown",
   "id": "e8605d4f",
   "metadata": {},
   "source": [
    "Next we need to create two subsets of the data, one for democracies and one for autocracies:"
   ]
  },
  {
   "cell_type": "code",
   "execution_count": 10,
   "id": "b32e1fd6",
   "metadata": {},
   "outputs": [
    {
     "data": {
      "text/html": [
       "<table class=\"dataframe\">\n",
       "<caption>A data.frame: 6 × 9</caption>\n",
       "<thead>\n",
       "\t<tr><th></th><th scope=col>countryname</th><th scope=col>polity2</th><th scope=col>polity2_cat</th><th scope=col>gdpcapita</th><th scope=col>gdpcapita_cat</th><th scope=col>happiness</th><th scope=col>happiness_cat</th><th scope=col>life_expectancy</th><th scope=col>life_expectancy_cat</th></tr>\n",
       "\t<tr><th></th><th scope=col>&lt;chr&gt;</th><th scope=col>&lt;int&gt;</th><th scope=col>&lt;chr&gt;</th><th scope=col>&lt;dbl&gt;</th><th scope=col>&lt;chr&gt;</th><th scope=col>&lt;dbl&gt;</th><th scope=col>&lt;chr&gt;</th><th scope=col>&lt;dbl&gt;</th><th scope=col>&lt;chr&gt;</th></tr>\n",
       "</thead>\n",
       "<tbody>\n",
       "\t<tr><th scope=row>8</th><td>Azerbaijan</td><td>-7</td><td>autocracies</td><td>14214.250</td><td>middle-income</td><td>5.168</td><td>middle happiness</td><td>65.5</td><td>middle        </td></tr>\n",
       "\t<tr><th scope=row>9</th><td>Bangladesh</td><td>-6</td><td>autocracies</td><td> 4442.623</td><td>low-income   </td><td>4.499</td><td>least happy     </td><td>64.3</td><td>middle        </td></tr>\n",
       "\t<tr><th scope=row>10</th><td>Belarus   </td><td>-7</td><td>autocracies</td><td>18882.668</td><td>middle-income</td><td>5.234</td><td>middle happiness</td><td>66.1</td><td>middle        </td></tr>\n",
       "\t<tr><th scope=row>24</th><td>China     </td><td>-7</td><td>autocracies</td><td>15244.895</td><td>middle-income</td><td>5.131</td><td>middle happiness</td><td>69.3</td><td>longest lives </td></tr>\n",
       "\t<tr><th scope=row>61</th><td>Kazakhstan</td><td>-6</td><td>autocracies</td><td>25539.965</td><td>middle-income</td><td>6.008</td><td>middle happiness</td><td>64.6</td><td>middle        </td></tr>\n",
       "\t<tr><th scope=row>65</th><td>Laos      </td><td>-7</td><td>autocracies</td><td> 7593.140</td><td>middle-income</td><td>4.859</td><td>middle happiness</td><td>58.7</td><td>shortest lives</td></tr>\n",
       "</tbody>\n",
       "</table>\n"
      ],
      "text/latex": [
       "A data.frame: 6 × 9\n",
       "\\begin{tabular}{r|lllllllll}\n",
       "  & countryname & polity2 & polity2\\_cat & gdpcapita & gdpcapita\\_cat & happiness & happiness\\_cat & life\\_expectancy & life\\_expectancy\\_cat\\\\\n",
       "  & <chr> & <int> & <chr> & <dbl> & <chr> & <dbl> & <chr> & <dbl> & <chr>\\\\\n",
       "\\hline\n",
       "\t8 & Azerbaijan & -7 & autocracies & 14214.250 & middle-income & 5.168 & middle happiness & 65.5 & middle        \\\\\n",
       "\t9 & Bangladesh & -6 & autocracies &  4442.623 & low-income    & 4.499 & least happy      & 64.3 & middle        \\\\\n",
       "\t10 & Belarus    & -7 & autocracies & 18882.668 & middle-income & 5.234 & middle happiness & 66.1 & middle        \\\\\n",
       "\t24 & China      & -7 & autocracies & 15244.895 & middle-income & 5.131 & middle happiness & 69.3 & longest lives \\\\\n",
       "\t61 & Kazakhstan & -6 & autocracies & 25539.965 & middle-income & 6.008 & middle happiness & 64.6 & middle        \\\\\n",
       "\t65 & Laos       & -7 & autocracies &  7593.140 & middle-income & 4.859 & middle happiness & 58.7 & shortest lives\\\\\n",
       "\\end{tabular}\n"
      ],
      "text/markdown": [
       "\n",
       "A data.frame: 6 × 9\n",
       "\n",
       "| <!--/--> | countryname &lt;chr&gt; | polity2 &lt;int&gt; | polity2_cat &lt;chr&gt; | gdpcapita &lt;dbl&gt; | gdpcapita_cat &lt;chr&gt; | happiness &lt;dbl&gt; | happiness_cat &lt;chr&gt; | life_expectancy &lt;dbl&gt; | life_expectancy_cat &lt;chr&gt; |\n",
       "|---|---|---|---|---|---|---|---|---|---|\n",
       "| 8 | Azerbaijan | -7 | autocracies | 14214.250 | middle-income | 5.168 | middle happiness | 65.5 | middle         |\n",
       "| 9 | Bangladesh | -6 | autocracies |  4442.623 | low-income    | 4.499 | least happy      | 64.3 | middle         |\n",
       "| 10 | Belarus    | -7 | autocracies | 18882.668 | middle-income | 5.234 | middle happiness | 66.1 | middle         |\n",
       "| 24 | China      | -7 | autocracies | 15244.895 | middle-income | 5.131 | middle happiness | 69.3 | longest lives  |\n",
       "| 61 | Kazakhstan | -6 | autocracies | 25539.965 | middle-income | 6.008 | middle happiness | 64.6 | middle         |\n",
       "| 65 | Laos       | -7 | autocracies |  7593.140 | middle-income | 4.859 | middle happiness | 58.7 | shortest lives |\n",
       "\n"
      ],
      "text/plain": [
       "   countryname polity2 polity2_cat gdpcapita gdpcapita_cat happiness\n",
       "8  Azerbaijan  -7      autocracies 14214.250 middle-income 5.168    \n",
       "9  Bangladesh  -6      autocracies  4442.623 low-income    4.499    \n",
       "10 Belarus     -7      autocracies 18882.668 middle-income 5.234    \n",
       "24 China       -7      autocracies 15244.895 middle-income 5.131    \n",
       "61 Kazakhstan  -6      autocracies 25539.965 middle-income 6.008    \n",
       "65 Laos        -7      autocracies  7593.140 middle-income 4.859    \n",
       "   happiness_cat    life_expectancy life_expectancy_cat\n",
       "8  middle happiness 65.5            middle             \n",
       "9  least happy      64.3            middle             \n",
       "10 middle happiness 66.1            middle             \n",
       "24 middle happiness 69.3            longest lives      \n",
       "61 middle happiness 64.6            middle             \n",
       "65 middle happiness 58.7            shortest lives     "
      ]
     },
     "metadata": {},
     "output_type": "display_data"
    },
    {
     "data": {
      "text/html": [
       "<table class=\"dataframe\">\n",
       "<caption>A data.frame: 6 × 9</caption>\n",
       "<thead>\n",
       "\t<tr><th></th><th scope=col>countryname</th><th scope=col>polity2</th><th scope=col>polity2_cat</th><th scope=col>gdpcapita</th><th scope=col>gdpcapita_cat</th><th scope=col>happiness</th><th scope=col>happiness_cat</th><th scope=col>life_expectancy</th><th scope=col>life_expectancy_cat</th></tr>\n",
       "\t<tr><th></th><th scope=col>&lt;chr&gt;</th><th scope=col>&lt;int&gt;</th><th scope=col>&lt;chr&gt;</th><th scope=col>&lt;dbl&gt;</th><th scope=col>&lt;chr&gt;</th><th scope=col>&lt;dbl&gt;</th><th scope=col>&lt;chr&gt;</th><th scope=col>&lt;dbl&gt;</th><th scope=col>&lt;chr&gt;</th></tr>\n",
       "</thead>\n",
       "<tbody>\n",
       "\t<tr><th scope=row>2</th><td>Albania  </td><td> 9</td><td>democracies</td><td>13602.37</td><td>middle-income</td><td>5.004</td><td>middle happiness</td><td>68.7</td><td>middle       </td></tr>\n",
       "\t<tr><th scope=row>4</th><td>Argentina</td><td> 9</td><td>democracies</td><td>22742.70</td><td>middle-income</td><td>5.793</td><td>middle happiness</td><td>68.8</td><td>middle       </td></tr>\n",
       "\t<tr><th scope=row>5</th><td>Armenia  </td><td> 7</td><td>democracies</td><td>12720.88</td><td>middle-income</td><td>5.062</td><td>middle happiness</td><td>66.9</td><td>middle       </td></tr>\n",
       "\t<tr><th scope=row>6</th><td>Australia</td><td>10</td><td>democracies</td><td>49563.00</td><td>rich         </td><td>7.177</td><td>most happy      </td><td>73.6</td><td>longest lives</td></tr>\n",
       "\t<tr><th scope=row>7</th><td>Austria  </td><td>10</td><td>democracies</td><td>55714.77</td><td>rich         </td><td>7.396</td><td>most happy      </td><td>73.0</td><td>longest lives</td></tr>\n",
       "\t<tr><th scope=row>11</th><td>Belgium  </td><td> 8</td><td>democracies</td><td>51225.86</td><td>rich         </td><td>6.892</td><td>most happy      </td><td>72.0</td><td>longest lives</td></tr>\n",
       "</tbody>\n",
       "</table>\n"
      ],
      "text/latex": [
       "A data.frame: 6 × 9\n",
       "\\begin{tabular}{r|lllllllll}\n",
       "  & countryname & polity2 & polity2\\_cat & gdpcapita & gdpcapita\\_cat & happiness & happiness\\_cat & life\\_expectancy & life\\_expectancy\\_cat\\\\\n",
       "  & <chr> & <int> & <chr> & <dbl> & <chr> & <dbl> & <chr> & <dbl> & <chr>\\\\\n",
       "\\hline\n",
       "\t2 & Albania   &  9 & democracies & 13602.37 & middle-income & 5.004 & middle happiness & 68.7 & middle       \\\\\n",
       "\t4 & Argentina &  9 & democracies & 22742.70 & middle-income & 5.793 & middle happiness & 68.8 & middle       \\\\\n",
       "\t5 & Armenia   &  7 & democracies & 12720.88 & middle-income & 5.062 & middle happiness & 66.9 & middle       \\\\\n",
       "\t6 & Australia & 10 & democracies & 49563.00 & rich          & 7.177 & most happy       & 73.6 & longest lives\\\\\n",
       "\t7 & Austria   & 10 & democracies & 55714.77 & rich          & 7.396 & most happy       & 73.0 & longest lives\\\\\n",
       "\t11 & Belgium   &  8 & democracies & 51225.86 & rich          & 6.892 & most happy       & 72.0 & longest lives\\\\\n",
       "\\end{tabular}\n"
      ],
      "text/markdown": [
       "\n",
       "A data.frame: 6 × 9\n",
       "\n",
       "| <!--/--> | countryname &lt;chr&gt; | polity2 &lt;int&gt; | polity2_cat &lt;chr&gt; | gdpcapita &lt;dbl&gt; | gdpcapita_cat &lt;chr&gt; | happiness &lt;dbl&gt; | happiness_cat &lt;chr&gt; | life_expectancy &lt;dbl&gt; | life_expectancy_cat &lt;chr&gt; |\n",
       "|---|---|---|---|---|---|---|---|---|---|\n",
       "| 2 | Albania   |  9 | democracies | 13602.37 | middle-income | 5.004 | middle happiness | 68.7 | middle        |\n",
       "| 4 | Argentina |  9 | democracies | 22742.70 | middle-income | 5.793 | middle happiness | 68.8 | middle        |\n",
       "| 5 | Armenia   |  7 | democracies | 12720.88 | middle-income | 5.062 | middle happiness | 66.9 | middle        |\n",
       "| 6 | Australia | 10 | democracies | 49563.00 | rich          | 7.177 | most happy       | 73.6 | longest lives |\n",
       "| 7 | Austria   | 10 | democracies | 55714.77 | rich          | 7.396 | most happy       | 73.0 | longest lives |\n",
       "| 11 | Belgium   |  8 | democracies | 51225.86 | rich          | 6.892 | most happy       | 72.0 | longest lives |\n",
       "\n"
      ],
      "text/plain": [
       "   countryname polity2 polity2_cat gdpcapita gdpcapita_cat happiness\n",
       "2  Albania      9      democracies 13602.37  middle-income 5.004    \n",
       "4  Argentina    9      democracies 22742.70  middle-income 5.793    \n",
       "5  Armenia      7      democracies 12720.88  middle-income 5.062    \n",
       "6  Australia   10      democracies 49563.00  rich          7.177    \n",
       "7  Austria     10      democracies 55714.77  rich          7.396    \n",
       "11 Belgium      8      democracies 51225.86  rich          6.892    \n",
       "   happiness_cat    life_expectancy life_expectancy_cat\n",
       "2  middle happiness 68.7            middle             \n",
       "4  middle happiness 68.8            middle             \n",
       "5  middle happiness 66.9            middle             \n",
       "6  most happy       73.6            longest lives      \n",
       "7  most happy       73.0            longest lives      \n",
       "11 most happy       72.0            longest lives      "
      ]
     },
     "metadata": {},
     "output_type": "display_data"
    }
   ],
   "source": [
    "autocracies<-subset(happiness_data,polity2_cat==\"autocracies\")\n",
    "democracies<-subset(happiness_data,polity2_cat==\"democracies\")\n",
    "head(autocracies)\n",
    "head(democracies)"
   ]
  },
  {
   "cell_type": "markdown",
   "id": "58e7c3ae",
   "metadata": {},
   "source": [
    "### Question 2a:\n",
    "In the following cell type the code to find the `mean` GDP Per Capita for democracies and autocracies."
   ]
  },
  {
   "cell_type": "code",
   "execution_count": 11,
   "id": "c9e19f7f",
   "metadata": {},
   "outputs": [
    {
     "data": {
      "text/html": [
       "<style>\n",
       ".list-inline {list-style: none; margin:0; padding: 0}\n",
       ".list-inline>li {display: inline-block}\n",
       ".list-inline>li:not(:last-child)::after {content: \"\\00b7\"; padding: 0 .5ex}\n",
       "</style>\n",
       "<ol class=list-inline><li>19857.5337583333</li><li>26029.7066564706</li></ol>\n"
      ],
      "text/latex": [
       "\\begin{enumerate*}\n",
       "\\item 19857.5337583333\n",
       "\\item 26029.7066564706\n",
       "\\end{enumerate*}\n"
      ],
      "text/markdown": [
       "1. 19857.5337583333\n",
       "2. 26029.7066564706\n",
       "\n",
       "\n"
      ],
      "text/plain": [
       "[1] 19857.53 26029.71"
      ]
     },
     "metadata": {},
     "output_type": "display_data"
    }
   ],
   "source": [
    "## YOUR ANSWER HERE\n",
    "mean.autocracies <- mean(...)               # Fill in the \"...\" with the appropriate code\n",
    "mean.democracies <- mean(...)               # Fill in the \"...\" with the appropriate code\n",
    "c(mean.autocracies,mean.democracies)"
   ]
  },
  {
   "cell_type": "markdown",
   "id": "12de363e",
   "metadata": {},
   "source": [
    "### Question 2b:\n",
    "Now let's assume we are working with random samples, and determine whether there is sufficient evidence of different GDP per capitas in our samples to warrant making any conclusion about the population of autocracies and democracies:"
   ]
  },
  {
   "cell_type": "code",
   "execution_count": 13,
   "id": "1e5a3c87",
   "metadata": {},
   "outputs": [
    {
     "ename": "ERROR",
     "evalue": "Error in eval(expr, envir, enclos): '...' used in an incorrect context\n",
     "output_type": "error",
     "traceback": [
      "Error in eval(expr, envir, enclos): '...' used in an incorrect context\nTraceback:\n"
     ]
    }
   ],
   "source": [
    "t.test(...,...)               # Fill in the \"...\" with the appropriate code"
   ]
  },
  {
   "cell_type": "markdown",
   "id": "56e4be5a",
   "metadata": {},
   "source": [
    "### Question 2c:\n",
    "What do you conclude about the population difference in GDP per capita between autocracies and democracies? Can we establish a causal relationship between GDP per capita and regime type?"
   ]
  },
  {
   "cell_type": "markdown",
   "id": "109dc010",
   "metadata": {},
   "source": [
    "*YOUR ANSWER HERE*"
   ]
  },
  {
   "cell_type": "markdown",
   "id": "fa5d3e7b",
   "metadata": {},
   "source": [
    "## Short Answer - Question 3 \n",
    "#### True or False, with a one sentence justification for each:"
   ]
  },
  {
   "cell_type": "markdown",
   "id": "55e42b0e",
   "metadata": {},
   "source": [
    "Only a very small (&lt;5) percentage of measurements can be more than 2 standard\n",
    "deviations from the mean of the normal distribution."
   ]
  },
  {
   "cell_type": "markdown",
   "id": "84f1cf94",
   "metadata": {},
   "source": [
    "*YOUR ANSWER HERE*"
   ]
  },
  {
   "cell_type": "markdown",
   "id": "e8d6a49b",
   "metadata": {},
   "source": [
    "Only a very small (&lt;5) percentage of measurements can be more than 2 standard\n",
    "deviations from the mean of the any distribution."
   ]
  },
  {
   "cell_type": "markdown",
   "id": "2a150723",
   "metadata": {},
   "source": [
    "*YOUR ANSWER HERE*"
   ]
  },
  {
   "cell_type": "markdown",
   "id": "aae6314e",
   "metadata": {},
   "source": [
    "If we would reject a null hypothesis at the 5% level, we would also reject it at the 1%\n",
    "level."
   ]
  },
  {
   "cell_type": "markdown",
   "id": "8e9e53da",
   "metadata": {},
   "source": [
    "*YOUR ANSWER HERE*"
   ]
  },
  {
   "cell_type": "markdown",
   "id": "ec5eb673",
   "metadata": {},
   "source": [
    "If we would reject a null hypothesis at the 1% level, we would also reject it at the 5%\n",
    "level."
   ]
  },
  {
   "cell_type": "markdown",
   "id": "43b4cde8",
   "metadata": {},
   "source": [
    "*YOUR ANSWER HERE*"
   ]
  },
  {
   "cell_type": "markdown",
   "id": "42f9f428",
   "metadata": {},
   "source": [
    "The p-value, which is the Type I error rate, is chosen by the investigator before a\n",
    "hypothesis test is conducted."
   ]
  },
  {
   "cell_type": "markdown",
   "id": "0ecdebaa",
   "metadata": {},
   "source": [
    "*YOUR ANSWER HERE*"
   ]
  },
  {
   "cell_type": "markdown",
   "id": "c3d9ae9a",
   "metadata": {},
   "source": [
    "The following table is based on a random sample conducted of high school seniors and\n",
    "their parents by Jennings and Niemi, in which they explore the party identification of\n",
    "parents and their children. "
   ]
  },
  {
   "cell_type": "markdown",
   "id": "66ce3724",
   "metadata": {},
   "source": [
    "## Coding Application - Question 4:"
   ]
  },
  {
   "cell_type": "code",
   "execution_count": 18,
   "id": "711e86c3",
   "metadata": {},
   "outputs": [
    {
     "data": {
      "text/plain": [
       "               Child_Party_ID\n",
       "Parent_Party_ID Democrat Independent Republican\n",
       "    Democrat         604         245         67\n",
       "    Independent      130         235         76\n",
       "    Republican        63         180        252"
      ]
     },
     "metadata": {},
     "output_type": "display_data"
    }
   ],
   "source": [
    "respond_table <- as.table(cbind(c(604, 130,63),c(245, 235,180),c(67,76,252)))\n",
    "dimnames(respond_table) <- list(Parent_Party_ID = c('Democrat', 'Independent', 'Republican'),\n",
    "                                Child_Party_ID = c('Democrat', 'Independent', 'Republican')\n",
    "                                )\n",
    "respond_table"
   ]
  },
  {
   "cell_type": "markdown",
   "id": "22a5edac",
   "metadata": {},
   "source": [
    "### Question 4a:\n",
    "Write the number of parents who's party id matches their kids."
   ]
  },
  {
   "cell_type": "code",
   "execution_count": 19,
   "id": "20b8d9a0",
   "metadata": {},
   "outputs": [
    {
     "ename": "ERROR",
     "evalue": "Error in eval(expr, envir, enclos): '...' used in an incorrect context\n",
     "output_type": "error",
     "traceback": [
      "Error in eval(expr, envir, enclos): '...' used in an incorrect context\nTraceback:\n"
     ]
    }
   ],
   "source": [
    "## YOUR ANSWER HERE\n",
    "sample_size <- sum(respond_table)\n",
    "democrat_same <- 604\n",
    "independent_same <- ...\n",
    "republican_same <- ..."
   ]
  },
  {
   "cell_type": "markdown",
   "id": "8332f2b3",
   "metadata": {},
   "source": [
    "### Question 4b:\n",
    "What percentage of Democrat parents have Republican children?"
   ]
  },
  {
   "cell_type": "code",
   "execution_count": 22,
   "id": "15c2be78",
   "metadata": {},
   "outputs": [
    {
     "ename": "ERROR",
     "evalue": "Error in eval(expr, envir, enclos): '...' used in an incorrect context\n",
     "output_type": "error",
     "traceback": [
      "Error in eval(expr, envir, enclos): '...' used in an incorrect context\nTraceback:\n"
     ]
    }
   ],
   "source": [
    "## YOUR ANSWER HERE\n",
    "dem_parent_rep_child <- .../sum(c(604,245,67))\n",
    "dem_parent_rep_child"
   ]
  },
  {
   "cell_type": "markdown",
   "id": "0ebe1caf",
   "metadata": {},
   "source": [
    "### Question 4c:\n",
    "Is there a relationship between parent and child party ID in the population? Why or why not? Hint: run a $\\chi^2$\n",
    "test."
   ]
  },
  {
   "cell_type": "code",
   "execution_count": 21,
   "id": "c7af27e6",
   "metadata": {},
   "outputs": [],
   "source": [
    "# YOUR CODE HERE TO RUN A CHI SQUARED TEST#"
   ]
  },
  {
   "cell_type": "markdown",
   "id": "b633064c",
   "metadata": {},
   "source": [
    "*YOUR ANSWER HERE TO WHETHER OR NOT THERE IS A POPULATION RELATIONSHIP AND WHY*"
   ]
  },
  {
   "cell_type": "markdown",
   "id": "40b4a847",
   "metadata": {},
   "source": [
    "## Saving Your Notebook\n",
    "Now that you've finished the homework, we need to save it! To do this, click <code>File</code> $\\rightarrow$ <code>Download as</code> $\\rightarrow$ <code>PDF via Chrome</code>"
   ]
  }
 ],
 "metadata": {
  "kernelspec": {
   "display_name": "R",
   "language": "R",
   "name": "ir"
  },
  "language_info": {
   "codemirror_mode": "r",
   "file_extension": ".r",
   "mimetype": "text/x-r-source",
   "name": "R",
   "pygments_lexer": "r",
   "version": "4.1.2"
  }
 },
 "nbformat": 4,
 "nbformat_minor": 5
}
