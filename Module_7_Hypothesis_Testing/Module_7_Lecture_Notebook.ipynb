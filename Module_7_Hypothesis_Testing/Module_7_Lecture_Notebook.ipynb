{
 "cells": [
  {
   "cell_type": "markdown",
   "id": "576696a5",
   "metadata": {},
   "source": [
    "## POLSCI 3 Summer 2022\n",
    "\n",
    "## Week 7 Lecture Notebook: Hypothesis Testing\n",
    "\n",
    "In this notebook we will learn how to evaluate hypotheses using R. We begin with tabular analysis (2 categorical variables), proceed to difference in means (1 categorical variable, 1 continuous variable), and end with the correlation coefficient (2 continuous variables)."
   ]
  },
  {
   "cell_type": "markdown",
   "id": "e38566f7",
   "metadata": {},
   "source": [
    "### Tabular Analysis  \n",
    "In the following example, we will explore how to determine if there is a relationship between two categorical variables. We start with the example from our textbook, on the relationship between gender and vote choice in the 2016 US presidential election. The table below contains a sample of 2440 voters who were asked their gender and vote choice in the election. Cell values are the number of respondents in the corresponding category. (See also the textbook, p. 170.) *Note that this table excludes the row and column totals. You do not need to understand how to create a table like this*."
   ]
  },
  {
   "cell_type": "code",
   "execution_count": 2,
   "id": "83a0644c",
   "metadata": {
    "vscode": {
     "languageId": "r"
    }
   },
   "outputs": [
    {
     "data": {
      "text/plain": [
       "         gender\n",
       "candidate Male Female\n",
       "  Clinton  532    737\n",
       "  Trump    596    575"
      ]
     },
     "metadata": {},
     "output_type": "display_data"
    }
   ],
   "source": [
    "respond_table <- as.table(cbind(c(532, 596),c (737, 575)))\n",
    "dimnames(respond_table) <- list(candidate = c(\"Clinton\",\"Trump\"),\n",
    "                                gender = c(\"Male\",\"Female\")\n",
    "                                )\n",
    "respond_table"
   ]
  },
  {
   "cell_type": "markdown",
   "id": "d5e08d3d",
   "metadata": {},
   "source": [
    "In the introductory lecture on tabular analysis we actually went through all the intermediate steps to determine whether there was a relationship:\n",
    "\n",
    "1. We computed the expected values of each cell under the null hypothesis.\n",
    "2. For the table we computed $$ \\chi^2 = \\sum \\frac{(Observed-Expected)^2}{Expected}$$\n",
    "\n",
    "3. We compared the computed value of $\\chi^2$ to the corresponding critical value to assess\n",
    "   whether we can reject the null hypothesis of no relationship.\n",
    "\n",
    "The nice thing about working in R is that R performs does all these computations for us in one command:"
   ]
  },
  {
   "cell_type": "code",
   "execution_count": 3,
   "id": "233acecf",
   "metadata": {
    "vscode": {
     "languageId": "r"
    }
   },
   "outputs": [
    {
     "data": {
      "text/plain": [
       "\n",
       "\tPearson's Chi-squared test with Yates' continuity correction\n",
       "\n",
       "data:  respond_table\n",
       "X-squared = 19.371, df = 1, p-value = 1.076e-05\n"
      ]
     },
     "metadata": {},
     "output_type": "display_data"
    }
   ],
   "source": [
    "chisq.test(respond_table)"
   ]
  },
  {
   "cell_type": "markdown",
   "id": "8bd1a649",
   "metadata": {},
   "source": [
    "Note the output of the `chisq.test` command gives not just the value of $\\chi^2$ but the degrees of freedom (df) and the p-value too. \n",
    "\n",
    "Recall that **a _p_-value is the probability of seeing an estimate as large or larger than the estimate we saw _if there was no relationship in the population_**. Note above that the p-value is super small, on the order of .00001\n",
    "\n",
    "Another way of thinking about what a _p_-value tells us: if we drew repeated random samples and computed the $\\chi^2$ for each one, what proportion of the time would we get an estimate this large if there were no relationship in the population (the null hypothesis)? In our example above it would be 1 in 100,000. \n",
    "\n",
    "**Social scientists have arbitrarily decided to denote all estimates with *p*-values below 0.05 statistically significant**. That means we have arbitrarily decided that, if there is a 1 in 20 chance or less that we would get the sample estimate we did if there were not relationship in the population, we decide to conclude for the sake of scientific discussions that there is a relationship in the population. (For reference, in physics they require _p_-values of 1 in 3.5 million.)"
   ]
  },
  {
   "cell_type": "markdown",
   "id": "0bff6a27",
   "metadata": {},
   "source": [
    "## Difference of Means\n",
    "\n",
    "When we have a continuous variable categorized by a categorical variable, we can use a *difference of means* test to determine if there is a relationship between the categorical variable and the continuous variable. For example, we would use a difference of means test to determine if there was a relationship between ice cream flavor (a categorical variable) and sales revenue (a continuous variable). \n",
    "\n",
    "In the example below, we follow the textbook (pp. 173-178) and analyze whether there is a significant difference in duration of governance between majority and minority governments. Our ex ante expectation is that majority governments last longer than minority governments. "
   ]
  },
  {
   "cell_type": "markdown",
   "id": "cbe11b80",
   "metadata": {},
   "source": [
    "First let's load in the data:"
   ]
  },
  {
   "cell_type": "code",
   "execution_count": 4,
   "id": "285bbef3",
   "metadata": {
    "vscode": {
     "languageId": "r"
    }
   },
   "outputs": [],
   "source": [
    "govts<-read.csv('govts.csv')"
   ]
  },
  {
   "cell_type": "markdown",
   "id": "23147d0c",
   "metadata": {},
   "source": [
    "Here is the codebook that describes the variables:\n",
    "\n",
    "`nation`: the name of the country\n",
    "\n",
    "`govtdate`: the date the government takes power\n",
    "\n",
    "`govttime`: the amount of time in days the government is in control\n",
    "\n",
    "`mingov`: a binary categorical variable where 1 signifies a minority government and 0 a majority government"
   ]
  },
  {
   "cell_type": "code",
   "execution_count": 6,
   "id": "b407ca51",
   "metadata": {
    "vscode": {
     "languageId": "r"
    }
   },
   "outputs": [
    {
     "data": {
      "text/html": [
       "<table class=\"dataframe\">\n",
       "<caption>A data.frame: 6 × 4</caption>\n",
       "<thead>\n",
       "\t<tr><th></th><th scope=col>nation</th><th scope=col>govtdate</th><th scope=col>govttime</th><th scope=col>mingov</th></tr>\n",
       "\t<tr><th></th><th scope=col>&lt;chr&gt;</th><th scope=col>&lt;int&gt;</th><th scope=col>&lt;dbl&gt;</th><th scope=col>&lt;dbl&gt;</th></tr>\n",
       "</thead>\n",
       "<tbody>\n",
       "\t<tr><th scope=row>1</th><td>Italy  </td><td>530717</td><td> 31</td><td>1</td></tr>\n",
       "\t<tr><th scope=row>2</th><td>Denmark</td><td>500915</td><td> 42</td><td>1</td></tr>\n",
       "\t<tr><th scope=row>3</th><td>Belgium</td><td>740425</td><td> 48</td><td>1</td></tr>\n",
       "\t<tr><th scope=row>4</th><td>Belgium</td><td>500630</td><td> 49</td><td>0</td></tr>\n",
       "\t<tr><th scope=row>5</th><td>Iceland</td><td>710614</td><td>117</td><td>0</td></tr>\n",
       "\t<tr><th scope=row>6</th><td>Belgium</td><td>580626</td><td>134</td><td>1</td></tr>\n",
       "</tbody>\n",
       "</table>\n"
      ],
      "text/latex": [
       "A data.frame: 6 × 4\n",
       "\\begin{tabular}{r|llll}\n",
       "  & nation & govtdate & govttime & mingov\\\\\n",
       "  & <chr> & <int> & <dbl> & <dbl>\\\\\n",
       "\\hline\n",
       "\t1 & Italy   & 530717 &  31 & 1\\\\\n",
       "\t2 & Denmark & 500915 &  42 & 1\\\\\n",
       "\t3 & Belgium & 740425 &  48 & 1\\\\\n",
       "\t4 & Belgium & 500630 &  49 & 0\\\\\n",
       "\t5 & Iceland & 710614 & 117 & 0\\\\\n",
       "\t6 & Belgium & 580626 & 134 & 1\\\\\n",
       "\\end{tabular}\n"
      ],
      "text/markdown": [
       "\n",
       "A data.frame: 6 × 4\n",
       "\n",
       "| <!--/--> | nation &lt;chr&gt; | govtdate &lt;int&gt; | govttime &lt;dbl&gt; | mingov &lt;dbl&gt; |\n",
       "|---|---|---|---|---|\n",
       "| 1 | Italy   | 530717 |  31 | 1 |\n",
       "| 2 | Denmark | 500915 |  42 | 1 |\n",
       "| 3 | Belgium | 740425 |  48 | 1 |\n",
       "| 4 | Belgium | 500630 |  49 | 0 |\n",
       "| 5 | Iceland | 710614 | 117 | 0 |\n",
       "| 6 | Belgium | 580626 | 134 | 1 |\n",
       "\n"
      ],
      "text/plain": [
       "  nation  govtdate govttime mingov\n",
       "1 Italy   530717    31      1     \n",
       "2 Denmark 500915    42      1     \n",
       "3 Belgium 740425    48      1     \n",
       "4 Belgium 500630    49      0     \n",
       "5 Iceland 710614   117      0     \n",
       "6 Belgium 580626   134      1     "
      ]
     },
     "metadata": {},
     "output_type": "display_data"
    }
   ],
   "source": [
    "head(govts)"
   ]
  },
  {
   "cell_type": "markdown",
   "id": "020b0c74",
   "metadata": {},
   "source": [
    "We need to plot the distributions of <code>govttime</code> for minority and majority governments. \n",
    "Let's start by creating two subsets, one for minority governments and one for majority governments. "
   ]
  },
  {
   "cell_type": "code",
   "execution_count": 7,
   "id": "e230d1b0",
   "metadata": {
    "vscode": {
     "languageId": "r"
    }
   },
   "outputs": [],
   "source": [
    "min<-subset(govts,mingov==1)\n",
    "maj<-subset(govts,mingov==0)"
   ]
  },
  {
   "cell_type": "markdown",
   "id": "1213f964",
   "metadata": {},
   "source": [
    "Now let's plot the densities of <code>govttime</code> for each type of government. (Compare to Figure 8.2 in the textbook.)"
   ]
  },
  {
   "cell_type": "code",
   "execution_count": 8,
   "id": "cc8c3be0",
   "metadata": {
    "vscode": {
     "languageId": "r"
    }
   },
   "outputs": [
    {
     "data": {
      "image/png": "[encoded data removed]",
      "text/plain": [
       "Plot with title “density.default(x = min$govttime)”"
      ]
     },
     "metadata": {
      "image/png": {
       "height": 420,
       "width": 420
      }
     },
     "output_type": "display_data"
    }
   ],
   "source": [
    "plot(density(min$govttime), col = \"blue\", xlim = c(0, 2000))\n",
    "lines(density(maj$govttime), col = \"red\")"
   ]
  },
  {
   "cell_type": "markdown",
   "id": "89932128",
   "metadata": {},
   "source": [
    "Are the mean durations for majority and minority governments sufficiently different from one another to justify rejecting the null hypothesis of no difference? In the difference of means lecture we computed the standard errors, t-statistic, and degrees of freedom by hand. The advantage of R is that R has a built in function for a difference of means test:"
   ]
  },
  {
   "cell_type": "code",
   "execution_count": 9,
   "id": "bc8b9917",
   "metadata": {
    "vscode": {
     "languageId": "r"
    }
   },
   "outputs": [
    {
     "data": {
      "text/plain": [
       "\n",
       "\tWelch Two Sample t-test\n",
       "\n",
       "data:  maj$govttime and min$govttime\n",
       "t = 3.5859, df = 108.12, p-value = 0.0005058\n",
       "alternative hypothesis: true difference in means is not equal to 0\n",
       "95 percent confidence interval:\n",
       " 114.5565 397.7265\n",
       "sample estimates:\n",
       "mean of x mean of y \n",
       " 930.5000  674.3585 \n"
      ]
     },
     "metadata": {},
     "output_type": "display_data"
    }
   ],
   "source": [
    "t.test(maj$govttime, min$govttime)"
   ]
  },
  {
   "cell_type": "markdown",
   "id": "78b06c41",
   "metadata": {},
   "source": [
    "Recall that a t-statistic is the ratio of the estimate (sanple difference in means) to the standard error:\n",
    "\n",
    "$t = \\frac{\\text{Estimate}}{\\text{Standard Error}}$\n",
    "\n",
    "**The _t_-statistic is a way to measure how likely it is that an estimate of the size we saw would arise by chance even if in the population there was no difference in means.** The larger the t-value, the smaller the p-value. \n",
    "\n",
    "By convention, **we call an estimate _statistically significant_ if the _t_-statistic is larger than 1.96 (either lower than -1.96 or larger than 1.96).** Smaller than that (closer to zero), and we generally conclude that our estimate could have arisen by chance (and we do not reject the null hypothesis)."
   ]
  },
  {
   "cell_type": "markdown",
   "id": "49233d5c",
   "metadata": {},
   "source": [
    "## Pearson's r: Continuous Variables\n",
    "When both variables are continuous, we want to measure their *correlation*: the degree to which one of the variable's change in value coincides with a similar change in value in the other variable. In the following example, we return to our earlier dataset on elections and explore the correlation between GDP and incumbent vote share. We expect this correlation to be positive. That is, as GDP growth increases, we expect incumbent vote share to increase also.  "
   ]
  },
  {
   "cell_type": "code",
   "execution_count": 10,
   "id": "dc28c03b",
   "metadata": {
    "vscode": {
     "languageId": "r"
    }
   },
   "outputs": [
    {
     "data": {
      "text/html": [
       "<table class=\"dataframe\">\n",
       "<caption>A data.frame: 6 × 5</caption>\n",
       "<thead>\n",
       "\t<tr><th></th><th scope=col>inc_vote</th><th scope=col>year</th><th scope=col>inflation</th><th scope=col>goodnews</th><th scope=col>growth</th></tr>\n",
       "\t<tr><th></th><th scope=col>&lt;dbl&gt;</th><th scope=col>&lt;dbl&gt;</th><th scope=col>&lt;dbl&gt;</th><th scope=col>&lt;dbl&gt;</th><th scope=col>&lt;dbl&gt;</th></tr>\n",
       "</thead>\n",
       "<tbody>\n",
       "\t<tr><th scope=row>1</th><td>48.516</td><td>1876</td><td>   NA</td><td>NA</td><td>  5.110</td></tr>\n",
       "\t<tr><th scope=row>2</th><td>50.220</td><td>1880</td><td>1.974</td><td> 9</td><td>  3.879</td></tr>\n",
       "\t<tr><th scope=row>3</th><td>49.846</td><td>1884</td><td>1.055</td><td> 2</td><td>  1.589</td></tr>\n",
       "\t<tr><th scope=row>4</th><td>50.414</td><td>1888</td><td>0.604</td><td> 3</td><td> -5.553</td></tr>\n",
       "\t<tr><th scope=row>5</th><td>48.268</td><td>1892</td><td>2.274</td><td> 7</td><td>  2.763</td></tr>\n",
       "\t<tr><th scope=row>6</th><td>47.760</td><td>1896</td><td>3.410</td><td> 6</td><td>-10.024</td></tr>\n",
       "</tbody>\n",
       "</table>\n"
      ],
      "text/latex": [
       "A data.frame: 6 × 5\n",
       "\\begin{tabular}{r|lllll}\n",
       "  & inc\\_vote & year & inflation & goodnews & growth\\\\\n",
       "  & <dbl> & <dbl> & <dbl> & <dbl> & <dbl>\\\\\n",
       "\\hline\n",
       "\t1 & 48.516 & 1876 &    NA & NA &   5.110\\\\\n",
       "\t2 & 50.220 & 1880 & 1.974 &  9 &   3.879\\\\\n",
       "\t3 & 49.846 & 1884 & 1.055 &  2 &   1.589\\\\\n",
       "\t4 & 50.414 & 1888 & 0.604 &  3 &  -5.553\\\\\n",
       "\t5 & 48.268 & 1892 & 2.274 &  7 &   2.763\\\\\n",
       "\t6 & 47.760 & 1896 & 3.410 &  6 & -10.024\\\\\n",
       "\\end{tabular}\n"
      ],
      "text/markdown": [
       "\n",
       "A data.frame: 6 × 5\n",
       "\n",
       "| <!--/--> | inc_vote &lt;dbl&gt; | year &lt;dbl&gt; | inflation &lt;dbl&gt; | goodnews &lt;dbl&gt; | growth &lt;dbl&gt; |\n",
       "|---|---|---|---|---|---|\n",
       "| 1 | 48.516 | 1876 |    NA | NA |   5.110 |\n",
       "| 2 | 50.220 | 1880 | 1.974 |  9 |   3.879 |\n",
       "| 3 | 49.846 | 1884 | 1.055 |  2 |   1.589 |\n",
       "| 4 | 50.414 | 1888 | 0.604 |  3 |  -5.553 |\n",
       "| 5 | 48.268 | 1892 | 2.274 |  7 |   2.763 |\n",
       "| 6 | 47.760 | 1896 | 3.410 |  6 | -10.024 |\n",
       "\n"
      ],
      "text/plain": [
       "  inc_vote year inflation goodnews growth \n",
       "1 48.516   1876    NA     NA         5.110\n",
       "2 50.220   1880 1.974      9         3.879\n",
       "3 49.846   1884 1.055      2         1.589\n",
       "4 50.414   1888 0.604      3        -5.553\n",
       "5 48.268   1892 2.274      7         2.763\n",
       "6 47.760   1896 3.410      6       -10.024"
      ]
     },
     "metadata": {},
     "output_type": "display_data"
    }
   ],
   "source": [
    "elections <- read.csv('FairFPSR3.csv')\n",
    "head(elections)"
   ]
  },
  {
   "cell_type": "markdown",
   "id": "a97d2184",
   "metadata": {},
   "source": [
    "Here is the codebook:\n",
    "\n",
    "`inc_vote`: % of major party presidential vote won by incumbent party\n",
    "\n",
    "`year`: Year of the presidential election\n",
    "\n",
    "`inflation`: Inflation rate\n",
    "\n",
    "`goodnews`: Number of quarters in the first 15 quarters of admin in which econ growth>3.2%\n",
    "\n",
    "`growth`: % change in real GDP per capita"
   ]
  },
  {
   "cell_type": "markdown",
   "id": "8024fbac",
   "metadata": {},
   "source": [
    "When computing correlations it is always a good idea to visualize the variables you are correlating by graphing them. (See also Figure 8.3 in the textbook.)"
   ]
  },
  {
   "cell_type": "code",
   "execution_count": 11,
   "id": "60616b6e",
   "metadata": {
    "vscode": {
     "languageId": "r"
    }
   },
   "outputs": [
    {
     "data": {
      "image/png": "[encoded data removed]",
      "text/plain": [
       "plot without title"
      ]
     },
     "metadata": {
      "image/png": {
       "height": 420,
       "width": 420
      }
     },
     "output_type": "display_data"
    }
   ],
   "source": [
    "plot(elections$growth,elections$inc_vote)   # First variable is X axis, second variable is Y axis"
   ]
  },
  {
   "cell_type": "markdown",
   "id": "1da1972a",
   "metadata": {},
   "source": [
    "Is the relationship positive? negative? Or is there no relationship between the variables?"
   ]
  },
  {
   "cell_type": "markdown",
   "id": "af7c5b01",
   "metadata": {},
   "source": [
    "To calculate the population correlation coefficient in R, we use `cor.test(X,Y)` where X and Y are \n",
    "variables. Below, we calculate the correlation coefficient for growth and incumbent vote share:"
   ]
  },
  {
   "cell_type": "code",
   "execution_count": 12,
   "id": "f12a87f8",
   "metadata": {
    "vscode": {
     "languageId": "r"
    }
   },
   "outputs": [
    {
     "data": {
      "text/plain": [
       "\n",
       "\tPearson's product-moment correlation\n",
       "\n",
       "data:  elections$growth and elections$inc_vote\n",
       "t = 4.0319, df = 34, p-value = 0.0002955\n",
       "alternative hypothesis: true correlation is not equal to 0\n",
       "95 percent confidence interval:\n",
       " 0.2954061 0.7560163\n",
       "sample estimates:\n",
       "      cor \n",
       "0.5687443 \n"
      ]
     },
     "metadata": {},
     "output_type": "display_data"
    }
   ],
   "source": [
    "cor.test(elections$growth,elections$inc_vote)"
   ]
  },
  {
   "cell_type": "markdown",
   "id": "8949b3b6",
   "metadata": {},
   "source": [
    "Given the above output, what can we conclude about the relationsip between GDP growth and incumbent vote share?"
   ]
  },
  {
   "cell_type": "markdown",
   "id": "b35d4892",
   "metadata": {},
   "source": [
    "## Interactive Visual \n",
    "The code in the following cell generates a distribution based on its correlation with the random uniform distirubtion x. This is meant to visualize what the effect of increasing or decreasing the correlation has on the visual relationship between variables. YOU DO NOT NEED TO UNDERSTAND HOW THIS CELL WORKS."
   ]
  },
  {
   "cell_type": "markdown",
   "id": "b041a050",
   "metadata": {},
   "source": [
    "<center>\n",
    "    <h1>\n",
    "        <a href=\"https://datahub.berkeley.edu/hub/user-redirect/git-pull?repo=https%3A%2F%2Fgithub.com%2Fds-modules%2Fpolisci-3&branch=main&urlpath=shiny%2Fpolisci-3%2FModule_7_Hypothesis_Testing%2F\">\n",
    "        Link to interactive version of the cell below\n",
    "        </a>\n",
    "    </h1>\n",
    "</center>"
   ]
  },
  {
   "cell_type": "code",
   "execution_count": 16,
   "id": "dd31bc85",
   "metadata": {
    "vscode": {
     "languageId": "r"
    }
   },
   "outputs": [
    {
     "data": {
      "image/png": "[encoded data removed]",
      "text/plain": [
       "plot without title"
      ]
     },
     "metadata": {
      "image/png": {
       "height": 420,
       "width": 420
      }
     },
     "output_type": "display_data"
    }
   ],
   "source": [
    "x=runif(n=50, min=0, max=1)\n",
    "simcor = function (x, correlation) { \n",
    "    n = length(x)\n",
    "    ymean = 0\n",
    "    ysd = 1\n",
    "    y = rnorm(n) \n",
    "    z = correlation * scale(x)[,1] + sqrt(1 - correlation^2) * scale(resid(lm(y ~ x)))[,1] \n",
    "    yresult = ymean + ysd * z \n",
    "    yresult }\n",
    "y=simcor(x,-1)                                 # Try changing the 0.5 to something else between -1 and 1 \n",
    "                                               # and reexecuting cell\n",
    "plot(x,y)"
   ]
  },
  {
   "cell_type": "markdown",
   "id": "3768ff55",
   "metadata": {},
   "source": [
    "#### Reminder about Peer Consulting Office Hours\n",
    "\n",
    "If you had trouble with any content in this notebook, Data Peer Consultants are here to help! You \n",
    "can view their locations and availabilites at this link: https://data.berkeley.edu/degrees/peer-advising.\n",
    "Peer Consultants are there to answer all data-related questions, whether it be about the content of this notebook,\n",
    "applications of data science in the world or other data science courses offered at Berkeley -- \n",
    "make sure to take advantage of this wonderful resource!"
   ]
  }
 ],
 "metadata": {
  "kernelspec": {
   "display_name": "R",
   "language": "R",
   "name": "ir"
  },
  "language_info": {
   "codemirror_mode": "r",
   "file_extension": ".r",
   "mimetype": "text/x-r-source",
   "name": "R",
   "pygments_lexer": "r",
   "version": "4.1.2"
  }
 },
 "nbformat": 4,
 "nbformat_minor": 5
}
