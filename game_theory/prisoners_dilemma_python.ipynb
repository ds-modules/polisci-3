{
 "cells": [
  {
   "cell_type": "code",
   "execution_count": 1,
   "metadata": {
    "execution": {
     "iopub.execute_input": "2022-09-12T19:20:29.258156Z",
     "iopub.status.busy": "2022-09-12T19:20:29.256799Z",
     "iopub.status.idle": "2022-09-12T19:20:30.268909Z",
     "shell.execute_reply": "2022-09-12T19:20:30.267739Z",
     "shell.execute_reply.started": "2022-09-12T19:20:29.258072Z"
    }
   },
   "outputs": [],
   "source": [
    "import pandas as pd, numpy as np, ipywidgets as widgets, random, dilemma\n",
    "from ipywidgets import *"
   ]
  },
  {
   "cell_type": "markdown",
   "metadata": {},
   "source": [
    "# Prisoner's Dilemma"
   ]
  },
  {
   "cell_type": "markdown",
   "metadata": {},
   "source": [
    "## Part 1: The Iterated Prisoner's Dilemma\n",
    "\n",
    "The [prisoner's dilemma](https://en.wikipedia.org/wiki/Prisoner%27s_dilemma) is a classic game first discussed by Merrill Flood and Melvin Dresher in 1950. In this game, there are two prisoners who have been captured and are being interrogated. The prisoners cannot contact each other in any way. They have two options: they can **defect** (betray the other prisoner to the police) or they can **cooperate** (maintain their silence). If both defect, both receive 4 years in prison. If one defects and the other does not, the defector goes free and the cooperator receives 5 years in prison. If both cooperate (meaning neither talks to the police), then they each receive 2 years in prison. We define **mutual defection** as the case when both prisoners defect and **mutual cooperation** as the case when both cooperate. The purpose of this game is to consider how a completely rational person would be best advised to proceed, and how different strategies for playing this game can be more or less effective.\n",
    "\n",
    "<table>\n",
    "    \n",
    "<tr style=\"background-color: white;\"><td></td><td></td><td colspan=\"2\">Prisoner A</td></tr>\n",
    "<tr><td></td><td></td><td>Cooperate</td><td>Defect</td></tr>\n",
    "<tr style=\"background-color: white;\"><td rowspan=\"2\">Prisoner B</td><td>Cooperate</td><td style=\"background-color: #F5F5F5;\">A: 2, B: 2</td><td>A: 0, B: 5</td></tr>\n",
    "<tr><td>Defect</td><td>A: 5, B: 0</td><td style=\"background-color: #F5F5F5;\">A: 4, B: 4</td></tr>\n",
    "    \n",
    "</table>\n",
    "\n",
    "In this project, we will study the **iterated prisoner's dilemma**, a game paradigm in which the prisoner's dilemma is played over multiple rounds and in tournaments to determine the best strategy for playing the game. In this way, we define strategies as methods for determining whether a play will cooperate or defect at any single round based on this history of past moves. This differs from the normal prisoner's dilemma in that we play the game multiple times and incorporate strategies going beyond any single iteration.\n",
    "\n",
    "This paradigm was introduced by [Robert Axelrod](https://en.wikipedia.org/wiki/Robert_Axelrod) to use the prisoner's dilemma as a lens through which to study the Cold War during the Cuban Missile Crisis. Axelrod created a tournament out of an iterated prisoner's dilemma and invited theoreticians to write programs that could strategically play the game, and then pitted them one against another in a round-robin-style tournament."
   ]
  },
  {
   "cell_type": "markdown",
   "metadata": {},
   "source": [
    "To play Prisoner's Dilemma, you can choose strategies including \"Cooperate\" or \"Defect\" using the dropdown menus. For Player 2, you can also pick to have Player 2 copy what Player 1 does by selecting \"Copy\". You can also select \"Random\" to get a random strategy for Player 2.\n",
    "\n",
    "To have the game play, hit the button to start/stop play. The result for the round will automatically appear in the table below. Summary statistics for all rounds of the game will appear below the table with each round. \n",
    "\n",
    "To reset the game, re-run the cell by clicking on it and hitting `Ctrl + Enter` (Windows) or `Command + Return` (Mac)"
   ]
  },
  {
   "cell_type": "code",
   "execution_count": 2,
   "metadata": {
    "execution": {
     "iopub.execute_input": "2022-09-12T19:20:30.271789Z",
     "iopub.status.busy": "2022-09-12T19:20:30.270758Z",
     "iopub.status.idle": "2022-09-12T19:20:30.339873Z",
     "shell.execute_reply": "2022-09-12T19:20:30.333141Z",
     "shell.execute_reply.started": "2022-09-12T19:20:30.271708Z"
    },
    "tags": []
   },
   "outputs": [
    {
     "data": {
      "application/vnd.jupyter.widget-view+json": {
       "model_id": "9673e4bbe1e243ad968a444ab4eb599d",
       "version_major": 2,
       "version_minor": 0
      },
      "text/plain": [
       "interactive(children=(Dropdown(description='Player 1', options=('Cooperate', 'Defect'), value='Cooperate'), Dr…"
      ]
     },
     "metadata": {},
     "output_type": "display_data"
    }
   ],
   "source": [
    "@interact(p1 = dilemma.p1, p2 = dilemma.p2, play_flag = dilemma.play_flag)\n",
    "def play_prisioners_dilemma(p1, p2, play_flag):\n",
    "    return dilemma.play_pd(p1, p2, play_flag)"
   ]
  }
 ],
 "metadata": {
  "kernelspec": {
   "display_name": "Python 3 (ipykernel)",
   "language": "python",
   "name": "python3"
  },
  "language_info": {
   "codemirror_mode": {
    "name": "ipython",
    "version": 3
   },
   "file_extension": ".py",
   "mimetype": "text/x-python",
   "name": "python",
   "nbconvert_exporter": "python",
   "pygments_lexer": "ipython3",
   "version": "3.10.1"
  },
  "widgets": {
   "application/vnd.jupyter.widget-state+json": {
    "state": {
     "0b4b326e92dc4a2593ebd65c7f21869c": {
      "model_module": "@jupyter-widgets/base",
      "model_module_version": "1.2.0",
      "model_name": "LayoutModel",
      "state": {}
     },
     "38a78461583a40dab7450540cdc1e285": {
      "model_module": "@jupyter-widgets/base",
      "model_module_version": "1.2.0",
      "model_name": "LayoutModel",
      "state": {}
     },
     "4863e9412dbc4a4e8a66088fbc33afa5": {
      "model_module": "@jupyter-widgets/controls",
      "model_module_version": "1.5.0",
      "model_name": "ToggleButtonModel",
      "state": {
       "description": "Click to Start/Stop Play",
       "layout": "IPY_MODEL_c7a43057ab3f43da916c63592e879ab4",
       "style": "IPY_MODEL_d14c115cad38485cbb92a452e380f894",
       "tooltip": "Click to start/stop play"
      }
     },
     "51818fc03e2d4c8f9dfe5b86c9bf3dc9": {
      "model_module": "@jupyter-widgets/controls",
      "model_module_version": "1.5.0",
      "model_name": "DropdownModel",
      "state": {
       "_options_labels": [
        "Cooperate",
        "Defect"
       ],
       "description": "Player 1",
       "index": 0,
       "layout": "IPY_MODEL_0b4b326e92dc4a2593ebd65c7f21869c",
       "style": "IPY_MODEL_e6ad5628cafb469ab9674eaf047e941f"
      }
     },
     "53165960324743cb88a8e70c2293ab89": {
      "model_module": "@jupyter-widgets/base",
      "model_module_version": "1.2.0",
      "model_name": "LayoutModel",
      "state": {}
     },
     "8926b4a0e37a4cc4988d04ff2cd93d17": {
      "model_module": "@jupyter-widgets/controls",
      "model_module_version": "1.5.0",
      "model_name": "DescriptionStyleModel",
      "state": {
       "description_width": ""
      }
     },
     "95ac9c861e0a408491ddb7ad2825b36c": {
      "model_module": "@jupyter-widgets/base",
      "model_module_version": "1.2.0",
      "model_name": "LayoutModel",
      "state": {}
     },
     "9673e4bbe1e243ad968a444ab4eb599d": {
      "model_module": "@jupyter-widgets/controls",
      "model_module_version": "1.5.0",
      "model_name": "VBoxModel",
      "state": {
       "_dom_classes": [
        "widget-interact"
       ],
       "children": [
        "IPY_MODEL_51818fc03e2d4c8f9dfe5b86c9bf3dc9",
        "IPY_MODEL_bde692bb5926441ebc52bb0cf6f19430",
        "IPY_MODEL_4863e9412dbc4a4e8a66088fbc33afa5",
        "IPY_MODEL_f53e75ca79b84fecbff174bb9e707406"
       ],
       "layout": "IPY_MODEL_38a78461583a40dab7450540cdc1e285"
      }
     },
     "bde692bb5926441ebc52bb0cf6f19430": {
      "model_module": "@jupyter-widgets/controls",
      "model_module_version": "1.5.0",
      "model_name": "DropdownModel",
      "state": {
       "_options_labels": [
        "Cooperate",
        "Defect",
        "Copy",
        "Random"
       ],
       "description": "Player 2",
       "index": 0,
       "layout": "IPY_MODEL_95ac9c861e0a408491ddb7ad2825b36c",
       "style": "IPY_MODEL_8926b4a0e37a4cc4988d04ff2cd93d17"
      }
     },
     "c7a43057ab3f43da916c63592e879ab4": {
      "model_module": "@jupyter-widgets/base",
      "model_module_version": "1.2.0",
      "model_name": "LayoutModel",
      "state": {
       "height": "30px",
       "width": "30%"
      }
     },
     "d14c115cad38485cbb92a452e380f894": {
      "model_module": "@jupyter-widgets/controls",
      "model_module_version": "1.5.0",
      "model_name": "DescriptionStyleModel",
      "state": {
       "description_width": ""
      }
     },
     "e6ad5628cafb469ab9674eaf047e941f": {
      "model_module": "@jupyter-widgets/controls",
      "model_module_version": "1.5.0",
      "model_name": "DescriptionStyleModel",
      "state": {
       "description_width": ""
      }
     },
     "f53e75ca79b84fecbff174bb9e707406": {
      "model_module": "@jupyter-widgets/output",
      "model_module_version": "1.0.0",
      "model_name": "OutputModel",
      "state": {
       "layout": "IPY_MODEL_53165960324743cb88a8e70c2293ab89",
       "outputs": [
        {
         "data": {
          "text/markdown": "<center><h2>Click the button above to play!</h2></center>",
          "text/plain": "<IPython.core.display.Markdown object>"
         },
         "metadata": {},
         "output_type": "display_data"
        },
        {
         "data": {
          "text/markdown": "<center><h2>To play another round with the same options forboth player 1 and palyer 2, press the button twice!</h2></center>",
          "text/plain": "<IPython.core.display.Markdown object>"
         },
         "metadata": {},
         "output_type": "display_data"
        }
       ]
      }
     }
    },
    "version_major": 2,
    "version_minor": 0
   }
  }
 },
 "nbformat": 4,
 "nbformat_minor": 4
}
