{
 "cells": [
  {
   "cell_type": "code",
   "execution_count": 36,
   "metadata": {},
   "outputs": [],
   "source": [
    "import pandas as pd\n",
    "import numpy as np\n",
    "import ipywidgets as widgets\n",
    "from ipywidgets import interact, interactive, fixed, interact_manual"
   ]
  },
  {
   "cell_type": "markdown",
   "metadata": {},
   "source": [
    "# Prisoner's Dilemma"
   ]
  },
  {
   "cell_type": "markdown",
   "metadata": {},
   "source": [
    "## Part 1: The Iterated Prisoner's Dilemma\n",
    "\n",
    "The [prisoner's dilemma](https://en.wikipedia.org/wiki/Prisoner%27s_dilemma) is a classic game first discussed by Merrill Flood and Melvin Dresher in 1950. In this game, there are two prisoners who have been captured and are being interrogated. The prisoners cannot contact each other in any way. They have two options: they can **defect** (betray the other prisoner to the police) or they can **cooperate** (maintain their silence). If both defect, both receive 4 years in prison. If one defects and the other does not, the defector goes free and the cooperator receives 5 years in prison. If both cooperate (meaning neither talks to the police), then they each receive 2 years in prison. We define **mutual defection** as the case when both prisoners defect and **mutual cooperation** as the case when both cooperate. The purpose of this game is to consider how a completely rational person would be best advised to proceed, and how different strategies for playing this game can be more or less effective.\n",
    "\n",
    "<table>\n",
    "    \n",
    "<tr style=\"background-color: white;\"><td></td><td></td><td colspan=\"2\">Prisoner A</td></tr>\n",
    "<tr><td></td><td></td><td>Cooperate</td><td>Defect</td></tr>\n",
    "<tr style=\"background-color: white;\"><td rowspan=\"2\">Prisoner B</td><td>Cooperate</td><td style=\"background-color: #F5F5F5;\">A: 2, B: 2</td><td>A: 0, B: 5</td></tr>\n",
    "<tr><td>Defect</td><td>A: 5, B: 0</td><td style=\"background-color: #F5F5F5;\">A: 4, B: 4</td></tr>\n",
    "    \n",
    "</table>\n",
    "\n",
    "In this project, we will study the **iterated prisoner's dilemma**, a game paradigm in which the prisoner's dilemma is played over multiple rounds and in tournaments to determine the best strategy for playing the game. In this way, we define strategies as methods for determining whether a play will cooperate or defect at any single round based on this history of past moves. This differs from the normal prisoner's dilemma in that we play the game multiple times and incorporate strategies going beyond any single iteration.\n",
    "\n",
    "This paradigm was introduced by [Robert Axelrod](https://en.wikipedia.org/wiki/Robert_Axelrod) to use the prisoner's dilemma as a lens through which to study the Cold War during the Cuban Missile Crisis. Axelrod created a tournament out of an iterated prisoner's dilemma and invited theoreticians to write programs that could strategically play the game, and then pitted them one against another in a round-robin-style tournament."
   ]
  },
  {
   "cell_type": "code",
   "execution_count": 37,
   "metadata": {
    "tags": []
   },
   "outputs": [],
   "source": [
    "def run_prisoners_dilemma(player1, player2, output_df, summary_df):\n",
    "    player_1_strat=player1\n",
    "    player_2_strat=player2\n",
    "\n",
    "    if (player_1_strat == \"Cooperate\") and (player_2_strat == \"Cooperate\"):\n",
    "        output_df.loc[len(output_df.index)]=[3,3]\n",
    "    elif (player_1_strat ==\"Cooperate\") and (player_2_strat ==\"Defect\"):\n",
    "        output_df.loc[len(output_df.index)]=[0,5]\n",
    "    elif (player_2_strat ==\"Cooperate\") and (player_1_strat ==\"Defect\"):\n",
    "        output_df.loc[len(output_df.index)]=[5,0]\n",
    "    else:\n",
    "        output_df.loc[len(output_df.index)]=[1,1]\n",
    "\n",
    "\n",
    "    summary_df.loc[\"Sum\"]=[sum(output_df[\"Player 1 Payoff\"]),sum(output_df[\"Player 2 Payoff\"])]\n",
    "    summary_df.loc[\"Mean\"]=[np.mean(output_df[\"Player 1 Payoff\"]),np.mean(output_df[\"Player 2 Payoff\"])]"
   ]
  },
  {
   "cell_type": "code",
   "execution_count": 49,
   "metadata": {},
   "outputs": [],
   "source": [
    "\n",
    "def play_pd(p1,p2, play_flag):\n",
    "    if play_flag:\n",
    "        run_prisoners_dilemma(p1,p2, output_df, summary_df)\n",
    "        display(output_df)\n",
    "        display(summary_df)\n",
    "    play_flag=False"
   ]
  },
  {
   "cell_type": "code",
   "execution_count": 51,
   "metadata": {},
   "outputs": [
    {
     "data": {
      "application/vnd.jupyter.widget-view+json": {
       "model_id": "d3e44d4668d4494196891cde81bc32fb",
       "version_major": 2,
       "version_minor": 0
      },
      "text/plain": [
       "interactive(children=(Dropdown(description='Player 1', options=('Cooperate', 'Defect'), value='Cooperate'), Dr…"
      ]
     },
     "metadata": {},
     "output_type": "display_data"
    }
   ],
   "source": [
    "\n",
    "output_df = pd.DataFrame(columns=[\"Player 1 Payoff\",\"Player 2 Payoff\"])\n",
    "summary_df = pd.DataFrame(columns=[\"Player 1\",\"Player 2\"], index=[\"Sum\",\"Mean\"])\n",
    "interact(play_pd, p1=widgets.Dropdown(\n",
    "options=[\"Cooperate\",\"Defect\"],\n",
    "value=\"Cooperate\",\n",
    "description='Player 1',\n",
    "disabled=False\n",
    "), p2=widgets.Dropdown(\n",
    "options=[\"Cooperate\",\"Defect\"],\n",
    "value=\"Cooperate\",\n",
    "description='Player 2',\n",
    "disabled=False\n",
    "),play_flag=[False,True]);"
   ]
  },
  {
   "cell_type": "code",
   "execution_count": null,
   "metadata": {},
   "outputs": [],
   "source": []
  },
  {
   "cell_type": "code",
   "execution_count": null,
   "metadata": {},
   "outputs": [],
   "source": []
  }
 ],
 "metadata": {
  "kernelspec": {
   "display_name": "python310",
   "language": "python",
   "name": "python310"
  },
  "language_info": {
   "codemirror_mode": {
    "name": "ipython",
    "version": 3
   },
   "file_extension": ".py",
   "mimetype": "text/x-python",
   "name": "python",
   "nbconvert_exporter": "python",
   "pygments_lexer": "ipython3",
   "version": "3.7.6"
  }
 },
 "nbformat": 4,
 "nbformat_minor": 4
}
