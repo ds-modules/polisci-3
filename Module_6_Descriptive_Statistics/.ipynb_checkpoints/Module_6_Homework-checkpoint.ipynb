{
 "cells": [
  {
   "cell_type": "markdown",
   "id": "059aefaf",
   "metadata": {},
   "source": [
    "## POLSCI 3 Summer 2022\n",
    "\n",
    "## Week 6 Homework\n"
   ]
  },
  {
   "cell_type": "markdown",
   "id": "227bd53c",
   "metadata": {},
   "source": [
    "In this homework we will explore how distributions of data impact our ability to draw conclusions about observations. From weighted coins to polling responses, we will determine how much we can take away from our data. "
   ]
  },
  {
   "cell_type": "markdown",
   "id": "5d1cf83e",
   "metadata": {},
   "source": [
    "## Generating Distributions - Question 1\n",
    "To start, let's consider a probability distribution of a flip of a coin. Below, we simulate flipping the coin once using the <code>sample</code> function. Note that there are two options for outcomes of a coin flip: a 0 signifying tails or a 1 signifying heads."
   ]
  },
  {
   "cell_type": "code",
   "execution_count": null,
   "id": "dffcd88d",
   "metadata": {},
   "outputs": [],
   "source": [
    "coin_choices <- c(0, 1)                                    # 0 for tails and 1 for heads\n",
    "coin_flip <- sample(coin_choices, replace = TRUE, size=1)  # Take 1 draw from `coin_choices`\n",
    "coin_flip                                                 # Display the results of the flips"
   ]
  },
  {
   "cell_type": "markdown",
   "id": "507d92a8",
   "metadata": {},
   "source": [
    "### Question 1a:\n",
    "In the cell below, reproduce the roll of a die. (Hint: we did this in the lecture notebook.) What happens when you repeatedly run the cell?"
   ]
  },
  {
   "cell_type": "code",
   "execution_count": null,
   "id": "16d34a13",
   "metadata": {},
   "outputs": [],
   "source": [
    "#Your Answer Here\n",
    "die_choices <- ...\n",
    "die_roll <- ...\n",
    "die_roll"
   ]
  },
  {
   "cell_type": "markdown",
   "id": "4caf0a8f",
   "metadata": {},
   "source": [
    "By running the cell multiple times, you should see different outcomes: sometimes a 1, other times a 2, etc. We can reproduce this by changing a parameter in our previous function call: <code>size</code>. Below, we simulate flipping a coin 30 times. (Note the \"size=30\" in the first line.)"
   ]
  },
  {
   "cell_type": "code",
   "execution_count": null,
   "id": "b2684e87",
   "metadata": {},
   "outputs": [],
   "source": [
    "coin_flips <- sample(coin_choices, replace = TRUE, size=30)\n",
    "coin_flips"
   ]
  },
  {
   "cell_type": "markdown",
   "id": "e69306fe",
   "metadata": {},
   "source": [
    "### Question 1b:\n",
    "Using the cell above as a guide, reproduce the roll of a die 30 times:"
   ]
  },
  {
   "cell_type": "code",
   "execution_count": null,
   "id": "509e174f",
   "metadata": {},
   "outputs": [],
   "source": [
    "## Your Answer Here\n",
    "dice_rolls <- ...\n",
    "dice_rolls"
   ]
  },
  {
   "cell_type": "markdown",
   "id": "f48c692a",
   "metadata": {},
   "source": [
    "To better understand our data, we will want to visualize it. The <code>plt.hist</code> function allows you to prduce a histogram of the data we produced. What do you notice about the ratio of heads to tails?\n",
    "\n",
    "**NOTE**: the histogram function ouputs a list of lists that are outside the scope of this course. Just focus on the histogram."
   ]
  },
  {
   "cell_type": "code",
   "execution_count": null,
   "id": "1669b799",
   "metadata": {},
   "outputs": [],
   "source": [
    "hist(coin_flips)"
   ]
  },
  {
   "cell_type": "markdown",
   "id": "773e7cb1",
   "metadata": {},
   "source": [
    "### Question 1c:\n",
    "In the cell below, reproduce the histogram above with dice rolls:"
   ]
  },
  {
   "cell_type": "code",
   "execution_count": null,
   "id": "f946beae",
   "metadata": {},
   "outputs": [],
   "source": [
    "## Your Code Here:\n",
    "..."
   ]
  },
  {
   "cell_type": "markdown",
   "id": "e3a84856",
   "metadata": {},
   "source": [
    "## Producing a Sampling Distribution - Question 2\n",
    "We just produced one sample. To be able to draw conclusions about what we observe in the sample, we need to create a *sampling distribution*. By repeatedly generating samples from the same underlying population, we can create a distribution of different statistics of the population. Statisticians traditionally use the mean as the statistic of interest (it has useful mathematical properties outside of the scope of this homework). Let's explore how to produce a sampling distribution."
   ]
  },
  {
   "cell_type": "markdown",
   "id": "7a10de99",
   "metadata": {},
   "source": [
    "To begin, we need to repeatedly generate samples. That is, we need to repeat the process of flipping 30 coins some large number (say 10000) times. YOU DO NOT NEED TO KNOW THE CODE FOR THIS, WHICH IS BELOW."
   ]
  },
  {
   "cell_type": "code",
   "execution_count": null,
   "id": "a2ed8cb7",
   "metadata": {},
   "outputs": [],
   "source": [
    "sample_coin_means <- c()\n",
    "for (i in 1:10000){#Process to repeat 10,000 times\n",
    "    sample_coin_flips <- sample(coin_choices, replace = TRUE, size=30) #Draw one sample of 30 coin flips\n",
    "    sample_flips_average <- mean(sample_coin_flips) #Take the average of the coin flips\n",
    "    sample_coin_means <- append(sample_coin_means, sample_flips_average) #Add average to a list\n",
    "    \n",
    "}\n",
    "head(sample_coin_means)"
   ]
  },
  {
   "cell_type": "markdown",
   "id": "0c1399db",
   "metadata": {},
   "source": [
    "Below, follow the above steps, but with dice rolls rather than coin flips."
   ]
  },
  {
   "cell_type": "code",
   "execution_count": null,
   "id": "3cf7d0d0",
   "metadata": {},
   "outputs": [],
   "source": [
    "sample_die_means <- c()\n",
    "for (i in 1:10000){#Process to repeat 10,000 times\n",
    "    sample_die_rolls <- sample(dice_rolls, replace = TRUE, size=30) ##Draw one sample of 30 die rolls\n",
    "    sample_die_average <- mean(sample_die_rolls) #Take the average of the die rolls\n",
    "    sample_die_means <- append(sample_die_means, sample_die_average) #Add average to a list\n",
    "    \n",
    "} \n",
    "head(sample_die_means)"
   ]
  },
  {
   "cell_type": "markdown",
   "id": "1ebc1803",
   "metadata": {},
   "source": [
    "Now that we have our distributions, we can plot them using the <code>plt.hist()</code> function from above. Below, a histogram of the coin means:"
   ]
  },
  {
   "cell_type": "code",
   "execution_count": null,
   "id": "b8163386",
   "metadata": {},
   "outputs": [],
   "source": [
    "hist(sample_coin_means)"
   ]
  },
  {
   "cell_type": "markdown",
   "id": "aba76b6f",
   "metadata": {},
   "source": [
    "### Question 2a:\n",
    "Using the cell above as a guide, plot a histogram of the sample means for the dice."
   ]
  },
  {
   "cell_type": "code",
   "execution_count": null,
   "id": "b1aa69fa",
   "metadata": {},
   "outputs": [],
   "source": [
    "##Your Code Here\n",
    "..."
   ]
  },
  {
   "cell_type": "markdown",
   "id": "a580c567",
   "metadata": {},
   "source": [
    "### Question 2b:\n",
    "What do you notice about the distribution of the sample means?  "
   ]
  },
  {
   "cell_type": "markdown",
   "id": "dc521b4a",
   "metadata": {},
   "source": [
    "*Your answer here*"
   ]
  },
  {
   "cell_type": "markdown",
   "id": "caa0f0c2",
   "metadata": {},
   "source": [
    "## Sampling Distribution Universality - Question 3\n",
    "Regardless of the underlying frequency distribution, we can generate a sampling distribution that holds the same properties as any other sampling distribution. To begin, let's look at several distributions (you don't need to know how the distribution is generated, just observe the shape of the distribution and the sampling distribution that it produces). The code will produce a distribution using a function you may not be familiar with, but that ist the point: even if we don't understand how our underlying frequency distribution is generated, we can still follow the same principles. "
   ]
  },
  {
   "cell_type": "markdown",
   "id": "16f203bf",
   "metadata": {},
   "source": [
    "Now here are some questions to test your understanding:"
   ]
  },
  {
   "cell_type": "markdown",
   "id": "71045281",
   "metadata": {},
   "source": [
    "### Question 3a:\n",
    "Decreasing the sample size, while holding the confidence level the same, will\n",
    "do what to the length of your confidence interval?\n",
    "\n",
    "1) Make it bigger  \n",
    "2) Make it smaller  \n",
    "3) It will stay the same  \n",
    "4) Cannot be determined from the given information"
   ]
  },
  {
   "cell_type": "markdown",
   "id": "a870f10d",
   "metadata": {},
   "source": [
    "*YOUR ANSWER HERE*"
   ]
  },
  {
   "cell_type": "markdown",
   "id": "4b9ff7ce",
   "metadata": {},
   "source": [
    "### Question 3b:\n",
    "Decreasing the confidence level, while holding the sample size the same, will\n",
    "do what to the length of your confidence interval?  \n",
    "\n",
    "1) Make it bigger  \n",
    "2) Make it smaller  \n",
    "3) It will stay the same  \n",
    "4) Cannot be determined from the given information"
   ]
  },
  {
   "cell_type": "markdown",
   "id": "252558bf",
   "metadata": {},
   "source": [
    "*YOUR ANSWER HERE"
   ]
  },
  {
   "cell_type": "markdown",
   "id": "dca31251",
   "metadata": {},
   "source": [
    "### Question 3c:\n",
    "A 95% confidence interval for the mean number of televisions per American household\n",
    "is (Lower limit: 1.15, Upper limit 4.20). For each of the following statements about the\n",
    "above confidence interval, select the option if it is true, and leave it blank if it is false.  \n",
    "1) We are 95% confident that the true mean number of televisions per American household is between 1.15 and 4.20.  \n",
    "2) 95% of all American households have between 1.15 and 4.20 televisions.  \n",
    "3) Of 100 intervals calculated the same way (95%), we expect 95 of them to capture the population mean.  \n",
    "4) Of 100 intervals calculated the same way (95%), we expect 100 of them to capture the sample mean."
   ]
  },
  {
   "cell_type": "markdown",
   "id": "6f971a59",
   "metadata": {},
   "source": [
    "*YOUR ANSWER HERE*"
   ]
  },
  {
   "cell_type": "markdown",
   "id": "a2494e71",
   "metadata": {},
   "source": [
    "For the following questions, we will be using the below scenario:  \n",
    "*Researchers are concerned about the impact of students working while they are enrolled in classes, and they’d like to know if students work too much and therefore are spending less time on their classes than they should be. First, the researchers need to find out, on average, how many hours a week students are working. They know from previous studies\n",
    "that the standard deviation of this variable is about 5 hours.*"
   ]
  },
  {
   "cell_type": "markdown",
   "id": "44f58e33",
   "metadata": {},
   "source": [
    "### Question 3d:\n",
    "A survey of 225 students provides a sample mean of 7.10 hours worked. What is a 95% confidence interval based on this sample?"
   ]
  },
  {
   "cell_type": "code",
   "execution_count": null,
   "id": "c75aa19f",
   "metadata": {},
   "outputs": [],
   "source": [
    "## YOUR ANSWER HERE\n",
    "lower_bound <- 7.10 - 1.96 * (5/(225^.5))\n",
    "upper_bound <- ...\n",
    "c(lower_bound, upper_bound)"
   ]
  },
  {
   "cell_type": "markdown",
   "id": "c57f0208",
   "metadata": {},
   "source": [
    "### Question 3e:\n",
    "Suppose that this confidence interval was (6.82, 7.38). Which of these is a\n",
    "valid interpretation of this confidence interval?  \n",
    "1) There is a 95% probability that a randomly selected student worked between 6.82 and 7.38 hours.  \n",
    "2) We are 95% confident that the average number of hours worked by students in our sample is between 6.82 and 7.38 hours.  \n",
    "3) We are 95% confident that the interval between 6.82 and 7.38 hours contains the average number of hours worked by all UF students. "
   ]
  },
  {
   "cell_type": "markdown",
   "id": "f0dc2c41",
   "metadata": {},
   "source": [
    "*YOUR ANSWER HERE*"
   ]
  },
  {
   "cell_type": "markdown",
   "id": "ff7068b7",
   "metadata": {},
   "source": [
    "### Question 3f:\n",
    "We have 95% confidence in our interval, instead of 100% confidence, because we need to account for the fact that:  \n",
    "1) The sample may not be truly random.\n",
    "2) We have a sample, and not the whole population.  \n",
    "3) The distribution of hours worked may be skewed.  \n",
    "4) All of the above"
   ]
  },
  {
   "cell_type": "markdown",
   "id": "9a6c72cd",
   "metadata": {},
   "source": [
    "*YOUR ANSWER HERE*"
   ]
  },
  {
   "cell_type": "markdown",
   "id": "5ffe220f",
   "metadata": {},
   "source": [
    "### Question 3g:\n",
    "The researchers are not satisfied with their confidence interval and want to do another study to find a shorter confidence interval. Which of the following best describes what they should do?  \n",
    "1) They should increase their confidence level and increase their sample size.  \n",
    "2) They should increase their confidence level or decrease their sample size.  \n",
    "3) They should decrease their confidence level or increase their sample size.  \n",
    "4) They should decrease their confidence level and decrease their sample size. "
   ]
  },
  {
   "cell_type": "markdown",
   "id": "51981a0a",
   "metadata": {},
   "source": [
    "*YOUR ANSWER HERE*"
   ]
  },
  {
   "cell_type": "markdown",
   "id": "c58c4da6",
   "metadata": {},
   "source": [
    "## Saving Your Notebook\n",
    "Now that you've finished the homework, we need to save it! To do this, click <code>File</code> $\\rightarrow$ <code>Download as</code> $\\rightarrow$ <code>PDF via Chrome</code>"
   ]
  },
  {
   "cell_type": "code",
   "execution_count": null,
   "id": "02b8f3db",
   "metadata": {},
   "outputs": [],
   "source": []
  }
 ],
 "metadata": {
  "kernelspec": {
   "display_name": "R",
   "language": "R",
   "name": "ir"
  },
  "language_info": {
   "codemirror_mode": "r",
   "file_extension": ".r",
   "mimetype": "text/x-r-source",
   "name": "R",
   "pygments_lexer": "r",
   "version": "4.1.2"
  }
 },
 "nbformat": 4,
 "nbformat_minor": 5
}
