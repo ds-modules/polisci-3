{
 "cells": [
  {
   "cell_type": "markdown",
   "id": "6ecbf6e6",
   "metadata": {},
   "source": [
    "## POLSCI 3 Summer 2022\n",
    "\n",
    "## Week 6 Lecture Notebook 1: Descriptive Statistics\n",
    "\n",
    "In this notebook we will learn new tools for examining the properties of our data. What are the usual values that occur? Which data are outliers? What do the data \"look like\"? We will begin by reading in the electoral data from last lecture."
   ]
  },
  {
   "cell_type": "code",
   "execution_count": 1,
   "id": "0d39c2ed",
   "metadata": {},
   "outputs": [],
   "source": [
    "# This stores, or assigns, the dataset as election.data\n",
    "election.data <- read.csv('FairFPSR3.csv')"
   ]
  },
  {
   "cell_type": "markdown",
   "id": "55f05929",
   "metadata": {},
   "source": [
    "Here is the **codebook** that tells you what each variable means.\n",
    "\n",
    "`inc_vote`: % of major party presidential vote won by incumbent party\n",
    "\n",
    "`year`: Year of the presidential election\n",
    "\n",
    "`inflation`: Inflation rate\n",
    "\n",
    "`goodnews`: Number of quarters in the first 15 quarters of admin in which econ growth>3.2%\n",
    "\n",
    "`growth`: % change in real GDP per capita"
   ]
  },
  {
   "cell_type": "markdown",
   "id": "c617b582",
   "metadata": {},
   "source": [
    "Sometimes we just want to look at the values of individual variables (columns) in our data. To determine that we need to refer to individual variables (columns) in the dataset. Recall from last time that we referred to individual variables as `dataSetName$varName`. To list the values of the `inc_vote` variable:"
   ]
  },
  {
   "cell_type": "code",
   "execution_count": 2,
   "id": "e469eab5",
   "metadata": {},
   "outputs": [
    {
     "data": {
      "text/html": [
       "<style>\n",
       ".list-inline {list-style: none; margin:0; padding: 0}\n",
       ".list-inline>li {display: inline-block}\n",
       ".list-inline>li:not(:last-child)::after {content: \"\\00b7\"; padding: 0 .5ex}\n",
       "</style>\n",
       "<ol class=list-inline><li>48.516</li><li>50.22</li><li>49.846</li><li>50.414</li><li>48.268</li><li>47.76</li><li>53.171</li><li>60.006</li><li>54.483</li><li>54.708</li><li>51.682</li><li>36.148</li><li>58.263</li><li>58.756</li><li>40.851</li><li>62.226</li><li>54.983</li><li>53.778</li><li>52.319</li><li>44.71</li><li>57.094</li><li>49.913</li><li>61.203</li><li>49.425</li><li>61.791</li><li>48.951</li><li>44.842</li><li>59.123</li><li>53.832</li><li>46.379</li><li>54.737</li><li>50.262</li><li>51.233</li><li>46.311</li><li>52.01</li><li>51.111</li></ol>\n"
      ],
      "text/latex": [
       "\\begin{enumerate*}\n",
       "\\item 48.516\n",
       "\\item 50.22\n",
       "\\item 49.846\n",
       "\\item 50.414\n",
       "\\item 48.268\n",
       "\\item 47.76\n",
       "\\item 53.171\n",
       "\\item 60.006\n",
       "\\item 54.483\n",
       "\\item 54.708\n",
       "\\item 51.682\n",
       "\\item 36.148\n",
       "\\item 58.263\n",
       "\\item 58.756\n",
       "\\item 40.851\n",
       "\\item 62.226\n",
       "\\item 54.983\n",
       "\\item 53.778\n",
       "\\item 52.319\n",
       "\\item 44.71\n",
       "\\item 57.094\n",
       "\\item 49.913\n",
       "\\item 61.203\n",
       "\\item 49.425\n",
       "\\item 61.791\n",
       "\\item 48.951\n",
       "\\item 44.842\n",
       "\\item 59.123\n",
       "\\item 53.832\n",
       "\\item 46.379\n",
       "\\item 54.737\n",
       "\\item 50.262\n",
       "\\item 51.233\n",
       "\\item 46.311\n",
       "\\item 52.01\n",
       "\\item 51.111\n",
       "\\end{enumerate*}\n"
      ],
      "text/markdown": [
       "1. 48.516\n",
       "2. 50.22\n",
       "3. 49.846\n",
       "4. 50.414\n",
       "5. 48.268\n",
       "6. 47.76\n",
       "7. 53.171\n",
       "8. 60.006\n",
       "9. 54.483\n",
       "10. 54.708\n",
       "11. 51.682\n",
       "12. 36.148\n",
       "13. 58.263\n",
       "14. 58.756\n",
       "15. 40.851\n",
       "16. 62.226\n",
       "17. 54.983\n",
       "18. 53.778\n",
       "19. 52.319\n",
       "20. 44.71\n",
       "21. 57.094\n",
       "22. 49.913\n",
       "23. 61.203\n",
       "24. 49.425\n",
       "25. 61.791\n",
       "26. 48.951\n",
       "27. 44.842\n",
       "28. 59.123\n",
       "29. 53.832\n",
       "30. 46.379\n",
       "31. 54.737\n",
       "32. 50.262\n",
       "33. 51.233\n",
       "34. 46.311\n",
       "35. 52.01\n",
       "36. 51.111\n",
       "\n",
       "\n"
      ],
      "text/plain": [
       " [1] 48.516 50.220 49.846 50.414 48.268 47.760 53.171 60.006 54.483 54.708\n",
       "[11] 51.682 36.148 58.263 58.756 40.851 62.226 54.983 53.778 52.319 44.710\n",
       "[21] 57.094 49.913 61.203 49.425 61.791 48.951 44.842 59.123 53.832 46.379\n",
       "[31] 54.737 50.262 51.233 46.311 52.010 51.111"
      ]
     },
     "metadata": {},
     "output_type": "display_data"
    }
   ],
   "source": [
    "election.data$inc_vote"
   ]
  },
  {
   "cell_type": "markdown",
   "id": "09b7faf5",
   "metadata": {},
   "source": [
    "Something we often want to know are the average values of the data. The average makes most sense with data like `inc_vote` or `growth` or `inflation`, which are \"continuous variables\" where it makes sense to add and subtract values from one another. \n",
    "\n",
    "For a variable $X$, its mean, $\\overline{X}$, is given by:\n",
    "\n",
    "$$\\overline{X} = \\frac{\\sum_{i=1}^{n}X_i}{n}$$\n",
    "\n",
    "To take the mean (average) in R we use `mean(dataSetName$varName)`:\n"
   ]
  },
  {
   "cell_type": "code",
   "execution_count": 3,
   "id": "a37dce4a",
   "metadata": {},
   "outputs": [
    {
     "data": {
      "text/html": [
       "51.9256944444444"
      ],
      "text/latex": [
       "51.9256944444444"
      ],
      "text/markdown": [
       "51.9256944444444"
      ],
      "text/plain": [
       "[1] 51.92569"
      ]
     },
     "metadata": {},
     "output_type": "display_data"
    }
   ],
   "source": [
    "# This computes the mean (average) of the inc_vote column of the data\n",
    "mean(election.data$inc_vote)"
   ]
  },
  {
   "cell_type": "markdown",
   "id": "696b0a5e",
   "metadata": {},
   "source": [
    "We can assign the mean to a new variable, mean.inc_vote:"
   ]
  },
  {
   "cell_type": "code",
   "execution_count": 4,
   "id": "a189e02d",
   "metadata": {},
   "outputs": [],
   "source": [
    "mean.inc_vote <- mean(election.data$inc_vote)"
   ]
  },
  {
   "cell_type": "markdown",
   "id": "98d623bf",
   "metadata": {},
   "source": [
    "When we have categorical variables with values such as `male` and `female` (variable name `sex`) or `Catholic` and `Protestant` (variable name `religion`) it doesn't make sense to compute an average. Instead we usually want to know the number or proportion of observations in each category. To compute this we need the `table` command: `table(dataSetName$varName)`."
   ]
  },
  {
   "cell_type": "markdown",
   "id": "92d74671",
   "metadata": {},
   "source": [
    "To see how this works we are going to read in a new dataset where the observations are countries. \n",
    "Let's read in those data:"
   ]
  },
  {
   "cell_type": "code",
   "execution_count": 6,
   "id": "e38dbb30",
   "metadata": {},
   "outputs": [
    {
     "data": {
      "text/html": [
       "<table class=\"dataframe\">\n",
       "<caption>A data.frame: 6 × 9</caption>\n",
       "<thead>\n",
       "\t<tr><th></th><th scope=col>countryname</th><th scope=col>polity2</th><th scope=col>polity2_cat</th><th scope=col>gdpcapita</th><th scope=col>gdpcapita_cat</th><th scope=col>happiness</th><th scope=col>happiness_cat</th><th scope=col>life_expectancy</th><th scope=col>life_expectancy_cat</th></tr>\n",
       "\t<tr><th></th><th scope=col>&lt;chr&gt;</th><th scope=col>&lt;int&gt;</th><th scope=col>&lt;chr&gt;</th><th scope=col>&lt;dbl&gt;</th><th scope=col>&lt;chr&gt;</th><th scope=col>&lt;dbl&gt;</th><th scope=col>&lt;chr&gt;</th><th scope=col>&lt;dbl&gt;</th><th scope=col>&lt;chr&gt;</th></tr>\n",
       "</thead>\n",
       "<tbody>\n",
       "\t<tr><th scope=row>1</th><td>Afghanistan</td><td>-1</td><td>anocracies </td><td> 2190.751</td><td>low-income   </td><td>2.694</td><td>least happy     </td><td>52.6</td><td>shortest lives</td></tr>\n",
       "\t<tr><th scope=row>2</th><td>Albania    </td><td> 9</td><td>democracies</td><td>13602.374</td><td>middle-income</td><td>5.004</td><td>middle happiness</td><td>68.7</td><td>middle        </td></tr>\n",
       "\t<tr><th scope=row>3</th><td>Algeria    </td><td> 2</td><td>anocracies </td><td>11475.844</td><td>middle-income</td><td>5.043</td><td>middle happiness</td><td>65.9</td><td>middle        </td></tr>\n",
       "\t<tr><th scope=row>4</th><td>Argentina  </td><td> 9</td><td>democracies</td><td>22742.701</td><td>middle-income</td><td>5.793</td><td>middle happiness</td><td>68.8</td><td>middle        </td></tr>\n",
       "\t<tr><th scope=row>5</th><td>Armenia    </td><td> 7</td><td>democracies</td><td>12720.883</td><td>middle-income</td><td>5.062</td><td>middle happiness</td><td>66.9</td><td>middle        </td></tr>\n",
       "\t<tr><th scope=row>6</th><td>Australia  </td><td>10</td><td>democracies</td><td>49563.000</td><td>rich         </td><td>7.177</td><td>most happy      </td><td>73.6</td><td>longest lives </td></tr>\n",
       "</tbody>\n",
       "</table>\n"
      ],
      "text/latex": [
       "A data.frame: 6 × 9\n",
       "\\begin{tabular}{r|lllllllll}\n",
       "  & countryname & polity2 & polity2\\_cat & gdpcapita & gdpcapita\\_cat & happiness & happiness\\_cat & life\\_expectancy & life\\_expectancy\\_cat\\\\\n",
       "  & <chr> & <int> & <chr> & <dbl> & <chr> & <dbl> & <chr> & <dbl> & <chr>\\\\\n",
       "\\hline\n",
       "\t1 & Afghanistan & -1 & anocracies  &  2190.751 & low-income    & 2.694 & least happy      & 52.6 & shortest lives\\\\\n",
       "\t2 & Albania     &  9 & democracies & 13602.374 & middle-income & 5.004 & middle happiness & 68.7 & middle        \\\\\n",
       "\t3 & Algeria     &  2 & anocracies  & 11475.844 & middle-income & 5.043 & middle happiness & 65.9 & middle        \\\\\n",
       "\t4 & Argentina   &  9 & democracies & 22742.701 & middle-income & 5.793 & middle happiness & 68.8 & middle        \\\\\n",
       "\t5 & Armenia     &  7 & democracies & 12720.883 & middle-income & 5.062 & middle happiness & 66.9 & middle        \\\\\n",
       "\t6 & Australia   & 10 & democracies & 49563.000 & rich          & 7.177 & most happy       & 73.6 & longest lives \\\\\n",
       "\\end{tabular}\n"
      ],
      "text/markdown": [
       "\n",
       "A data.frame: 6 × 9\n",
       "\n",
       "| <!--/--> | countryname &lt;chr&gt; | polity2 &lt;int&gt; | polity2_cat &lt;chr&gt; | gdpcapita &lt;dbl&gt; | gdpcapita_cat &lt;chr&gt; | happiness &lt;dbl&gt; | happiness_cat &lt;chr&gt; | life_expectancy &lt;dbl&gt; | life_expectancy_cat &lt;chr&gt; |\n",
       "|---|---|---|---|---|---|---|---|---|---|\n",
       "| 1 | Afghanistan | -1 | anocracies  |  2190.751 | low-income    | 2.694 | least happy      | 52.6 | shortest lives |\n",
       "| 2 | Albania     |  9 | democracies | 13602.374 | middle-income | 5.004 | middle happiness | 68.7 | middle         |\n",
       "| 3 | Algeria     |  2 | anocracies  | 11475.844 | middle-income | 5.043 | middle happiness | 65.9 | middle         |\n",
       "| 4 | Argentina   |  9 | democracies | 22742.701 | middle-income | 5.793 | middle happiness | 68.8 | middle         |\n",
       "| 5 | Armenia     |  7 | democracies | 12720.883 | middle-income | 5.062 | middle happiness | 66.9 | middle         |\n",
       "| 6 | Australia   | 10 | democracies | 49563.000 | rich          | 7.177 | most happy       | 73.6 | longest lives  |\n",
       "\n"
      ],
      "text/plain": [
       "  countryname polity2 polity2_cat gdpcapita gdpcapita_cat happiness\n",
       "1 Afghanistan -1      anocracies   2190.751 low-income    2.694    \n",
       "2 Albania      9      democracies 13602.374 middle-income 5.004    \n",
       "3 Algeria      2      anocracies  11475.844 middle-income 5.043    \n",
       "4 Argentina    9      democracies 22742.701 middle-income 5.793    \n",
       "5 Armenia      7      democracies 12720.883 middle-income 5.062    \n",
       "6 Australia   10      democracies 49563.000 rich          7.177    \n",
       "  happiness_cat    life_expectancy life_expectancy_cat\n",
       "1 least happy      52.6            shortest lives     \n",
       "2 middle happiness 68.7            middle             \n",
       "3 middle happiness 65.9            middle             \n",
       "4 middle happiness 68.8            middle             \n",
       "5 middle happiness 66.9            middle             \n",
       "6 most happy       73.6            longest lives      "
      ]
     },
     "metadata": {},
     "output_type": "display_data"
    }
   ],
   "source": [
    "happiness_data <- read.csv('happiness_polity_2018.csv')\n",
    "head(happiness_data)"
   ]
  },
  {
   "cell_type": "markdown",
   "id": "a1312378",
   "metadata": {},
   "source": [
    "This dataset contains data from countries around the world in terms of factors such as happiness levels, \n",
    "political categories, and demographic information. Here's a codebook:\n",
    "\n",
    "<code>polity2</code>: The \"Polity Score\" of the country, which measures its political system on a 21-pont scale \n",
    "ranging from -10 (hereditary monarchy) to +10 (consolidated democracy).\n",
    "\n",
    "<code>polity2_cat</code>: The political category the country is identified within. \"autocracies\" are on one end of \n",
    "the spectrum, \"anocracies\" are in the middle (semi-democracies), and \"democracies\" are at the top of the spectrum.\n",
    "\n",
    "<code>gdpcapita</code>: GDP per Capita (economic output per person)\n",
    "\n",
    "<code>gdpcapita_cat</code>: GDP/income category that the country falls into (based on GDP per capita)\n",
    "\n",
    "<code>happiness</code>: The country's happiness index, measured through surveys that require participants to rank \n",
    "their level of happiness based on an assortment of quality-of-life factors\n",
    "\n",
    "<code>happiness_cat</code>: Happiness category that the country falls into (based on happpiness indicator)\n",
    "\n",
    "<code>life_expectancy</code>: Average life expectancy in years\n",
    "\n",
    "<code>life_expectancy_cat</code>: Life Expectancy category that the country falls into\n",
    "\n"
   ]
  },
  {
   "cell_type": "markdown",
   "id": "30fb2385",
   "metadata": {},
   "source": [
    "Suppose we want to see what the most common global income category is. We are going to use the table() function with an argument corresponding to the column we want to interpret.\n",
    "\n",
    "## One-Way Tables"
   ]
  },
  {
   "cell_type": "code",
   "execution_count": 7,
   "id": "bc98599d",
   "metadata": {},
   "outputs": [
    {
     "data": {
      "text/plain": [
       "\n",
       "   low-income middle-income          rich \n",
       "           34            64            33 "
      ]
     },
     "metadata": {},
     "output_type": "display_data"
    }
   ],
   "source": [
    "table(happiness_data$gdpcapita_cat)"
   ]
  },
  {
   "cell_type": "markdown",
   "id": "acb80714",
   "metadata": {},
   "source": [
    "Suppose we want to know how many democracies and dictatorships there are: "
   ]
  },
  {
   "cell_type": "code",
   "execution_count": 8,
   "id": "e0d73732",
   "metadata": {},
   "outputs": [
    {
     "data": {
      "text/plain": [
       "\n",
       " anocracies autocracies democracies \n",
       "         34          12          85 "
      ]
     },
     "metadata": {},
     "output_type": "display_data"
    }
   ],
   "source": [
    "table(happiness_data$polity2_cat)"
   ]
  },
  {
   "cell_type": "markdown",
   "id": "cef7cae6",
   "metadata": {},
   "source": [
    "This example also shows why categorical variables can be useful. It's really not that useful to make a table of all the values of gdpcapita:"
   ]
  },
  {
   "cell_type": "code",
   "execution_count": 9,
   "id": "98d9ff43",
   "metadata": {},
   "outputs": [
    {
     "data": {
      "text/plain": [
       "\n",
       "761.27924 1042.1069 1196.3134 1289.4875  1496.673 1553.0873  1576.559 1613.2405 \n",
       "        1         1         1         1         1         1         1         1 \n",
       "1664.0336 1766.9325 2088.0796 2102.7473 2121.7571 2132.3928 2145.2256 2190.7515 \n",
       "        1         1         1         1         1         1         1         1 \n",
       "2282.4387 2497.3862 2588.9307  3065.604 3130.6621 3162.1265 3235.6975 3251.9167 \n",
       "        1         1         1         1         1         1         1         1 \n",
       "3314.2942 3415.2285 3522.7593 3604.7207 4158.8765  4204.875 4442.6226 4740.9829 \n",
       "        1         1         1         1         1         1         1         1 \n",
       "5029.1172 5044.2285 5130.7144 5156.4331 5192.6543 5670.3135 5693.0439 6496.3794 \n",
       "        2         1         1         1         1         1         1         1 \n",
       "6754.7407 7435.3398 7585.5469 7593.1396 8450.6602 8518.5391 8604.1543 8612.7578 \n",
       "        1         1         1         1         1         1         1         1 \n",
       "8655.9307 9857.6201 9936.8018 10657.298 10764.408 11361.666 11373.026 11475.844 \n",
       "        1         1         1         1         1         1         1         1 \n",
       "11556.456 11920.318 12332.583  12369.64 12632.147 12720.883 12784.647  12861.58 \n",
       "        1         1         1         1         1         1         1         1 \n",
       "13602.374  14214.25 14256.947 14457.961 14603.255 14750.023 14838.783 15017.923 \n",
       "        1         1         1         1         1         1         1         1 \n",
       "15244.895 15615.201  17361.32 17641.332 17712.035 18087.936 18882.668 19418.852 \n",
       "        1         1         1         1         1         1         1         1 \n",
       "19990.248 20619.654 21590.303 22181.191 22203.393 22742.701 24270.094 25539.965 \n",
       "        1         1         1         1         1         1         1         1 \n",
       "26662.143 27529.119 27556.672  28310.85 28566.793 29702.895 29941.482  31039.02 \n",
       "        1         1         1         1         1         1         1         1 \n",
       "31070.059 31761.184 32080.396 33996.063 35312.777 35383.469 38025.016  38832.02 \n",
       "        1         1         1         1         1         1         1         1 \n",
       " 39458.32 39537.309 40335.996 41068.641 41898.262 42192.578 42616.629 45569.789 \n",
       "        1         1         1         1         1         1         1         1 \n",
       "46304.758 47619.609 48194.492 48922.875     49563 51225.863 53156.707  53637.32 \n",
       "        1         1         1         1         1         1         1         1 \n",
       "55714.766 56106.133 56443.758  61389.84 63322.738 66970.031 68459.648 83449.734 \n",
       "        1         1         1         1         1         1         1         1 \n",
       "97733.508 114119.39 \n",
       "        1         1 "
      ]
     },
     "metadata": {},
     "output_type": "display_data"
    }
   ],
   "source": [
    "table(happiness_data$gdpcapita)"
   ]
  },
  {
   "cell_type": "markdown",
   "id": "5bf7e337",
   "metadata": {},
   "source": [
    "Tables are one of the easiest ways to understand categorical variables in a dataset. For example, we learned above that middle-income countries form the majority in the dataset. Another thing we might want to know is what *proportion* of values are in each category. For that we use the `prop.table` command:"
   ]
  },
  {
   "cell_type": "code",
   "execution_count": 10,
   "id": "874e5621",
   "metadata": {},
   "outputs": [
    {
     "data": {
      "text/plain": [
       "\n",
       "   low-income middle-income          rich \n",
       "    0.2595420     0.4885496     0.2519084 "
      ]
     },
     "metadata": {},
     "output_type": "display_data"
    }
   ],
   "source": [
    "prop.table(table(happiness_data$gdpcapita_cat))"
   ]
  },
  {
   "cell_type": "markdown",
   "id": "54ccb5ae",
   "metadata": {},
   "source": [
    "### Two-Way Tables \n",
    "\n",
    "Two-way tables allow us to see how values of one variable correspond with another. For example, instead of just looking at polity, we can look at polity scores among countries of each income level in one table. \n",
    "\n",
    "To do this, we use the same `table()` command, but instead we give it *two* variables, separated by a comma. The first variable is the variable that we want to go along each row, and the second is the variable we want to go along each column.\n",
    "\n",
    "Let's group GDP categories with political categories to see how many countries fit into each of the groupings:"
   ]
  },
  {
   "cell_type": "code",
   "execution_count": 11,
   "id": "b3d63020",
   "metadata": {},
   "outputs": [
    {
     "data": {
      "text/plain": [
       "             \n",
       "              low-income middle-income rich\n",
       "  anocracies          21            12    1\n",
       "  autocracies          1             9    2\n",
       "  democracies         12            43   30"
      ]
     },
     "metadata": {},
     "output_type": "display_data"
    }
   ],
   "source": [
    "table(happiness_data$polity2_cat, happiness_data$gdpcapita_cat)"
   ]
  },
  {
   "cell_type": "markdown",
   "id": "0a81e47d",
   "metadata": {},
   "source": [
    "Let's use `prop.table` to get a more intuitive look at the relationship between regime type and income:"
   ]
  },
  {
   "cell_type": "code",
   "execution_count": 12,
   "id": "5e5284e6",
   "metadata": {},
   "outputs": [
    {
     "data": {
      "text/plain": [
       "             \n",
       "               low-income middle-income        rich\n",
       "  anocracies  0.160305344   0.091603053 0.007633588\n",
       "  autocracies 0.007633588   0.068702290 0.015267176\n",
       "  democracies 0.091603053   0.328244275 0.229007634"
      ]
     },
     "metadata": {},
     "output_type": "display_data"
    }
   ],
   "source": [
    "prop.table(table(happiness_data$polity2_cat, happiness_data$gdpcapita_cat))"
   ]
  },
  {
   "cell_type": "markdown",
   "id": "affccb83",
   "metadata": {},
   "source": [
    "## Review\n",
    "\n",
    "We learned three new R functions today:\n",
    "\n",
    "- `table(dataset$variable)`\n",
    "- `table(dataset$first.variable, dataset$second.variable)`\n",
    "- `prop.table(table(dataset$first.variable, dataset$second.variable))`\n"
   ]
  },
  {
   "cell_type": "markdown",
   "id": "162cdef6",
   "metadata": {},
   "source": [
    "#### Reminder about Peer Consulting Office Hours\n",
    "\n",
    "If you had trouble with any content in this notebook, Data Peer Consultants are here to help! You \n",
    "can view their locations and availabilites at this link: https://data.berkeley.edu/degrees/peer-advising.\n",
    "Peer Consultants are there to answer all data-related questions, whether it be about the content of this notebook,\n",
    "applications of data science in the world or other data science courses offered at Berkeley -- \n",
    "make sure to take advantage of this wonderful resource!"
   ]
  }
 ],
 "metadata": {
  "kernelspec": {
   "display_name": "R",
   "language": "R",
   "name": "ir"
  },
  "language_info": {
   "codemirror_mode": "r",
   "file_extension": ".r",
   "mimetype": "text/x-r-source",
   "name": "R",
   "pygments_lexer": "r",
   "version": "4.1.2"
  }
 },
 "nbformat": 4,
 "nbformat_minor": 5
}
