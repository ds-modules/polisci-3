{
 "cells": [
  {
   "cell_type": "markdown",
   "id": "5eddd1a7",
   "metadata": {},
   "source": [
    "## POLSCI 3 \n",
    "\n",
    "## Lecture Notebook 2: Distributions and Statistical Inference"
   ]
  },
  {
   "cell_type": "markdown",
   "id": "f719598e",
   "metadata": {},
   "source": [
    "# Distributions\n",
    "We have covered how to calculate key statistics for a variable. Most often, these variables represent summary values of distributions, or sets of values. For example, `inc_vote` from the previous lecture notebook contained a distribution of values, the incumbent presidential vote. We can use R to generate different kinds of distributions. "
   ]
  },
  {
   "cell_type": "markdown",
   "id": "765e45a1",
   "metadata": {},
   "source": [
    "To start, let's consider a probability distribution of a flip of a coin. Below, we simulate flipping the coin \n",
    "once using the <code>sample</code> function. Note that there are two options for outcomes of a coin flip: \n",
    "a 0 signifying tails or a 1 signifying heads. <code>sample</code> randomly chooses one or the other. "
   ]
  },
  {
   "cell_type": "code",
   "execution_count": 10,
   "id": "819886cf",
   "metadata": {
    "vscode": {
     "languageId": "r"
    }
   },
   "outputs": [
    {
     "data": {
      "text/html": [
       "0"
      ],
      "text/latex": [
       "0"
      ],
      "text/markdown": [
       "0"
      ],
      "text/plain": [
       "[1] 0"
      ]
     },
     "metadata": {},
     "output_type": "display_data"
    }
   ],
   "source": [
    "coin_choices = c(0, 1)                                    # 0 for tails and 1 for heads\n",
    "coin_flip = sample(coin_choices, replace = TRUE, size=1)  # Take 1 draw from `coin_choices`\n",
    "coin_flip                                                 # Display the results of the flips"
   ]
  },
  {
   "cell_type": "markdown",
   "id": "4b21768a",
   "metadata": {},
   "source": [
    "Usually we want not just one flip of a coin but a whole distribution of flips. To generate that we change the <code>size</code> option in the <code>sample</code> function. Let's do 30 coin flips to create a distribution of flips. "
   ]
  },
  {
   "cell_type": "code",
   "execution_count": 11,
   "id": "f17e246f",
   "metadata": {
    "vscode": {
     "languageId": "r"
    }
   },
   "outputs": [
    {
     "data": {
      "image/png": "[encoded data removed]",
      "text/plain": [
       "Plot with title “Histogram of coin_flips”"
      ]
     },
     "metadata": {
      "image/png": {
       "height": 420,
       "width": 420
      }
     },
     "output_type": "display_data"
    }
   ],
   "source": [
    "coin_choices = c(0, 1)                                    # 0 for tails and 1 for heads\n",
    "coin_flips = sample(coin_choices, replace = TRUE, size=30)  # Take 30 draw from `coin_choices`\n",
    "hist(coin_flips)                                                 # Display the results of the flips"
   ]
  },
  {
   "cell_type": "markdown",
   "id": "d8a3a566",
   "metadata": {},
   "source": [
    "Now let's simulate the rolling of 30 dice (or 1 die 30 times). Note the similarity in the code below with the code for coin flips above."
   ]
  },
  {
   "cell_type": "code",
   "execution_count": 12,
   "id": "0550455b",
   "metadata": {
    "vscode": {
     "languageId": "r"
    }
   },
   "outputs": [
    {
     "data": {
      "text/html": [
       "3.83333333333333"
      ],
      "text/latex": [
       "3.83333333333333"
      ],
      "text/markdown": [
       "3.83333333333333"
      ],
      "text/plain": [
       "[1] 3.833333"
      ]
     },
     "metadata": {},
     "output_type": "display_data"
    },
    {
     "data": {
      "image/png": "[encoded data removed]",
      "text/plain": [
       "Plot with title “Histogram of dice_rolls”"
      ]
     },
     "metadata": {
      "image/png": {
       "height": 420,
       "width": 420
      }
     },
     "output_type": "display_data"
    }
   ],
   "source": [
    "die_choices = c(1,2,3,4,5,6)                              # These are the numbers on the die faces\n",
    "dice_rolls = sample(die_choices, replace = TRUE, size=30) # Take a draw of 30\n",
    "hist(dice_rolls)                                          # Display histogram of dice rolls\n",
    "mean(dice_rolls)                                          # Display mean of dice rolls"
   ]
  },
  {
   "cell_type": "markdown",
   "id": "34d53d10",
   "metadata": {},
   "source": [
    "Some distributions are so common that R has a built-in command for them. One of these is the Normal distribution. Recall from lecture that the Normal distribution is symmetrical: its mean, median, and mode are the same. It follows the 68-95-99 rule: 68% of the distribution lies within 1 standard deviation of the mean, 95% within 2 standard deviations, and 99% within 3 standard deviations.  Let's display a Normal distribution. "
   ]
  },
  {
   "cell_type": "code",
   "execution_count": 13,
   "id": "91b9c71f",
   "metadata": {
    "vscode": {
     "languageId": "r"
    }
   },
   "outputs": [
    {
     "data": {
      "text/html": [
       "0.106645953093775"
      ],
      "text/latex": [
       "0.106645953093775"
      ],
      "text/markdown": [
       "0.106645953093775"
      ],
      "text/plain": [
       "[1] 0.106646"
      ]
     },
     "metadata": {},
     "output_type": "display_data"
    },
    {
     "data": {
      "text/html": [
       "1.00945185357182"
      ],
      "text/latex": [
       "1.00945185357182"
      ],
      "text/markdown": [
       "1.00945185357182"
      ],
      "text/plain": [
       "[1] 1.009452"
      ]
     },
     "metadata": {},
     "output_type": "display_data"
    },
    {
     "data": {
      "image/png": "[encoded data removed]",
      "text/plain": [
       "Plot with title “Histogram of rnorm(300)”"
      ]
     },
     "metadata": {
      "image/png": {
       "height": 420,
       "width": 420
      }
     },
     "output_type": "display_data"
    }
   ],
   "source": [
    "hist(rnorm(300))         # histogram of the normal distribution\n",
    "mean(rnorm(300))         # mean of a normal distribution\n",
    "sd(rnorm(300))           # standard deviation of a normal distribution"
   ]
  },
  {
   "cell_type": "markdown",
   "id": "511d7eae",
   "metadata": {},
   "source": [
    "What does all this have to do with political science? A lot, actually. In political science we are often interested in the attitudes and behaviors of populations, for example the US population. What is the level of presidential approval in the US population? Support for abortion? Or foreign intervention? Collecting data about an entire population is expensive and may not even be feasible. What to do? "
   ]
  },
  {
   "cell_type": "markdown",
   "id": "ca6afa58",
   "metadata": {},
   "source": [
    "### Central Limit Theorem"
   ]
  },
  {
   "cell_type": "markdown",
   "id": "2c3ce369",
   "metadata": {},
   "source": [
    "The *Central Limit Theorem* is a magical solution to the problem. It proves that we can learn some important characteristics of a population of values by examining the corresponding values from a *random sample* of the population. (Recall that for a sample to be random each member of the population must have an equal probability of being chosen for the sample.) For example, if we want to estimate the average level of presidential support in the US population we would take a random sample of the US population (typically 1-3000 people) and then compute the mean (and standard deviation) of presidential support for the sample. \n",
    "\n",
    "How does that work? How can we possibility learn about a population of hundreds of millions of people by examining a random sample of a few thousand? The Central Limit Theorem states that, virtually regardless of the distribution of the quantity of interest in the population, the distribution of sample *means* of the quantity of interest will resemble a Normal distribution for a sufficiently large sample size. Since the properties of a Normal distribution are known (as we saw above) we can make inferences about population values. \n",
    "\n",
    "A proof of the Central Limit Theorem is beyond the scope of the course. But we can illustrate how it works. To do so let's return to the dice rolls example: "
   ]
  },
  {
   "cell_type": "code",
   "execution_count": 14,
   "id": "0ddd0fa2",
   "metadata": {
    "vscode": {
     "languageId": "r"
    }
   },
   "outputs": [
    {
     "data": {
      "text/html": [
       "3.23333333333333"
      ],
      "text/latex": [
       "3.23333333333333"
      ],
      "text/markdown": [
       "3.23333333333333"
      ],
      "text/plain": [
       "[1] 3.233333"
      ]
     },
     "metadata": {},
     "output_type": "display_data"
    },
    {
     "data": {
      "image/png": "[encoded data removed]",
      "text/plain": [
       "Plot with title “Histogram of dice_rolls”"
      ]
     },
     "metadata": {
      "image/png": {
       "height": 420,
       "width": 420
      }
     },
     "output_type": "display_data"
    }
   ],
   "source": [
    "die_choices = c(1,2,3,4,5,6)                              # These are the numbers on the die faces\n",
    "dice_rolls = sample(die_choices, replace = TRUE, size=30) # Take a draw of 30\n",
    "hist(dice_rolls)                                          # Display histogram of dice rolls\n",
    "mean(dice_rolls)                                          # Display mean of dice rolls"
   ]
  },
  {
   "cell_type": "markdown",
   "id": "16077934",
   "metadata": {},
   "source": [
    "This code produces a mean value of a random roll of 30 fair dice. If we execute the above code again we are likely to get a different mean value because we will have a new sample. Note that the mean value is not necessarily always 3.5. Due to natural randomness sometimes it will be less than 3.5 and sometimes more than 3.5 (and rarely exactly 3.5). "
   ]
  },
  {
   "cell_type": "markdown",
   "id": "6bac5b33",
   "metadata": {},
   "source": [
    "What we want to do now it take repeated samples. We could scroll up and run this code over and over a very large number of times, being sure to write down the mean value on the dice for each sample. But that would be inefficient. Instead we are going to let R do it for us. The following code does it. "
   ]
  },
  {
   "cell_type": "markdown",
   "id": "98a8ad0a",
   "metadata": {},
   "source": [
    "<center>\n",
    "    <h2>\n",
    "        <a href=\"https://shiny.datahub.berkeley.edu/hub/user-redirect/git-pull?repo=https%3A%2F%2Fgithub.com%2Fds-modules%2Fpolisci-3&branch=main&urlpath=shiny%2Fpolisci-3%2FModule_6_Descriptive_Statistics%2F\">\n",
    "        Link to interactive version of the cell below\n",
    "        </a>\n",
    "    </h2>\n",
    "</center>"
   ]
  },
  {
   "cell_type": "code",
   "execution_count": 9,
   "id": "7dd1c2b7",
   "metadata": {},
   "outputs": [
    {
     "data": {
      "image/png": "[encoded data removed]",
      "text/plain": [
       "Plot with title “Distribution of mean dice roll number”"
      ]
     },
     "metadata": {
      "image/png": {
       "height": 420,
       "width": 420
      }
     },
     "output_type": "display_data"
    }
   ],
   "source": [
    "#Dice Rolling Average\n",
    "mean_distribution = function(Sample_size){                 # Function to record mean values of samples                \n",
    "    average_values=c()                                     # Vector to hold averagae values\n",
    "    for (i in 1:1000){                                     # Take 1000 samples                                     \n",
    "        faces=c(1,2,3,4,5,6)\n",
    "        outcomes=(sample(faces, replace=TRUE, Sample_size))\n",
    "        average_values=append(average_values, mean(outcomes)) # Compute average value for sample i\n",
    "    }\n",
    "    hist(average_values, freq=FALSE, xlim = c(1,6), ylim = c(0,2.5), \n",
    "         xlab = \"mean_dice_roll_outcomes\", main = \"Distribution of mean dice roll number\")   # Draw distribution of mean values\n",
    "}\n",
    "mean_distribution(15)                                       # Call function with sample size=15"
   ]
  },
  {
   "cell_type": "markdown",
   "id": "221900a0",
   "metadata": {},
   "source": [
    "*Review*: As you increase and decrease the sample size by changing the number within mean_distribution(30) above, what do you notice about the sampling distribution?"
   ]
  },
  {
   "cell_type": "markdown",
   "id": "d697b671",
   "metadata": {},
   "source": [
    "The above distribution is centered around 3.5! The *sampling distribution*, the hypothetical distribution of sample means (average dice roll outcomes), is centered around the true population mean. This is guaranteed by the Central Limit Theorem, which states that:\n",
    "\n",
    "1. Virtually regardless of the underlying distribution of population data (in the dice case a uniform distribution), the sampling distribution for the data will approximate a Normal distribution.  \n",
    "\n",
    "2. The distribution of sample means will have an average equal to the population mean.\n",
    "\n",
    "3. The standard deviation of the sample means, called the *standard error of the mean*, is equal to: $$\\sigma_{\\overline{Y}}=\\frac{\\sigma_Y}{\\sqrt{n}}$$"
   ]
  },
  {
   "cell_type": "markdown",
   "id": "16b2334e",
   "metadata": {},
   "source": [
    "## Statistical Inference"
   ]
  },
  {
   "cell_type": "markdown",
   "id": "e9b13362",
   "metadata": {},
   "source": [
    "We have learned that the sampling distribution of the sample means has desirable properties when the sample size is sufficiently large. In empirical political science practice, however, we usually do not have the luxury of generating a sampling distribution. Rather, we have one random sample and need to use it to estimate the population mean. How do we know how close our sample mean is to the unknown population mean? The Central Limit Theorem allows us to provide an estimate of the amount of error there is in estimating the population mean.  "
   ]
  },
  {
   "cell_type": "markdown",
   "id": "14df53cf",
   "metadata": {},
   "source": [
    "To do this let's use R to simulate a sample of 30 student grades from the many thousands of students who have taken PS3 over the years: "
   ]
  },
  {
   "cell_type": "code",
   "execution_count": 7,
   "id": "d8b3ed80",
   "metadata": {
    "vscode": {
     "languageId": "r"
    }
   },
   "outputs": [
    {
     "data": {
      "text/html": [
       "<style>\n",
       ".list-inline {list-style: none; margin:0; padding: 0}\n",
       ".list-inline>li {display: inline-block}\n",
       ".list-inline>li:not(:last-child)::after {content: \"\\00b7\"; padding: 0 .5ex}\n",
       "</style>\n",
       "<ol class=list-inline><li>93</li><li>88</li><li>78</li><li>85</li><li>83</li><li>83</li></ol>\n"
      ],
      "text/latex": [
       "\\begin{enumerate*}\n",
       "\\item 93\n",
       "\\item 88\n",
       "\\item 78\n",
       "\\item 85\n",
       "\\item 83\n",
       "\\item 83\n",
       "\\end{enumerate*}\n"
      ],
      "text/markdown": [
       "1. 93\n",
       "2. 88\n",
       "3. 78\n",
       "4. 85\n",
       "5. 83\n",
       "6. 83\n",
       "\n",
       "\n"
      ],
      "text/plain": [
       "[1] 93 88 78 85 83 83"
      ]
     },
     "metadata": {},
     "output_type": "display_data"
    }
   ],
   "source": [
    "class_size = 30                                                  # Sample size = 30\n",
    "midterm_grade = sample(c(73:93), replace=TRUE, class_size)       # Generate sample of grades betw 73 and 93\n",
    "head(midterm_grade)                                              # Display grades"
   ]
  },
  {
   "cell_type": "markdown",
   "id": "d7ad8377",
   "metadata": {},
   "source": [
    "First we need to compute the sample mean $$\\overline{Y}=\\frac{\\sum_{i=1}^{n}Y_i}{n}$$ and standard deviation $$\\sigma_Y=\\sqrt{\\frac{\\sum_{i=1}^{n} (Y_i - \\overline{Y})^2}{n-1}}$$ It is easy in R. "
   ]
  },
  {
   "cell_type": "code",
   "execution_count": 8,
   "id": "1aeca36e",
   "metadata": {
    "vscode": {
     "languageId": "r"
    }
   },
   "outputs": [
    {
     "data": {
      "text/html": [
       "81.8"
      ],
      "text/latex": [
       "81.8"
      ],
      "text/markdown": [
       "81.8"
      ],
      "text/plain": [
       "[1] 81.8"
      ]
     },
     "metadata": {},
     "output_type": "display_data"
    }
   ],
   "source": [
    "sample_avg = mean(midterm_grade)\n",
    "sample_avg"
   ]
  },
  {
   "cell_type": "code",
   "execution_count": 9,
   "id": "4cbcfe55",
   "metadata": {
    "vscode": {
     "languageId": "r"
    }
   },
   "outputs": [
    {
     "data": {
      "text/html": [
       "5.67754196449667"
      ],
      "text/latex": [
       "5.67754196449667"
      ],
      "text/markdown": [
       "5.67754196449667"
      ],
      "text/plain": [
       "[1] 5.677542"
      ]
     },
     "metadata": {},
     "output_type": "display_data"
    }
   ],
   "source": [
    "sample_std_dev = sd(midterm_grade)\n",
    "sample_std_dev"
   ]
  },
  {
   "cell_type": "markdown",
   "id": "aa0ff4a0",
   "metadata": {},
   "source": [
    "And now the standard error: $$\\sigma_\\overline{Y}=\\frac{\\sigma_Y}{\\sqrt{n}}$$"
   ]
  },
  {
   "cell_type": "code",
   "execution_count": 10,
   "id": "5ef2ec5e",
   "metadata": {
    "vscode": {
     "languageId": "r"
    }
   },
   "outputs": [
    {
     "data": {
      "text/html": [
       "1.03657260171234"
      ],
      "text/latex": [
       "1.03657260171234"
      ],
      "text/markdown": [
       "1.03657260171234"
      ],
      "text/plain": [
       "[1] 1.036573"
      ]
     },
     "metadata": {},
     "output_type": "display_data"
    }
   ],
   "source": [
    "std_err = sd(midterm_grade)/(length(midterm_grade))^0.5\n",
    "std_err"
   ]
  },
  {
   "cell_type": "markdown",
   "id": "dd6e4693",
   "metadata": {},
   "source": [
    "Next we need to recall that the distribution of the sample means is Normal (according to the Central Limit Theorem) *and* that 95% of the observations in a Normal distribution are within two standard deviations of the mean. Since the sample mean is our best guess of the population mean, we can conclude that the actual population mean is within two standard errors of the sample mean. We call this the *95% confidence interval*. The 95% confidence interval means that we are 95% confident that the true population mean lies within two standard errors of the sample mean. By the same logic, we can be 99% confident that the true population mean lies within three standard errors of the sample mean. \n",
    "\n",
    "Below, we can calculate the 95% confidence interval for the population midterm grade average."
   ]
  },
  {
   "cell_type": "markdown",
   "id": "dd92a99b",
   "metadata": {},
   "source": [
    "95% confidence interval:  $$\\overline{Y} \\pm 2(\\sigma_\\overline{Y})$$\n"
   ]
  },
  {
   "cell_type": "code",
   "execution_count": 11,
   "id": "cb36b7e2",
   "metadata": {
    "vscode": {
     "languageId": "r"
    }
   },
   "outputs": [
    {
     "name": "stdout",
     "output_type": "stream",
     "text": [
      "[1] \"95% Confidence Interval:\" \"79.7268547965753\"        \n",
      "[3] \"83.8731452034247\"        \n"
     ]
    }
   ],
   "source": [
    "print(c(\"95% Confidence Interval:\", sample_avg - 2*std_err, sample_avg + 2*std_err))"
   ]
  },
  {
   "cell_type": "markdown",
   "id": "eaf11e9d",
   "metadata": {},
   "source": [
    "## Review"
   ]
  },
  {
   "cell_type": "markdown",
   "id": "958290b5",
   "metadata": {},
   "source": [
    "We've done a lot in this lecture:\n",
    "1. Learned how to represent distributions of values, including the Normal distribution\n",
    "2. Demonstrated the Central Limit Theorem and its use for statistical inference\n",
    "3. Learned how to compute a 95% confidence interval around a sample mean"
   ]
  },
  {
   "cell_type": "markdown",
   "id": "b8c82077",
   "metadata": {},
   "source": [
    "#### Reminder about Peer Consulting Office Hours\n",
    "\n",
    "If you had trouble with any content in this notebook, Data Peer Consultants are here to help! You\n",
    "can view their locations and availabilites at this link: https://data.berkeley.edu/degrees/peer-advising. Peer Consultants are there to answer all data-related questions, whether it be about the content of this notebook, applications of data science in the world or other data science courses offered at Berkeley -- make sure to take advantage of this wonderful resource!"
   ]
  }
 ],
 "metadata": {
  "kernelspec": {
   "display_name": "R",
   "language": "R",
   "name": "ir"
  },
  "language_info": {
   "codemirror_mode": "r",
   "file_extension": ".r",
   "mimetype": "text/x-r-source",
   "name": "R",
   "pygments_lexer": "r",
   "version": "4.2.1"
  }
 },
 "nbformat": 4,
 "nbformat_minor": 5
}
