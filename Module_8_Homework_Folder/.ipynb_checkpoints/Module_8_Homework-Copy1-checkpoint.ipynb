{
 "cells": [
  {
   "cell_type": "markdown",
   "id": "c5dcf2f0",
   "metadata": {},
   "source": [
    "# Regression Homework\n",
    "In this homework we will review the process of generating an Ordinary Least Squares regression model. We will review the information that it can tell us about the relationship between variables."
   ]
  },
  {
   "cell_type": "markdown",
   "id": "3e8f0803",
   "metadata": {},
   "source": [
    "Next, we need to load in our election data. This table represents presidential election outcomes from 1880 to 2016. In each row, we have collected information about different features during that year, such as inflation or the presence of a war."
   ]
  },
  {
   "cell_type": "code",
   "execution_count": 2,
   "id": "6f815b97",
   "metadata": {},
   "outputs": [],
   "source": [
    "elections <- read.csv('FairFPSR3.csv')\n",
    "head(elections)"
   ]
  },
  {
   "cell_type": "markdown",
   "id": "31e8738e",
   "metadata": {},
   "source": [
    "Here is the **codebook** that tells you what each variable means.\n",
    "\n",
    "`inc_vote`: % of major party presidential vote won by incumbent party\n",
    "\n",
    "`year`: Year of the presidential election\n",
    "\n",
    "`inflation`: Inflation rate\n",
    "\n",
    "`goodnews`: Number of quarters in the first 15 quarters of admin in which econ growth>3.2%\n",
    "\n",
    "`growth`: % change in real GDP per capita"
   ]
  },
  {
   "cell_type": "markdown",
   "id": "65fdfee5",
   "metadata": {},
   "source": [
    "If we want to see the relationship between vote share and a variable, such as economic growth, we use the <code>lm(data$y_variable ~ data$x_variable)</code> function. To see the result, we call <code>summary()</code>. Below, we produce the regression results for the relationship between incumbent vote share and inflation.  \n",
    "\n",
    "**NOTE:** The important values for you to consider are the number of observations, adjusted R-squared value and the coefficient, standard errors, t-statistics, and p-values associated with the different independent variables."
   ]
  },
  {
   "cell_type": "code",
   "execution_count": 4,
   "id": "c316a0fd",
   "metadata": {
    "scrolled": true
   },
   "outputs": [],
   "source": [
    "reg1 <- lm(elections$inc_vote ~ elections$inflation) \n",
    "summary(reg1)"
   ]
  },
  {
   "cell_type": "markdown",
   "id": "4504420e",
   "metadata": {
    "deletable": false,
    "editable": false
   },
   "source": [
    "<!-- BEGIN QUESTION -->\n",
    "\n",
    "### Question 1:\n",
    "In the output that is produced by the <code>summary()</code> function, there is a row labeled *elections$inflation*. How do we interpret the coefficient for the linear relationship between inflation and presidential vote share?\n",
    "\n",
    "<!--\n",
    "BEGIN QUESTION\n",
    "name: q1\n",
    "manual: true\n",
    "points: 1\n",
    "-->"
   ]
  },
  {
   "cell_type": "markdown",
   "id": "4d0877db",
   "metadata": {},
   "source": [
    "_Type your answer here, replacing this text._"
   ]
  },
  {
   "cell_type": "markdown",
   "id": "22fea399",
   "metadata": {
    "deletable": false,
    "editable": false
   },
   "source": [
    "<!-- END QUESTION -->\n",
    "\n",
    "### Question 2:\n",
    "Now, let's produce the OLS regression results for incumbent vote share and economic growth and replace the \"...\" with the correct variables: \n",
    "\n",
    "<!--\n",
    "BEGIN QUESTION\n",
    "name: q2\n",
    "manual: false\n",
    "points: 1\n",
    "-->"
   ]
  },
  {
   "cell_type": "code",
   "execution_count": 5,
   "id": "02bf021e",
   "metadata": {},
   "outputs": [],
   "source": [
    "## YOUR ANSWER HERE\n",
    "vote_inflation_ols <- lm(elections$... ~ elections$...)\n",
    "summary(vote_inflation_ols)"
   ]
  },
  {
   "cell_type": "code",
   "execution_count": null,
   "id": "98ab10a5",
   "metadata": {
    "deletable": false,
    "editable": false
   },
   "outputs": [],
   "source": [
    ". = ottr::check(\"tests/q2.R\")"
   ]
  },
  {
   "cell_type": "markdown",
   "id": "24940ad0",
   "metadata": {
    "deletable": false,
    "editable": false
   },
   "source": [
    "<!-- BEGIN QUESTION -->\n",
    "\n",
    "### Question 3:\n",
    "Using the *elections$growth* row, we can review the relationship between growth and presidential vote share. Is the relationship statistically significant?\n",
    "\n",
    "<!--\n",
    "BEGIN QUESTION\n",
    "name: q3\n",
    "manual: true\n",
    "points: 1\n",
    "-->"
   ]
  },
  {
   "cell_type": "markdown",
   "id": "b9f10532",
   "metadata": {},
   "source": [
    "_Type your answer here, replacing this text._"
   ]
  },
  {
   "cell_type": "markdown",
   "id": "1c84d144",
   "metadata": {},
   "source": [
    "<!-- END QUESTION -->\n",
    "\n",
    "\n",
    "\n",
    "To use multiple variables, we can modify how we interact with the original function like so: <code>lm(data$dependent_variable ~ data$independent_var_1 + data$independent_var_2 + ...)</code>. Below, we run the regression between the two independent variables economic growth and monetary inflation."
   ]
  },
  {
   "cell_type": "code",
   "execution_count": 7,
   "id": "3ceb2fd5",
   "metadata": {},
   "outputs": [],
   "source": [
    "vote_inflation_growth_ols <- lm(elections$inc_vote ~ elections$inflation + elections$growth)\n",
    "summary(vote_inflation_growth_ols)"
   ]
  },
  {
   "cell_type": "markdown",
   "id": "ae9a5fd8",
   "metadata": {
    "deletable": false,
    "editable": false
   },
   "source": [
    "<!-- BEGIN QUESTION -->\n",
    "\n",
    "### Questions 4:\n",
    "Compare the coefficient and p-values for the two independent variables compared to when we just ran bivariate regression using each of them individually. How do these values change?\n",
    "\n",
    "**Note:** Make sure you run the cell above to generate the multivariate regression. \n",
    "\n",
    "<!--\n",
    "BEGIN QUESTION\n",
    "name: q4\n",
    "manual: true\n",
    "points: 1\n",
    "-->"
   ]
  },
  {
   "cell_type": "markdown",
   "id": "e8cc3ff4",
   "metadata": {},
   "source": [
    "_Type your answer here, replacing this text._"
   ]
  },
  {
   "cell_type": "markdown",
   "id": "705a5348",
   "metadata": {
    "deletable": false,
    "editable": false
   },
   "source": [
    "<!-- END QUESTION -->\n",
    "\n",
    "### Question 5:\n",
    "Now, run the multivariate regression for the relationship between voteshare and \"goodnews\" and \"growth\" and replace the   \"...\" with the correct columns: \n",
    "\n",
    "<!--\n",
    "BEGIN QUESTION\n",
    "name: q5\n",
    "manual: false\n",
    "points: 1\n",
    "-->"
   ]
  },
  {
   "cell_type": "code",
   "execution_count": 6,
   "id": "0adee58d",
   "metadata": {},
   "outputs": [],
   "source": [
    "## YOUR ANSWER HERE\n",
    "vote_goodnews_war_ols <- lm(elections$... ~ elections$... + elections$...)\n",
    "summary(vote_goodnews_war_ols)"
   ]
  },
  {
   "cell_type": "code",
   "execution_count": null,
   "id": "6ec38cb6",
   "metadata": {
    "deletable": false,
    "editable": false
   },
   "outputs": [],
   "source": [
    ". = ottr::check(\"tests/q5.R\")"
   ]
  },
  {
   "cell_type": "markdown",
   "id": "333eae3f",
   "metadata": {
    "deletable": false,
    "editable": false
   },
   "source": [
    "<!-- BEGIN QUESTION -->\n",
    "\n",
    "### Question 6:\n",
    "**Coeffecient Review:**\n",
    "\n",
    "(a) Using the coefficients for the intercept, goodnews, and growth variables, holding growth at its mean, how many months of good economic news is necessary for the incumbent to win?\n",
    "**Hint:** The mean of economic growth is 0.7635\n",
    "\n",
    "<!--\n",
    "BEGIN QUESTION\n",
    "name: q6a\n",
    "manual: true\n",
    "points: 1\n",
    "-->"
   ]
  },
  {
   "cell_type": "markdown",
   "id": "4d9af322",
   "metadata": {},
   "source": [
    "_Type your answer here, replacing this text._"
   ]
  },
  {
   "cell_type": "markdown",
   "id": "bc5f3cd9",
   "metadata": {
    "deletable": false,
    "editable": false
   },
   "source": [
    "<!-- END QUESTION -->\n",
    "\n",
    "<!-- BEGIN QUESTION -->\n",
    "\n",
    "(b) Is goodnews statistically significant at the .05 level? What about at .01? What does this imply about positive economic news and incumbent voteshare?\n",
    "\n",
    "**Hint:** Use a two tailed t test.\n",
    "\n",
    "<!--\n",
    "BEGIN QUESTION\n",
    "name: q6b\n",
    "manual: true\n",
    "points: 1\n",
    "-->"
   ]
  },
  {
   "cell_type": "markdown",
   "id": "4830ef63",
   "metadata": {},
   "source": [
    "_Type your answer here, replacing this text._"
   ]
  },
  {
   "cell_type": "markdown",
   "id": "28d4c20a",
   "metadata": {},
   "source": [
    "<!-- END QUESTION -->\n",
    "\n",
    "\n",
    "\n",
    "### Question 7:\n",
    "Let's practice generating confidence intervals. As we have seen in past lectures, the 95% confidence interval is calculated with $\\beta \\pm t_{critical} * se(\\beta)$. Let's find the 95% confidence interval for the GOODNEWS coefficient."
   ]
  },
  {
   "cell_type": "markdown",
   "id": "be83ed2d",
   "metadata": {
    "deletable": false,
    "editable": false
   },
   "source": [
    "(a) Using the number of observations in the summary and the t-table in the back of your textbook, find the critical value of t, and store it in the variable below.\n",
    "\n",
    "<!--\n",
    "BEGIN QUESTION\n",
    "name: q7a\n",
    "manual: false\n",
    "points: 1\n",
    "-->"
   ]
  },
  {
   "cell_type": "code",
   "execution_count": 8,
   "id": "d6044fca",
   "metadata": {},
   "outputs": [],
   "source": [
    "t_critical <- ...\n",
    "t_critical"
   ]
  },
  {
   "cell_type": "code",
   "execution_count": null,
   "id": "91e5565f",
   "metadata": {
    "deletable": false,
    "editable": false
   },
   "outputs": [],
   "source": [
    ". = ottr::check(\"tests/q7a.R\")"
   ]
  },
  {
   "cell_type": "markdown",
   "id": "9f943054",
   "metadata": {
    "deletable": false,
    "editable": false
   },
   "source": [
    "(b) Next, use the summary output to store the standard error for the goodnews coefficient.\n",
    "\n",
    "<!--\n",
    "BEGIN QUESTION\n",
    "name: q7b\n",
    "manual: false\n",
    "points: 1\n",
    "-->"
   ]
  },
  {
   "cell_type": "code",
   "execution_count": 10,
   "id": "318ea411",
   "metadata": {},
   "outputs": [],
   "source": [
    "goodnews_se <- ...\n",
    "goodnews_se"
   ]
  },
  {
   "cell_type": "code",
   "execution_count": null,
   "id": "15ad64f6",
   "metadata": {
    "deletable": false,
    "editable": false
   },
   "outputs": [],
   "source": [
    ". = ottr::check(\"tests/q7b.R\")"
   ]
  },
  {
   "cell_type": "markdown",
   "id": "247c988f",
   "metadata": {
    "deletable": false,
    "editable": false
   },
   "source": [
    "(c) Using the standard error, calculate the 95% confidence interval. In the cell below, fill out the values for the lower and upper bound of the interval. \n",
    "\n",
    "<!--\n",
    "BEGIN QUESTION\n",
    "name: q7c\n",
    "manual: false\n",
    "points: 1\n",
    "-->"
   ]
  },
  {
   "cell_type": "code",
   "execution_count": 12,
   "id": "bc59a38c",
   "metadata": {},
   "outputs": [],
   "source": [
    "## YOUR ANSWER HERE\n",
    "goodnews_lower <-  ... - ...*goodnews_se\n",
    "goodnews_upper <- ... + ...*goodnews_se\n",
    "q7c.answer <-c(goodnews_lower, goodnews_upper)\n",
    "q7c.answer"
   ]
  },
  {
   "cell_type": "code",
   "execution_count": null,
   "id": "da384050",
   "metadata": {
    "deletable": false,
    "editable": false
   },
   "outputs": [],
   "source": [
    ". = ottr::check(\"tests/q7c.R\")"
   ]
  },
  {
   "cell_type": "markdown",
   "id": "f540553e",
   "metadata": {
    "deletable": false,
    "editable": false
   },
   "source": [
    "<!-- BEGIN QUESTION -->\n",
    "\n",
    "(d) Interpret this confidence interval: what can we say about the effect of good news on incumbent vote share?\n",
    "\n",
    "<!--\n",
    "BEGIN QUESTION\n",
    "name: q7d\n",
    "manual: true\n",
    "points: 1\n",
    "-->"
   ]
  },
  {
   "cell_type": "markdown",
   "id": "eeb30bb0",
   "metadata": {},
   "source": [
    "_Type your answer here, replacing this text._"
   ]
  },
  {
   "cell_type": "markdown",
   "id": "1cea087d",
   "metadata": {},
   "source": [
    "<!-- END QUESTION -->\n",
    "\n",
    "\n",
    "\n",
    "## OLS Review: Population and Sample Models:\n",
    "\n",
    "### Question 8\n",
    "In the following questions, the models in focus are bivariate, using the population model ${Y_i} = \\alpha + \\beta X_i+u_i$ and sample model ${Y_i} = \\hat{\\alpha} + \\hat{\\beta}X_i+\\hat{u_i}$  \n"
   ]
  },
  {
   "cell_type": "markdown",
   "id": "fc8e0330",
   "metadata": {},
   "source": [
    "(a) Which of the following statements are accurate about the population regression model?"
   ]
  },
  {
   "cell_type": "markdown",
   "id": "a042409b",
   "metadata": {
    "deletable": false,
    "editable": false
   },
   "source": [
    "a) ${u}_i$ is the stochastic component of $Y_i$  \n",
    "b) $\\hat{\\alpha_i} + \\hat{\\beta} X_i$ is the systematic component of $Y_i$  \n",
    "c) Both (a) and (b) are correct  \n",
    "d) Neither (a) nor (b) are correct\n",
    "\n",
    "<!--\n",
    "BEGIN QUESTION\n",
    "name: q8a\n",
    "manual: false\n",
    "points: 2\n",
    "-->"
   ]
  },
  {
   "cell_type": "code",
   "execution_count": 14,
   "id": "24dad96b",
   "metadata": {},
   "outputs": [],
   "source": [
    "q8a.answer <- ..."
   ]
  },
  {
   "cell_type": "code",
   "execution_count": null,
   "id": "bf7d82bf",
   "metadata": {
    "deletable": false,
    "editable": false
   },
   "outputs": [],
   "source": [
    ". = ottr::check(\"tests/q8a.R\")"
   ]
  },
  {
   "cell_type": "markdown",
   "id": "7a0d605a",
   "metadata": {},
   "source": [
    "(b) Which of the following statements are accurate about the population regression model?"
   ]
  },
  {
   "cell_type": "markdown",
   "id": "f93af5ba",
   "metadata": {
    "deletable": false,
    "editable": false
   },
   "source": [
    "a) $\\hat{u}_i$ is an estimate of $u_i$  \n",
    "b) $X_i$ is assumed to be measured without error  \n",
    "c) Both (a) and (b) are correct  \n",
    "d) Neither (a) nor (b) are correct\n",
    "\n",
    "<!--\n",
    "BEGIN QUESTION\n",
    "name: q8b\n",
    "manual: false\n",
    "points: 2\n",
    "-->"
   ]
  },
  {
   "cell_type": "code",
   "execution_count": 16,
   "id": "64af6541",
   "metadata": {},
   "outputs": [],
   "source": [
    "q8b.answer <- ..."
   ]
  },
  {
   "cell_type": "code",
   "execution_count": null,
   "id": "3e123289",
   "metadata": {
    "deletable": false,
    "editable": false
   },
   "outputs": [],
   "source": [
    ". = ottr::check(\"tests/q8b.R\")"
   ]
  },
  {
   "cell_type": "markdown",
   "id": "d86ba011",
   "metadata": {},
   "source": [
    "(c) Which of the statements are accurate?"
   ]
  },
  {
   "cell_type": "markdown",
   "id": "896a80ab",
   "metadata": {
    "deletable": false,
    "editable": false
   },
   "source": [
    "a) By specifying a bivariate regression model we are assuming that the impact of a one unit increase in $X_i$ will always be $\\beta$.  \n",
    "b) By specifying a bivariate regression model we are assuming that there are no other variables that cause $Y_i$.  \n",
    "c) Both (a) and (b) are correct    \n",
    "d) Neither (a) nor (b) are correct \n",
    "\n",
    "<!--\n",
    "BEGIN QUESTION\n",
    "name: q8c\n",
    "manual: false\n",
    "points: 2\n",
    "-->"
   ]
  },
  {
   "cell_type": "code",
   "execution_count": 18,
   "id": "e7a31fe9",
   "metadata": {},
   "outputs": [],
   "source": [
    "q8c.answer <- ..."
   ]
  },
  {
   "cell_type": "code",
   "execution_count": null,
   "id": "3bf4c716",
   "metadata": {
    "deletable": false,
    "editable": false
   },
   "outputs": [],
   "source": [
    ". = ottr::check(\"tests/q8c.R\")"
   ]
  },
  {
   "cell_type": "markdown",
   "id": "a4902ad2",
   "metadata": {},
   "source": [
    "<!-- END QUESTION -->\n",
    "\n",
    "\n",
    "\n",
    "-----\n",
    "\n",
    "## Submitting Your Notebook\n",
    "\n",
    "Congratulations! You have now finished your final coding assignment. Well done!\n",
    "\n",
    "Before you head off to celebrate your work, please remember to save your work and submit it before the deadline!\n",
    "\n",
    "To submit your notebook...\n",
    "\n",
    "### 1. Select the cell below and hit run. Then wait 10 seconds."
   ]
  },
  {
   "cell_type": "code",
   "execution_count": null,
   "id": "3847d617",
   "metadata": {},
   "outputs": [],
   "source": [
    "# Don't worry about what is in this cell, just run it!\n",
    "nb_name <- \"Homework7.ipynb\"\n",
    "system(paste0(\"python3 -c 'import otter; otter.Notebook(\\\"\", nb_name, \"\\\").export()'\"))\n",
    "fp = tail(sort(Sys.glob(\"*.zip\")), n=1)\n",
    "IRdisplay::display_html(paste0(\"<a style='font-size: 36px;'' href='\", fp, \"' download='\", fp, \"'>Click here to download your submission</a>\"))"
   ]
  },
  {
   "cell_type": "markdown",
   "id": "56014215",
   "metadata": {},
   "source": [
    "After you hit \"Run\" on the cell above, wait for a moment (about 10 seconds), then click the download link. A .zip file should download to your computer.\n",
    "\n",
    "(If you make changes to your notebook, you'll need to run the cell above again before you submit to get a new version of it.)\n",
    "\n",
    "### 2. Submit the .zip file you just downloaded <a href=\"https://www.gradescope.com/courses/402785\" target=\"_blank\">on Gradescope here</a>.\n",
    "\n",
    "Notes:\n",
    "\n",
    "- **This does not seem to work on Chrome for iPad or iPhone.** If you're using an iPad or iPhone, you need to download the file using **Safari**.\n",
    "- If your web browser automatically unzips the .zip file (so you see a folder instead of a .zip file), you can just upload the .ipynb file that is inside the folder.\n",
    "- If this method is not working for you, try the \"old way\": hit `File`, then `Download as`, then `Notebook (.ipynb)` and submit that."
   ]
  },
  {
   "cell_type": "code",
   "execution_count": null,
   "id": "54c7dc84",
   "metadata": {},
   "outputs": [],
   "source": []
  }
 ],
 "metadata": {
  "kernelspec": {
   "display_name": "R",
   "language": "R",
   "name": "ir"
  },
  "language_info": {
   "codemirror_mode": "r",
   "file_extension": ".r",
   "mimetype": "text/x-r-source",
   "name": "R",
   "pygments_lexer": "r",
   "version": "4.1.2"
  }
 },
 "nbformat": 4,
 "nbformat_minor": 5
}
