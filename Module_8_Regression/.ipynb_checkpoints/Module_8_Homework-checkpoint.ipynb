{
 "cells": [
  {
   "cell_type": "markdown",
   "id": "4a67e7a3",
   "metadata": {},
   "source": [
    "# Regression Homework\n",
    "In this homework we will review the process of generating an Ordinary Least Squares regression model. We will review the information that it can tell us about the relationship between variables."
   ]
  },
  {
   "cell_type": "markdown",
   "id": "1980ea4f",
   "metadata": {},
   "source": [
    "Next, we need to load in our election data. This table represents presidential election outcomes from 1880 to now. In each row, we have collected information about different features during that year, such as inflation or the presence of a war."
   ]
  },
  {
   "cell_type": "code",
   "execution_count": 14,
   "id": "79905821",
   "metadata": {},
   "outputs": [
    {
     "data": {
      "text/html": [
       "<table class=\"dataframe\">\n",
       "<caption>A data.frame: 6 × 5</caption>\n",
       "<thead>\n",
       "\t<tr><th></th><th scope=col>inc_vote</th><th scope=col>year</th><th scope=col>inflation</th><th scope=col>goodnews</th><th scope=col>growth</th></tr>\n",
       "\t<tr><th></th><th scope=col>&lt;dbl&gt;</th><th scope=col>&lt;dbl&gt;</th><th scope=col>&lt;dbl&gt;</th><th scope=col>&lt;dbl&gt;</th><th scope=col>&lt;dbl&gt;</th></tr>\n",
       "</thead>\n",
       "<tbody>\n",
       "\t<tr><th scope=row>1</th><td>48.516</td><td>1876</td><td>   NA</td><td>NA</td><td>  5.110</td></tr>\n",
       "\t<tr><th scope=row>2</th><td>50.220</td><td>1880</td><td>1.974</td><td> 9</td><td>  3.879</td></tr>\n",
       "\t<tr><th scope=row>3</th><td>49.846</td><td>1884</td><td>1.055</td><td> 2</td><td>  1.589</td></tr>\n",
       "\t<tr><th scope=row>4</th><td>50.414</td><td>1888</td><td>0.604</td><td> 3</td><td> -5.553</td></tr>\n",
       "\t<tr><th scope=row>5</th><td>48.268</td><td>1892</td><td>2.274</td><td> 7</td><td>  2.763</td></tr>\n",
       "\t<tr><th scope=row>6</th><td>47.760</td><td>1896</td><td>3.410</td><td> 6</td><td>-10.024</td></tr>\n",
       "</tbody>\n",
       "</table>\n"
      ],
      "text/latex": [
       "A data.frame: 6 × 5\n",
       "\\begin{tabular}{r|lllll}\n",
       "  & inc\\_vote & year & inflation & goodnews & growth\\\\\n",
       "  & <dbl> & <dbl> & <dbl> & <dbl> & <dbl>\\\\\n",
       "\\hline\n",
       "\t1 & 48.516 & 1876 &    NA & NA &   5.110\\\\\n",
       "\t2 & 50.220 & 1880 & 1.974 &  9 &   3.879\\\\\n",
       "\t3 & 49.846 & 1884 & 1.055 &  2 &   1.589\\\\\n",
       "\t4 & 50.414 & 1888 & 0.604 &  3 &  -5.553\\\\\n",
       "\t5 & 48.268 & 1892 & 2.274 &  7 &   2.763\\\\\n",
       "\t6 & 47.760 & 1896 & 3.410 &  6 & -10.024\\\\\n",
       "\\end{tabular}\n"
      ],
      "text/markdown": [
       "\n",
       "A data.frame: 6 × 5\n",
       "\n",
       "| <!--/--> | inc_vote &lt;dbl&gt; | year &lt;dbl&gt; | inflation &lt;dbl&gt; | goodnews &lt;dbl&gt; | growth &lt;dbl&gt; |\n",
       "|---|---|---|---|---|---|\n",
       "| 1 | 48.516 | 1876 |    NA | NA |   5.110 |\n",
       "| 2 | 50.220 | 1880 | 1.974 |  9 |   3.879 |\n",
       "| 3 | 49.846 | 1884 | 1.055 |  2 |   1.589 |\n",
       "| 4 | 50.414 | 1888 | 0.604 |  3 |  -5.553 |\n",
       "| 5 | 48.268 | 1892 | 2.274 |  7 |   2.763 |\n",
       "| 6 | 47.760 | 1896 | 3.410 |  6 | -10.024 |\n",
       "\n"
      ],
      "text/plain": [
       "  inc_vote year inflation goodnews growth \n",
       "1 48.516   1876    NA     NA         5.110\n",
       "2 50.220   1880 1.974      9         3.879\n",
       "3 49.846   1884 1.055      2         1.589\n",
       "4 50.414   1888 0.604      3        -5.553\n",
       "5 48.268   1892 2.274      7         2.763\n",
       "6 47.760   1896 3.410      6       -10.024"
      ]
     },
     "metadata": {},
     "output_type": "display_data"
    }
   ],
   "source": [
    "elections <- read.csv('FairFPSR3.csv')\n",
    "head(elections)"
   ]
  },
  {
   "cell_type": "markdown",
   "id": "f36a8b18",
   "metadata": {},
   "source": [
    "If we want to see the relationship between vote share and a variable, such as economic growth, we use the <code>lm(data$y_variable ~ data$x_variable)</code> function. To see the result, we call <code>summary()</code>. Below, we produce the regression results for the relationship between incumbent vote share and inflation.  \n",
    "\n",
    "**NOTE:** Most of the results from this output are outside the scope of this course. The important values for you to consider are the number of observations, adjusted R-squared value and the coefficient, standard errors, t-statistics, and p-values associated with the different independent variables."
   ]
  },
  {
   "cell_type": "code",
   "execution_count": 8,
   "id": "9ea2a92e",
   "metadata": {},
   "outputs": [
    {
     "data": {
      "text/plain": [
       "\n",
       "Call:\n",
       "lm(formula = elections$inc_vote ~ elections$inflation)\n",
       "\n",
       "Residuals:\n",
       "     Min       1Q   Median       3Q      Max \n",
       "-16.9199  -2.6002  -0.7489   2.5100  10.6823 \n",
       "\n",
       "Coefficients:\n",
       "                    Estimate Std. Error t value Pr(>|t|)    \n",
       "(Intercept)          53.0679     1.6137  32.886   <2e-16 ***\n",
       "elections$inflation  -0.4071     0.4959  -0.821    0.418    \n",
       "---\n",
       "Signif. codes:  0 ‘***’ 0.001 ‘**’ 0.01 ‘*’ 0.05 ‘.’ 0.1 ‘ ’ 1\n",
       "\n",
       "Residual standard error: 5.868 on 33 degrees of freedom\n",
       "  (1 observation deleted due to missingness)\n",
       "Multiple R-squared:  0.02001,\tAdjusted R-squared:  -0.009688 \n",
       "F-statistic: 0.6738 on 1 and 33 DF,  p-value: 0.4176\n"
      ]
     },
     "metadata": {},
     "output_type": "display_data"
    }
   ],
   "source": [
    "reg1 <- lm(elections$inc_vote ~ elections$inflation) \n",
    "summary(reg1)"
   ]
  },
  {
   "cell_type": "markdown",
   "id": "0806887f",
   "metadata": {},
   "source": [
    "### Question 1:\n",
    "In the output that is produced by the <code>summary()</code> function, there is a row labeled \"inflation\".What does it tell us about the coefficient for the linear relationship between inflation and presidential vote share?"
   ]
  },
  {
   "cell_type": "markdown",
   "id": "f4d3498d",
   "metadata": {},
   "source": [
    "*YOUR ANSWER HERE*"
   ]
  },
  {
   "cell_type": "markdown",
   "id": "11870b82",
   "metadata": {},
   "source": [
    "### Question 2:\n",
    "Now, let's produce the OLS regression results for incumbent vote share and economic growth (the \"growth\" column) and replace the \"(...)\" with the correct columns: "
   ]
  },
  {
   "cell_type": "code",
   "execution_count": 6,
   "id": "48f69b16",
   "metadata": {},
   "outputs": [
    {
     "ename": "ERROR",
     "evalue": "Error in parse(text = x, srcfile = src): <text>:1:35: unexpected '('\n1: vote_inflation_ols = lm(elections$(\n                                      ^\n",
     "output_type": "error",
     "traceback": [
      "Error in parse(text = x, srcfile = src): <text>:1:35: unexpected '('\n1: vote_inflation_ols = lm(elections$(\n                                      ^\nTraceback:\n"
     ]
    }
   ],
   "source": [
    "vote_inflation_ols <- lm(elections$(...) ~ elections$(...))\n",
    "summary(vote_inflation_ols)"
   ]
  },
  {
   "cell_type": "markdown",
   "id": "2df64aee",
   "metadata": {},
   "source": [
    "### Question 3:\n",
    "Using the \"growth\" row, we can review what we can determine about the relationship between growth and presidential vote share. Is the relationship statistically significant?"
   ]
  },
  {
   "cell_type": "markdown",
   "id": "762f2e0d",
   "metadata": {},
   "source": [
    "*YOUR ANSWER HERE*"
   ]
  },
  {
   "cell_type": "markdown",
   "id": "17f09dcf",
   "metadata": {},
   "source": [
    "To use multiple variables, we can modify how we interact with the original function like so: <code>lm(data$dependent_variable ~ data$independent_var_1 + data$independent_var_2 + ...)</code>. Below, we run the regression between the two independent variables economic growth and monetary inflation."
   ]
  },
  {
   "cell_type": "code",
   "execution_count": 9,
   "id": "96a351ba",
   "metadata": {},
   "outputs": [
    {
     "data": {
      "text/plain": [
       "\n",
       "Call:\n",
       "lm(formula = elections$inc_vote ~ elections$inflation + elections$growth)\n",
       "\n",
       "Residuals:\n",
       "    Min      1Q  Median      3Q     Max \n",
       "-8.4204 -3.3679 -0.8449  2.9008  9.8026 \n",
       "\n",
       "Coefficients:\n",
       "                    Estimate Std. Error t value Pr(>|t|)    \n",
       "(Intercept)          51.9637     1.3594  38.226   <2e-16 ***\n",
       "elections$inflation  -0.1375     0.4146  -0.332   0.7423    \n",
       "elections$growth      0.6451     0.1591   4.055   0.0003 ***\n",
       "---\n",
       "Signif. codes:  0 ‘***’ 0.001 ‘**’ 0.01 ‘*’ 0.05 ‘.’ 0.1 ‘ ’ 1\n",
       "\n",
       "Residual standard error: 4.843 on 32 degrees of freedom\n",
       "  (1 observation deleted due to missingness)\n",
       "Multiple R-squared:  0.3527,\tAdjusted R-squared:  0.3122 \n",
       "F-statistic: 8.717 on 2 and 32 DF,  p-value: 0.0009504\n"
      ]
     },
     "metadata": {},
     "output_type": "display_data"
    }
   ],
   "source": [
    "vote_inflation_growth_ols <- lm(elections$inc_vote ~ elections$inflation + elections$growth)\n",
    "summary(vote_inflation_growth_ols)"
   ]
  },
  {
   "cell_type": "markdown",
   "id": "c6827ba0",
   "metadata": {},
   "source": [
    "### Questions 4:\n",
    "Compare the coefficient and p-values for the two independent variables compared to when we just ran bivariate regression using each of them individually. How do these values change?"
   ]
  },
  {
   "cell_type": "markdown",
   "id": "168c87c4",
   "metadata": {},
   "source": [
    "*YOUR ANSWER HERE*"
   ]
  },
  {
   "cell_type": "markdown",
   "id": "d18e7c92",
   "metadata": {},
   "source": [
    "### Question 5:\n",
    "Now, run the multivariate regression for the relationship between voteshare and \"goodnews\" and \"growth\" and replace the   \"(...)\" with the correct columns: "
   ]
  },
  {
   "cell_type": "code",
   "execution_count": 10,
   "id": "f5df81fd",
   "metadata": {},
   "outputs": [
    {
     "ename": "ERROR",
     "evalue": "Error in parse(text = x, srcfile = src): <text>:1:38: unexpected '('\n1: vote_goodnews_war_ols = lm(elections$(\n                                         ^\n",
     "output_type": "error",
     "traceback": [
      "Error in parse(text = x, srcfile = src): <text>:1:38: unexpected '('\n1: vote_goodnews_war_ols = lm(elections$(\n                                         ^\nTraceback:\n"
     ]
    }
   ],
   "source": [
    "vote_goodnews_war_ols <- lm(elections$(...) ~ elections$(...) + elections$(...))\n",
    "summary(vote_goodnews_war_ols)"
   ]
  },
  {
   "cell_type": "markdown",
   "id": "c3fad7d9",
   "metadata": {},
   "source": [
    "### Question 6:\n",
    "**Coeffecient Review:**\n",
    "\n",
    "(a) Using the coefficients for the intercept, goodnews, and growth variables, holding growth constant, how many months of good economic news is necessary for the incumbent to win?"
   ]
  },
  {
   "cell_type": "markdown",
   "id": "c7cd8424",
   "metadata": {},
   "source": [
    "*YOUR ANSWER HERE*"
   ]
  },
  {
   "cell_type": "markdown",
   "id": "048c5441",
   "metadata": {},
   "source": [
    "(b) Is goodnews statistically significant at the .05 level? What about at .01? What does this imply about positive economic news and incumbent voteshare?"
   ]
  },
  {
   "cell_type": "markdown",
   "id": "333f194a",
   "metadata": {},
   "source": [
    "*YOUR ANSWER HERE*"
   ]
  },
  {
   "cell_type": "markdown",
   "id": "7accd2a8",
   "metadata": {},
   "source": [
    "### Question 7:\n",
    "Let's practice generating confidence intervals. As we have seen in past lectures, the 95% confidence interval is calculated with $\\beta \\pm t_{critical} * se(\\beta)$. Let's find the 95% confidence interval for the GOODNEWS coefficient."
   ]
  },
  {
   "cell_type": "markdown",
   "id": "3f88f705",
   "metadata": {},
   "source": [
    "(a) Using the number of observations in the summary and the t-table in the back of your textbook, find the critical value of t, and store it in the variable below."
   ]
  },
  {
   "cell_type": "code",
   "execution_count": 11,
   "id": "20078802",
   "metadata": {},
   "outputs": [
    {
     "ename": "ERROR",
     "evalue": "Error in eval(expr, envir, enclos): '...' used in an incorrect context\n",
     "output_type": "error",
     "traceback": [
      "Error in eval(expr, envir, enclos): '...' used in an incorrect context\nTraceback:\n"
     ]
    }
   ],
   "source": [
    "t_critical <- ...\n",
    "t_critical"
   ]
  },
  {
   "cell_type": "markdown",
   "id": "e50e2c93",
   "metadata": {},
   "source": [
    "(b) Next, use the summary output to store the standard error for the goodnews coefficient."
   ]
  },
  {
   "cell_type": "code",
   "execution_count": 12,
   "id": "2dac8f36",
   "metadata": {},
   "outputs": [
    {
     "ename": "ERROR",
     "evalue": "Error in eval(expr, envir, enclos): '...' used in an incorrect context\n",
     "output_type": "error",
     "traceback": [
      "Error in eval(expr, envir, enclos): '...' used in an incorrect context\nTraceback:\n"
     ]
    }
   ],
   "source": [
    "goodnews_se <- ...\n",
    "goodnews_se"
   ]
  },
  {
   "cell_type": "markdown",
   "id": "7882824f",
   "metadata": {},
   "source": [
    "(c) Using the standard error, calculate the 95% confidence interval. In the cell below, fill out the values for the lower and upper bound of the interval. "
   ]
  },
  {
   "cell_type": "code",
   "execution_count": 13,
   "id": "bfc104d0",
   "metadata": {},
   "outputs": [
    {
     "ename": "ERROR",
     "evalue": "Error in eval(expr, envir, enclos): '...' used in an incorrect context\n",
     "output_type": "error",
     "traceback": [
      "Error in eval(expr, envir, enclos): '...' used in an incorrect context\nTraceback:\n"
     ]
    }
   ],
   "source": [
    "goodnews_lower <-  ... - ...*goodnews_se\n",
    "goodnews_upper <- ... + ...*goodnews_se\n",
    "c(goodnews_lower, goodnews_upper)"
   ]
  },
  {
   "cell_type": "markdown",
   "id": "ae882c5f",
   "metadata": {},
   "source": [
    "Interpret this confidence interval: what can we say about the effect of good news on incumbent vote share?"
   ]
  },
  {
   "cell_type": "markdown",
   "id": "38bb8b36",
   "metadata": {},
   "source": [
    "*YOUR ANSWER HERE*"
   ]
  },
  {
   "cell_type": "markdown",
   "id": "37a6a547",
   "metadata": {},
   "source": [
    "## OLS Review: Population and Sample Models:\n",
    "In the following questions, the models in focus are bivariate, using the population model ${Y_i} = \\alpha + \\beta X_i+u_i$ and sample model ${Y_i} = \\hat{\\alpha} + \\hat{\\beta}X_i+\\hat{u_i}$  \n"
   ]
  },
  {
   "cell_type": "markdown",
   "id": "bcf54b6b",
   "metadata": {},
   "source": [
    "Which of the following statements are accurate about the population regression model?"
   ]
  },
  {
   "cell_type": "markdown",
   "id": "d4a2565b",
   "metadata": {},
   "source": [
    "*YOUR ANSWER HERE*"
   ]
  },
  {
   "cell_type": "markdown",
   "id": "f2aa04c9",
   "metadata": {},
   "source": [
    "Which of the following statements are accurate about the population regression model?"
   ]
  },
  {
   "cell_type": "markdown",
   "id": "efa87b86",
   "metadata": {},
   "source": [
    "A) $\\hat{u}_i$ is an estimate of $u_i$  \n",
    "B) $X_i$ is assumed to be measured without error  \n",
    "C) Both (a) and (b) are correct  \n",
    "D) Neither (a) nor (b) are correct"
   ]
  },
  {
   "cell_type": "markdown",
   "id": "f7f2ce25",
   "metadata": {},
   "source": [
    "*YOUR ANSWER HERE*"
   ]
  },
  {
   "cell_type": "markdown",
   "id": "605f87bf",
   "metadata": {},
   "source": [
    "Which of the statements are accurate?"
   ]
  },
  {
   "cell_type": "markdown",
   "id": "300849a1",
   "metadata": {},
   "source": [
    "A) By specifying a bivariate regression model we are assuming that the impact of a one unit increase in $X_i$ will always be β.  \n",
    "B) By specifying a bivariate regression model we are assuming that there are no other variables that cause $Y_i$.  \n",
    "C) Both (a) and (b) are correct    \n",
    "D) Neither (a) nor (b) are correct  "
   ]
  },
  {
   "cell_type": "markdown",
   "id": "ade43f13",
   "metadata": {},
   "source": [
    "*YOUR ANSWER HERE*"
   ]
  },
  {
   "cell_type": "markdown",
   "id": "2423f90e",
   "metadata": {},
   "source": [
    "## Saving Your Notebook\n",
    "Now that you've finished the homework, we need to save it! To do this, click <code>File</code> $\\rightarrow$ <code>Download as</code> $\\rightarrow$ <code>PDF via Chrome</code>"
   ]
  },
  {
   "cell_type": "code",
   "execution_count": null,
   "id": "27fe8fc5",
   "metadata": {},
   "outputs": [],
   "source": []
  }
 ],
 "metadata": {
  "kernelspec": {
   "display_name": "R",
   "language": "R",
   "name": "ir"
  },
  "language_info": {
   "codemirror_mode": "r",
   "file_extension": ".r",
   "mimetype": "text/x-r-source",
   "name": "R",
   "pygments_lexer": "r",
   "version": "4.1.2"
  }
 },
 "nbformat": 4,
 "nbformat_minor": 5
}
