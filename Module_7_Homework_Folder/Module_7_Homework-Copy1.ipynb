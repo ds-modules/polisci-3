{
 "cells": [
  {
   "cell_type": "markdown",
   "id": "f9241f05",
   "metadata": {},
   "source": [
    "## POLSCI 3 Summer 2022\n",
    "\n",
    "## Week 7 Homework\n",
    "\n",
    "In this homework we will review different methods of testing hypotheses. These methods depend on the kinds of data we are working with: categorical or numeric. To start, let's consider when we have just categorical variables."
   ]
  },
  {
   "cell_type": "markdown",
   "id": "e567b7a5",
   "metadata": {},
   "source": [
    "## $\\chi^2$ Statistic"
   ]
  },
  {
   "cell_type": "markdown",
   "id": "63bdf88f",
   "metadata": {
    "deletable": false,
    "editable": false
   },
   "source": [
    "<!-- BEGIN QUESTION -->\n",
    "\n",
    "### Question 1a:\n",
    "Before we begin, let's review: what is the purpose of calculating the $\\chi^2$ statistic?\n",
    "\n",
    "<!--\n",
    "BEGIN QUESTION\n",
    "name: q1a\n",
    "manual: true\n",
    "points: 1\n",
    "-->"
   ]
  },
  {
   "cell_type": "markdown",
   "id": "e41a7d90",
   "metadata": {},
   "source": [
    "_Type your answer here, replacing this text._"
   ]
  },
  {
   "cell_type": "markdown",
   "id": "02a4b222",
   "metadata": {},
   "source": [
    "<!-- END QUESTION -->\n",
    "\n",
    "\n",
    "\n",
    "### Question 1b:"
   ]
  },
  {
   "cell_type": "markdown",
   "id": "1dadd4f1",
   "metadata": {},
   "source": [
    "In this example, we're going to use the relationship between union membership and 2016 presidential vote choice. Below, we have the results of a poll of voters who were asked about their preferred candidate and whether they were a union member. \n",
    "\n",
    "**Note:** Make sure to run the cell below to generate the table."
   ]
  },
  {
   "cell_type": "code",
   "execution_count": 2,
   "id": "e8c8d475",
   "metadata": {},
   "outputs": [],
   "source": [
    "respond_table <- as.table(cbind(c(1068, 1019),c (218, 157)))\n",
    "dimnames(respond_table) <- list(candidate = c(\"Clinton\",\"Trump\"),\n",
    "                                membership = c(\"Not_Union\",\"Union\")\n",
    "                                )\n",
    "respond_table"
   ]
  },
  {
   "cell_type": "markdown",
   "id": "79e2da7f",
   "metadata": {
    "deletable": false,
    "editable": false
   },
   "source": [
    "<!-- BEGIN QUESTION -->\n",
    "\n",
    "What are your initial impressions of how the data are distributed?\n",
    "\n",
    "<!--\n",
    "BEGIN QUESTION\n",
    "name: q1b\n",
    "manual: true\n",
    "points: 1\n",
    "-->"
   ]
  },
  {
   "cell_type": "markdown",
   "id": "cffbba3d",
   "metadata": {},
   "source": [
    "_Type your answer here, replacing this text._"
   ]
  },
  {
   "cell_type": "markdown",
   "id": "5057b792",
   "metadata": {
    "deletable": false,
    "editable": false
   },
   "source": [
    "<!-- END QUESTION -->\n",
    "\n",
    "### Question 1c:\n",
    "Now let's try using the <code> chisq.test </code> function we learned in the lecture notebook. Recall the first step when using this function is creating a contingency table. Remember, you need to fill in the \"...\" in the command below with the name of the table you are analyzing. \n",
    "\n",
    "<!--\n",
    "BEGIN QUESTION\n",
    "name: q1c\n",
    "manual: false\n",
    "points: 1\n",
    "-->"
   ]
  },
  {
   "cell_type": "code",
   "execution_count": 3,
   "id": "ce564cb6",
   "metadata": {},
   "outputs": [],
   "source": [
    "## YOUR ANSWER HERE\n",
    "q1c.answer <- chisq.test(..., correct=FALSE)\n",
    "q1c.answer"
   ]
  },
  {
   "cell_type": "code",
   "execution_count": null,
   "id": "63feec4e",
   "metadata": {
    "deletable": false,
    "editable": false
   },
   "outputs": [],
   "source": [
    ". = ottr::check(\"tests/q1c.R\")"
   ]
  },
  {
   "cell_type": "markdown",
   "id": "2f416f53",
   "metadata": {
    "deletable": false,
    "editable": false
   },
   "source": [
    "<!-- BEGIN QUESTION -->\n",
    "\n",
    "### Question 1d:\n",
    "What do these results tell you about the relationship between union membership and US presidential vote preference in 2016?\n",
    "\n",
    "<!--\n",
    "BEGIN QUESTION\n",
    "name: q1d\n",
    "manual: true\n",
    "points: 1\n",
    "-->"
   ]
  },
  {
   "cell_type": "markdown",
   "id": "6dac14b1",
   "metadata": {},
   "source": [
    "_Type your answer here, replacing this text._"
   ]
  },
  {
   "cell_type": "markdown",
   "id": "f9b41a97",
   "metadata": {},
   "source": [
    "<!-- END QUESTION -->\n",
    "\n",
    "\n",
    "\n",
    "## Difference of Means - Question 2\n",
    "Are democracies richer than autocracies? This can be tested with a difference in means test. To test this we will use the happiness_polity data that we introduced in the previous module. First let's read in the data and examine the code book:"
   ]
  },
  {
   "cell_type": "code",
   "execution_count": 4,
   "id": "bd9e3089",
   "metadata": {},
   "outputs": [],
   "source": [
    "happiness_data <- read.csv('happiness_polity_2018.csv')\n",
    "head(happiness_data)"
   ]
  },
  {
   "cell_type": "markdown",
   "id": "492dd298",
   "metadata": {},
   "source": [
    "This dataset contains data from countries around the world in terms of factors such as happiness levels, \n",
    "political categories, and demographic information. Here's a codebook:\n",
    "\n",
    "<code>polity2</code>: The \"Polity Score\" of the country, which measures its political system on a 21-pont scale \n",
    "ranging from -10 (hereditary monarchy) to +10 (consolidated democracy).\n",
    "\n",
    "<code>polity2_cat</code>: The political category the country is identified within. \"autocracies\" are on one end of \n",
    "the spectrum, \"anocracies\" are in the middle (semi-democracies), and \"democracies\" are at the top of the spectrum.\n",
    "\n",
    "<code>gdpcapita</code>: GDP per Capita (economic output per person)\n",
    "\n",
    "<code>gdpcapita_cat</code>: GDP/income category that the country falls into (based on GDP per capita)\n",
    "\n",
    "<code>happiness</code>: The country's happiness index, measured through surveys that require participants to rank \n",
    "their level of happiness based on an assortment of quality-of-life factors\n",
    "\n",
    "<code>happiness_cat</code>: Happiness category that the country falls into (based on happpiness indicator)\n",
    "\n",
    "<code>life_expectancy</code>: Average life expectancy in years\n",
    "\n",
    "<code>life_expectancy_cat</code>: Life Expectancy category that the country falls into"
   ]
  },
  {
   "cell_type": "markdown",
   "id": "6653dcef",
   "metadata": {},
   "source": [
    "Next we need to create two subsets of the data, one for democracies and one for autocracies:"
   ]
  },
  {
   "cell_type": "code",
   "execution_count": 5,
   "id": "b34eec91",
   "metadata": {},
   "outputs": [],
   "source": [
    "autocracies<-subset(happiness_data,polity2_cat==\"autocracies\")\n",
    "democracies<-subset(happiness_data,polity2_cat==\"democracies\")\n",
    "head(autocracies)\n",
    "head(democracies)"
   ]
  },
  {
   "cell_type": "markdown",
   "id": "e772da1c",
   "metadata": {
    "deletable": false,
    "editable": false
   },
   "source": [
    "### Question 2a:\n",
    "In the following cell type the code to find the `mean` GDP Per Capita for democracies and autocracies.\n",
    "\n",
    "<!--\n",
    "BEGIN QUESTION\n",
    "name: q2a\n",
    "manual: false\n",
    "points: 1\n",
    "-->"
   ]
  },
  {
   "cell_type": "code",
   "execution_count": 6,
   "id": "1adff181",
   "metadata": {},
   "outputs": [],
   "source": [
    "## YOUR ANSWER HERE\n",
    "mean.autocracies <- mean(...)               # Fill in the ... with the appropriate code\n",
    "mean.democracies <- mean(...)   \n",
    "q2a.answer <- c(mean.autocracies,mean.democracies)\n",
    "q2a.answer"
   ]
  },
  {
   "cell_type": "code",
   "execution_count": null,
   "id": "c46cf7c6",
   "metadata": {
    "deletable": false,
    "editable": false
   },
   "outputs": [],
   "source": [
    ". = ottr::check(\"tests/q2a.R\")"
   ]
  },
  {
   "cell_type": "markdown",
   "id": "ad7a8369",
   "metadata": {
    "deletable": false,
    "editable": false
   },
   "source": [
    "### Question 2b:\n",
    "Now let's assume we are working with random samples, and determine whether there is sufficient evidence of different GDP per capitas in our samples to warrant making any conclusion about the population of autocracies and democracies:\n",
    "\n",
    "<!--\n",
    "BEGIN QUESTION\n",
    "name: q2b\n",
    "manual: false\n",
    "points: 1\n",
    "-->"
   ]
  },
  {
   "cell_type": "code",
   "execution_count": 8,
   "id": "3cf12847",
   "metadata": {},
   "outputs": [],
   "source": [
    "## YOUR ANSWER HERE\n",
    "q2b.answer <- t.test(...,...)            # Fill in the ... with the appropriate code   \n",
    "q2b.answer"
   ]
  },
  {
   "cell_type": "code",
   "execution_count": null,
   "id": "bd048fcb",
   "metadata": {
    "deletable": false,
    "editable": false
   },
   "outputs": [],
   "source": [
    ". = ottr::check(\"tests/q2b.R\")"
   ]
  },
  {
   "cell_type": "markdown",
   "id": "3026ed6c",
   "metadata": {
    "deletable": false,
    "editable": false
   },
   "source": [
    "<!-- BEGIN QUESTION -->\n",
    "\n",
    "### Question 2c:\n",
    "What do you conclude about the population difference in GDP per capita between autocracies and democracies? Can we establish a causal relationship between GDP per capita and regime type?\n",
    "\n",
    "<!--\n",
    "BEGIN QUESTION\n",
    "name: q1d\n",
    "manual: true\n",
    "points: 1\n",
    "-->"
   ]
  },
  {
   "cell_type": "markdown",
   "id": "ae0792fd",
   "metadata": {},
   "source": [
    "_Type your answer here, replacing this text._"
   ]
  },
  {
   "cell_type": "markdown",
   "id": "bd6eaf1a",
   "metadata": {},
   "source": [
    "<!-- END QUESTION -->\n",
    "\n",
    "\n",
    "\n",
    "## Short Answer - Question 3 \n",
    "#### True or False, with a one sentence justification for each:"
   ]
  },
  {
   "cell_type": "markdown",
   "id": "f7d9b343",
   "metadata": {
    "deletable": false,
    "editable": false
   },
   "source": [
    "<!-- BEGIN QUESTION -->\n",
    "\n",
    "**a)** Only a very small (&lt;5) percentage of measurements can be more than 2 standard\n",
    "deviations from the mean of the normal distribution.\n",
    "\n",
    "<!--\n",
    "BEGIN QUESTION\n",
    "name: q3a\n",
    "manual: true\n",
    "points: 1\n",
    "-->"
   ]
  },
  {
   "cell_type": "markdown",
   "id": "bc0ecd58",
   "metadata": {},
   "source": [
    "_Type your answer here, replacing this text._"
   ]
  },
  {
   "cell_type": "markdown",
   "id": "bbea1744",
   "metadata": {
    "deletable": false,
    "editable": false
   },
   "source": [
    "<!-- END QUESTION -->\n",
    "\n",
    "<!-- BEGIN QUESTION -->\n",
    "\n",
    "**b)** Only a very small (&lt;5) percentage of measurements can be more than 2 standard\n",
    "deviations from the mean of the any distribution.\n",
    "\n",
    "<!--\n",
    "BEGIN QUESTION\n",
    "name: q3b\n",
    "manual: true\n",
    "points: 1\n",
    "-->"
   ]
  },
  {
   "cell_type": "markdown",
   "id": "aef7c947",
   "metadata": {},
   "source": [
    "_Type your answer here, replacing this text._"
   ]
  },
  {
   "cell_type": "markdown",
   "id": "efbe18ce",
   "metadata": {
    "deletable": false,
    "editable": false
   },
   "source": [
    "<!-- END QUESTION -->\n",
    "\n",
    "<!-- BEGIN QUESTION -->\n",
    "\n",
    "**c)** If we would reject a null hypothesis at the 5% level, we would also reject it at the 1%\n",
    "level.\n",
    "\n",
    "<!--\n",
    "BEGIN QUESTION\n",
    "name: q3c\n",
    "manual: true\n",
    "points: 1\n",
    "-->"
   ]
  },
  {
   "cell_type": "markdown",
   "id": "b499e57f",
   "metadata": {},
   "source": [
    "_Type your answer here, replacing this text._"
   ]
  },
  {
   "cell_type": "markdown",
   "id": "c5b64992",
   "metadata": {
    "deletable": false,
    "editable": false
   },
   "source": [
    "<!-- END QUESTION -->\n",
    "\n",
    "<!-- BEGIN QUESTION -->\n",
    "\n",
    "**d)** If we would reject a null hypothesis at the 1% level, we would also reject it at the 5%\n",
    "level.\n",
    "\n",
    "<!--\n",
    "BEGIN QUESTION\n",
    "name: q3d\n",
    "manual: true\n",
    "points: 1\n",
    "-->"
   ]
  },
  {
   "cell_type": "markdown",
   "id": "e9786342",
   "metadata": {},
   "source": [
    "_Type your answer here, replacing this text._"
   ]
  },
  {
   "cell_type": "markdown",
   "id": "559c8f2a",
   "metadata": {
    "deletable": false,
    "editable": false
   },
   "source": [
    "<!-- END QUESTION -->\n",
    "\n",
    "<!-- BEGIN QUESTION -->\n",
    "\n",
    "**e)** The p-value, which is the Type I error rate, is chosen by the investigator before a\n",
    "hypothesis test is conducted.\n",
    "\n",
    "<!--\n",
    "BEGIN QUESTION\n",
    "name: q3e\n",
    "manual: true\n",
    "points: 1\n",
    "-->"
   ]
  },
  {
   "cell_type": "markdown",
   "id": "d9cc0bd2",
   "metadata": {},
   "source": [
    "_Type your answer here, replacing this text._"
   ]
  },
  {
   "cell_type": "markdown",
   "id": "a8ed59ee",
   "metadata": {},
   "source": [
    "<!-- END QUESTION -->\n",
    "\n",
    "\n",
    "\n",
    "The following table is based on a random sample conducted of high school seniors and\n",
    "their parents by Jennings and Niemi, in which they explore the party identification of\n",
    "parents and their children. "
   ]
  },
  {
   "cell_type": "markdown",
   "id": "ebb5b263",
   "metadata": {},
   "source": [
    "## Coding Application - Question 4:"
   ]
  },
  {
   "cell_type": "code",
   "execution_count": 6,
   "id": "4afea669",
   "metadata": {},
   "outputs": [],
   "source": [
    "#Run this cell to generate the table\n",
    "respond_table <- as.table(cbind(c(604, 130,63),c(245, 235,180),c(67,76,252)))\n",
    "dimnames(respond_table) <- list(Parent_Party_ID = c('Democrat', 'Independent', 'Republican'),\n",
    "                                Child_Party_ID = c('Democrat', 'Independent', 'Republican')\n",
    "                                )\n",
    "respond_table"
   ]
  },
  {
   "cell_type": "markdown",
   "id": "e46ad9b3",
   "metadata": {
    "deletable": false,
    "editable": false
   },
   "source": [
    "### Question 4a:\n",
    "Write the number of parents who's party id matches their kids.\n",
    "\n",
    "<!--\n",
    "BEGIN QUESTION\n",
    "name: q4a\n",
    "manual: false\n",
    "points: 1\n",
    "-->"
   ]
  },
  {
   "cell_type": "code",
   "execution_count": 8,
   "id": "8ada6524",
   "metadata": {},
   "outputs": [],
   "source": [
    "## YOUR ANSWER HERE\n",
    "sample_size <- sum(respond_table)\n",
    "democrat_same <- 604\n",
    "independent_same <- ...\n",
    "republican_same <- ...\n",
    "Total <- democrat_same + independent_same + republican_same"
   ]
  },
  {
   "cell_type": "code",
   "execution_count": null,
   "id": "2ce86e82",
   "metadata": {
    "deletable": false,
    "editable": false
   },
   "outputs": [],
   "source": [
    ". = ottr::check(\"tests/q4a.R\")"
   ]
  },
  {
   "cell_type": "markdown",
   "id": "c78c53d2",
   "metadata": {
    "deletable": false,
    "editable": false
   },
   "source": [
    "### Question 4b:\n",
    "What percentage of Democrat parents have Republican children?\n",
    "\n",
    "<!--\n",
    "BEGIN QUESTION\n",
    "name: q4b\n",
    "manual: false\n",
    "points: 1\n",
    "-->"
   ]
  },
  {
   "cell_type": "code",
   "execution_count": 13,
   "id": "557615b9",
   "metadata": {},
   "outputs": [],
   "source": [
    "## YOUR ANSWER HERE\n",
    "dem_parent_rep_child <- .../sum(c(604,245,67))           # Fill in the ... with the appropriate code   \n",
    "dem_parent_rep_child"
   ]
  },
  {
   "cell_type": "code",
   "execution_count": null,
   "id": "154e5bbf",
   "metadata": {
    "deletable": false,
    "editable": false
   },
   "outputs": [],
   "source": [
    ". = ottr::check(\"tests/q4b.R\")"
   ]
  },
  {
   "cell_type": "markdown",
   "id": "910989af",
   "metadata": {
    "deletable": false,
    "editable": false
   },
   "source": [
    "### Question 4c:\n",
    "Run a $\\chi^2$ test to determine if there is there a relationship between parent and child party ID in the population.\n",
    "\n",
    "<!--\n",
    "BEGIN QUESTION\n",
    "name: q4c\n",
    "manual: false\n",
    "points: 1\n",
    "-->"
   ]
  },
  {
   "cell_type": "code",
   "execution_count": 10,
   "id": "b05bd92d",
   "metadata": {},
   "outputs": [],
   "source": [
    "## YOUR ANSWER HERE\n",
    "q14c.answer <- chisq.test(..., correct=FALSE)\n",
    "q4c.answer"
   ]
  },
  {
   "cell_type": "code",
   "execution_count": null,
   "id": "5b79a876",
   "metadata": {
    "deletable": false,
    "editable": false
   },
   "outputs": [],
   "source": [
    ". = ottr::check(\"tests/q4c.R\")"
   ]
  },
  {
   "cell_type": "markdown",
   "id": "255a7544",
   "metadata": {
    "deletable": false,
    "editable": false
   },
   "source": [
    "<!-- BEGIN QUESTION -->\n",
    "\n",
    "### Question 4d: \n",
    "Is there a relationship between between parent and child party ID in the population?\n",
    "\n",
    "<!--\n",
    "BEGIN QUESTION\n",
    "name: q4d\n",
    "manual: true\n",
    "points: 1\n",
    "-->"
   ]
  },
  {
   "cell_type": "markdown",
   "id": "fc4d456d",
   "metadata": {},
   "source": [
    "_Type your answer here, replacing this text._"
   ]
  },
  {
   "cell_type": "markdown",
   "id": "367b4f89",
   "metadata": {},
   "source": [
    "<!-- END QUESTION -->\n",
    "\n",
    "\n",
    "\n",
    "-----\n",
    "\n",
    "## Submitting Your Notebook\n",
    "\n",
    "Congratulations! You have now finished your second coding assignment. Well done!\n",
    "\n",
    "Before you head off to celebrate your work, please remember to save your work and submit it before the deadline!\n",
    "\n",
    "To submit your notebook...\n",
    "\n",
    "### 1. Select the cell below and hit run. Then wait 10 seconds."
   ]
  },
  {
   "cell_type": "code",
   "execution_count": null,
   "id": "e0d1a866",
   "metadata": {},
   "outputs": [],
   "source": [
    "# Don't worry about what is in this cell, just run it!\n",
    "nb_name <- \"Homework7.ipynb\"\n",
    "system(paste0(\"python3 -c 'import otter; otter.Notebook(\\\"\", nb_name, \"\\\").export()'\"))\n",
    "fp = tail(sort(Sys.glob(\"*.zip\")), n=1)\n",
    "IRdisplay::display_html(paste0(\"<a style='font-size: 36px;'' href='\", fp, \"' download='\", fp, \"'>Click here to download your submission</a>\"))"
   ]
  },
  {
   "cell_type": "markdown",
   "id": "d546b18a",
   "metadata": {},
   "source": [
    "After you hit \"Run\" on the cell above, wait for a moment (about 10 seconds), then click the download link. A .zip file should download to your computer.\n",
    "\n",
    "(If you make changes to your notebook, you'll need to run the cell above again before you submit to get a new version of it.)\n",
    "\n",
    "### 2. Submit the .zip file you just downloaded <a href=\"https://www.gradescope.com/courses/402785\" target=\"_blank\">on Gradescope here</a>.\n",
    "\n",
    "Notes:\n",
    "\n",
    "- **This does not seem to work on Chrome for iPad or iPhone.** If you're using an iPad or iPhone, you need to download the file using **Safari**.\n",
    "- If your web browser automatically unzips the .zip file (so you see a folder instead of a .zip file), you can just upload the .ipynb file that is inside the folder.\n",
    "- If this method is not working for you, try the \"old way\": hit `File`, then `Download as`, then `Notebook (.ipynb)` and submit that."
   ]
  },
  {
   "cell_type": "code",
   "execution_count": null,
   "id": "5cfe466b",
   "metadata": {},
   "outputs": [],
   "source": []
  }
 ],
 "metadata": {
  "kernelspec": {
   "display_name": "R",
   "language": "R",
   "name": "ir"
  },
  "language_info": {
   "codemirror_mode": "r",
   "file_extension": ".r",
   "mimetype": "text/x-r-source",
   "name": "R",
   "pygments_lexer": "r",
   "version": "4.1.2"
  }
 },
 "nbformat": 4,
 "nbformat_minor": 5
}
