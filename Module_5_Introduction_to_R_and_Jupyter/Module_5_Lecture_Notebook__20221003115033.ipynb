{
 "cells": [
  {
   "cell_type": "markdown",
   "metadata": {
    "slideshow": {
     "slide_type": "slide"
    },
    "tags": [
     "include"
    ]
   },
   "source": [
    "## POLSCI 3 Summer 2022\n",
    "\n",
    "## Week 5: Analyzing Data using R in Jupyter Notebooks\n"
   ]
  },
  {
   "cell_type": "markdown",
   "metadata": {
    "slideshow": {
     "slide_type": "fragment"
    },
    "tags": [
     "include"
    ]
   },
   "source": [
    "Welcome! In this notebook, you will learn how how to use Jupyter Notebooks (like this one!) and the R programming language to analyze quantitative data."
   ]
  },
  {
   "cell_type": "markdown",
   "metadata": {
    "slideshow": {
     "slide_type": "slide"
    },
    "tags": [
     "include"
    ]
   },
   "source": [
    "# Jupyter Notebooks"
   ]
  },
  {
   "cell_type": "markdown",
   "metadata": {
    "slideshow": {
     "slide_type": "fragment"
    },
    "tags": [
     "include"
    ]
   },
   "source": [
    "A Jupyter Notebook is an online, interactive computing environment, composed of different types of __cells__. Cells are chunks of code or text that are used to break up a larger notebook into smaller, more manageable parts and to let the viewer modify and interact with the elements of the notebook.\n",
    "\n",
    "There's an advantage of Jupyter notebooks for a class like PS 3: You don't need to install software on your computer (and potentially have to troubleshoot it if it doesn't work).\n"
   ]
  },
  {
   "cell_type": "markdown",
   "metadata": {},
   "source": [
    "Notice that the notebook consists of 2 different kinds of cells: **text** and **code**. A text cell (like this one) contains text, while a code cell contains expressions in R, the programming language that you will be using. "
   ]
  },
  {
   "cell_type": "markdown",
   "metadata": {
    "slideshow": {
     "slide_type": "subslide"
    },
    "tags": [
     "include"
    ]
   },
   "source": [
    "\"Running\" a cell is similar to pressing 'Enter' on a calculator once you've typed in an expression; it computes all of the expressions contained within the cell.\n",
    "\n",
    "To run a code cell, you can do one of the following:\n",
    "- press __Shift + Enter__\n",
    "- click __-> Run__ in the toolbar at the top of the screen.\n",
    "\n",
    "You can navigate the cells by either clicking on them or by using your up and down arrow keys. Try running the cell below to see what happens. "
   ]
  },
  {
   "cell_type": "code",
   "execution_count": 1,
   "metadata": {
    "scrolled": true,
    "slideshow": {
     "slide_type": "subslide"
    },
    "tags": [
     "include"
    ]
   },
   "outputs": [
    {
     "data": {
      "text/html": [
       "10"
      ],
      "text/latex": [
       "10"
      ],
      "text/markdown": [
       "10"
      ],
      "text/plain": [
       "[1] 10"
      ]
     },
     "metadata": {},
     "output_type": "display_data"
    }
   ],
   "source": [
    "5 + 5"
   ]
  },
  {
   "cell_type": "markdown",
   "metadata": {
    "tags": [
     "include"
    ]
   },
   "source": [
    "The input of the cell consists of the text/code that is contained within the cell's enclosing box. Here, the input is an expression in R that \"prints\" or repeats whatever text or number is passed in. \n",
    "\n",
    "The output of running a cell is shown in the line immediately after it. Notice that markdown (text) cells have no output."
   ]
  },
  {
   "cell_type": "markdown",
   "metadata": {},
   "source": [
    "Each line of a cell runs an operation."
   ]
  },
  {
   "cell_type": "code",
   "execution_count": 2,
   "metadata": {
    "tags": [
     "include"
    ]
   },
   "outputs": [
    {
     "data": {
      "text/html": [
       "40"
      ],
      "text/latex": [
       "40"
      ],
      "text/markdown": [
       "40"
      ],
      "text/plain": [
       "[1] 40"
      ]
     },
     "metadata": {},
     "output_type": "display_data"
    }
   ],
   "source": [
    "# Addition\n",
    "20 + 20"
   ]
  },
  {
   "cell_type": "code",
   "execution_count": 3,
   "metadata": {
    "tags": [
     "include"
    ]
   },
   "outputs": [
    {
     "data": {
      "text/html": [
       "85"
      ],
      "text/latex": [
       "85"
      ],
      "text/markdown": [
       "85"
      ],
      "text/plain": [
       "[1] 85"
      ]
     },
     "metadata": {},
     "output_type": "display_data"
    }
   ],
   "source": [
    "# Multiplication\n",
    "10 * 8.5"
   ]
  },
  {
   "cell_type": "code",
   "execution_count": 4,
   "metadata": {
    "tags": [
     "include"
    ]
   },
   "outputs": [
    {
     "data": {
      "text/html": [
       "25"
      ],
      "text/latex": [
       "25"
      ],
      "text/markdown": [
       "25"
      ],
      "text/plain": [
       "[1] 25"
      ]
     },
     "metadata": {},
     "output_type": "display_data"
    }
   ],
   "source": [
    "# Division\n",
    "625 / 25"
   ]
  },
  {
   "cell_type": "code",
   "execution_count": 5,
   "metadata": {
    "tags": [
     "include"
    ]
   },
   "outputs": [
    {
     "data": {
      "text/html": [
       "25"
      ],
      "text/latex": [
       "25"
      ],
      "text/markdown": [
       "25"
      ],
      "text/plain": [
       "[1] 25"
      ]
     },
     "metadata": {},
     "output_type": "display_data"
    }
   ],
   "source": [
    "# A series of arithmetic operations\n",
    "(2 - 4 * 5 + 7) + 18 * 2"
   ]
  },
  {
   "cell_type": "markdown",
   "metadata": {
    "tags": [
     "include"
    ]
   },
   "source": [
    "Note that code after a # (hashtag) is not run, so we use lines starting with hashtags to add comments or notes on our code. Here's an example."
   ]
  },
  {
   "cell_type": "code",
   "execution_count": null,
   "metadata": {
    "tags": [
     "include"
    ]
   },
   "outputs": [],
   "source": [
    "#By using a comment at the beginning of the cell, we can describe what will occur when you run the cell.\n",
    "# Add ten to 8\n",
    "10 + 8 # Note how we can add a comment after the expression"
   ]
  },
  {
   "cell_type": "code",
   "execution_count": 6,
   "metadata": {},
   "outputs": [
    {
     "data": {
      "text/html": [
       "4"
      ],
      "text/latex": [
       "4"
      ],
      "text/markdown": [
       "4"
      ],
      "text/plain": [
       "[1] 4"
      ]
     },
     "metadata": {},
     "output_type": "display_data"
    },
    {
     "data": {
      "text/html": [
       "10"
      ],
      "text/latex": [
       "10"
      ],
      "text/markdown": [
       "10"
      ],
      "text/plain": [
       "[1] 10"
      ]
     },
     "metadata": {},
     "output_type": "display_data"
    }
   ],
   "source": [
    "# If you create two lines, each line will run on its own.\n",
    "2 + 2\n",
    "5 + 5"
   ]
  },
  {
   "cell_type": "markdown",
   "metadata": {
    "tags": [
     "include"
    ]
   },
   "source": [
    "### R Variables"
   ]
  },
  {
   "cell_type": "markdown",
   "metadata": {
    "tags": [
     "include"
    ]
   },
   "source": [
    "Aside from numbers, R has **variables**, names that act as placeholders for certain values. For example, let the variables `x` and `y` equal 10 and 9, respectively. This action is called \"assigning\" a variable."
   ]
  },
  {
   "cell_type": "code",
   "execution_count": 7,
   "metadata": {
    "tags": [
     "include"
    ]
   },
   "outputs": [],
   "source": [
    "# Assign your variable by using <-\n",
    "x <- 10\n",
    "y <- 9"
   ]
  },
  {
   "cell_type": "markdown",
   "metadata": {
    "tags": [
     "include"
    ]
   },
   "source": [
    "Notice that assigning a number to a variable name such as `x` produces no output. To view the value of x, place it at the end of a coding cell, like below."
   ]
  },
  {
   "cell_type": "code",
   "execution_count": 8,
   "metadata": {
    "tags": [
     "include"
    ]
   },
   "outputs": [
    {
     "data": {
      "text/html": [
       "10"
      ],
      "text/latex": [
       "10"
      ],
      "text/markdown": [
       "10"
      ],
      "text/plain": [
       "[1] 10"
      ]
     },
     "metadata": {},
     "output_type": "display_data"
    }
   ],
   "source": [
    "x"
   ]
  },
  {
   "cell_type": "markdown",
   "metadata": {
    "tags": [
     "include"
    ]
   },
   "source": [
    "Now, we can use the variables `x` and `y` in expressions."
   ]
  },
  {
   "cell_type": "code",
   "execution_count": 10,
   "metadata": {
    "tags": [
     "include"
    ]
   },
   "outputs": [
    {
     "data": {
      "text/html": [
       "19"
      ],
      "text/latex": [
       "19"
      ],
      "text/markdown": [
       "19"
      ],
      "text/plain": [
       "[1] 19"
      ]
     },
     "metadata": {},
     "output_type": "display_data"
    }
   ],
   "source": [
    "10 + 9"
   ]
  },
  {
   "cell_type": "code",
   "execution_count": 11,
   "metadata": {
    "tags": [
     "include"
    ]
   },
   "outputs": [
    {
     "data": {
      "text/html": [
       "19"
      ],
      "text/latex": [
       "19"
      ],
      "text/markdown": [
       "19"
      ],
      "text/plain": [
       "[1] 19"
      ]
     },
     "metadata": {},
     "output_type": "display_data"
    }
   ],
   "source": [
    "x + y"
   ]
  },
  {
   "cell_type": "markdown",
   "metadata": {
    "tags": [
     "include"
    ]
   },
   "source": [
    "Now what happens when the value of `x` changes?"
   ]
  },
  {
   "cell_type": "code",
   "execution_count": 12,
   "metadata": {
    "tags": [
     "include"
    ]
   },
   "outputs": [],
   "source": [
    "x <- 12 * 2"
   ]
  },
  {
   "cell_type": "markdown",
   "metadata": {
    "tags": [
     "include"
    ]
   },
   "source": [
    "Then, the value of expressions that rely on `x` also change."
   ]
  },
  {
   "cell_type": "code",
   "execution_count": 13,
   "metadata": {
    "tags": [
     "include"
    ]
   },
   "outputs": [
    {
     "data": {
      "text/html": [
       "24"
      ],
      "text/latex": [
       "24"
      ],
      "text/markdown": [
       "24"
      ],
      "text/plain": [
       "[1] 24"
      ]
     },
     "metadata": {},
     "output_type": "display_data"
    }
   ],
   "source": [
    "x"
   ]
  },
  {
   "cell_type": "code",
   "execution_count": 14,
   "metadata": {},
   "outputs": [
    {
     "data": {
      "text/html": [
       "33"
      ],
      "text/latex": [
       "33"
      ],
      "text/markdown": [
       "33"
      ],
      "text/plain": [
       "[1] 33"
      ]
     },
     "metadata": {},
     "output_type": "display_data"
    }
   ],
   "source": [
    "x + y"
   ]
  },
  {
   "cell_type": "markdown",
   "metadata": {
    "tags": [
     "include"
    ]
   },
   "source": [
    "**This is why the order in which you run code cells is important.** The expression `x + y` can yield different results depending on which cells you ran before."
   ]
  },
  {
   "cell_type": "code",
   "execution_count": 15,
   "metadata": {
    "tags": [
     "include"
    ]
   },
   "outputs": [
    {
     "data": {
      "text/html": [
       "25"
      ],
      "text/latex": [
       "25"
      ],
      "text/markdown": [
       "25"
      ],
      "text/plain": [
       "[1] 25"
      ]
     },
     "metadata": {},
     "output_type": "display_data"
    }
   ],
   "source": [
    "x <- 5\n",
    "y <- 20\n",
    "x + y"
   ]
  },
  {
   "cell_type": "markdown",
   "metadata": {
    "tags": [
     "include"
    ]
   },
   "source": [
    "What happens if you try to use a variable without assigning it to a value first?"
   ]
  },
  {
   "cell_type": "code",
   "execution_count": 16,
   "metadata": {
    "tags": [
     "include"
    ]
   },
   "outputs": [
    {
     "ename": "ERROR",
     "evalue": "Error in eval(expr, envir, enclos): object 'z' not found\n",
     "output_type": "error",
     "traceback": [
      "Error in eval(expr, envir, enclos): object 'z' not found\nTraceback:\n"
     ]
    }
   ],
   "source": [
    "x + y + z"
   ]
  },
  {
   "cell_type": "markdown",
   "metadata": {
    "tags": [
     "include"
    ]
   },
   "source": [
    "You'll see that R outputs a `Error in eval`. R tried to find the value of `z`, but `z` hadn't been defined yet!\n",
    "\n",
    "**Important:** If you see this error again in this notebook or in future notebooks, it is an indication that you might not have run all the previous cells or that you might be using variables without assigning values to them first.\n",
    "\n",
    "Run the next cell to define `z`"
   ]
  },
  {
   "cell_type": "code",
   "execution_count": 17,
   "metadata": {
    "tags": [
     "include"
    ]
   },
   "outputs": [],
   "source": [
    "# Defining z here\n",
    "z <- 2019"
   ]
  },
  {
   "cell_type": "code",
   "execution_count": 18,
   "metadata": {
    "tags": [
     "include"
    ]
   },
   "outputs": [
    {
     "data": {
      "text/html": [
       "2044"
      ],
      "text/latex": [
       "2044"
      ],
      "text/markdown": [
       "2044"
      ],
      "text/plain": [
       "[1] 2044"
      ]
     },
     "metadata": {},
     "output_type": "display_data"
    }
   ],
   "source": [
    "# Good to go! Now that we've assigned a value to z, the code runs.\n",
    "x + y + z"
   ]
  },
  {
   "cell_type": "markdown",
   "metadata": {
    "tags": [
     "include"
    ]
   },
   "source": [
    "## Reading in and Using Datasets"
   ]
  },
  {
   "cell_type": "markdown",
   "metadata": {},
   "source": [
    "R is meant to be used as a tool for statistical computing and graphics. Naturally, R allows us to read in data sets.\n",
    "\n",
    "During most of the semester, we're going to be reading in real datasets from real studies about about the real world.\n",
    "\n",
    "But first we'll start with something simple. In the next cell, we will read a comma-separated values **(CSV) file** that includes some data from US presidential elections. This is the same electoral data analyzed in our textbook. We *assign* this dataset to a variable named `election.data`."
   ]
  },
  {
   "cell_type": "code",
   "execution_count": 19,
   "metadata": {},
   "outputs": [],
   "source": [
    "# This stores, or assigns, the dataset as election.data\n",
    "election.data <- read.csv('FairFPSR3.csv')"
   ]
  },
  {
   "cell_type": "markdown",
   "metadata": {},
   "source": [
    "Running the name of the dataset by itself prints out the data set."
   ]
  },
  {
   "cell_type": "code",
   "execution_count": 20,
   "metadata": {},
   "outputs": [
    {
     "data": {
      "text/html": [
       "<table class=\"dataframe\">\n",
       "<caption>A data.frame: 6 × 5</caption>\n",
       "<thead>\n",
       "\t<tr><th></th><th scope=col>inc_vote</th><th scope=col>year</th><th scope=col>inflation</th><th scope=col>goodnews</th><th scope=col>growth</th></tr>\n",
       "\t<tr><th></th><th scope=col>&lt;dbl&gt;</th><th scope=col>&lt;dbl&gt;</th><th scope=col>&lt;dbl&gt;</th><th scope=col>&lt;dbl&gt;</th><th scope=col>&lt;dbl&gt;</th></tr>\n",
       "</thead>\n",
       "<tbody>\n",
       "\t<tr><th scope=row>1</th><td>48.516</td><td>1876</td><td>   NA</td><td>NA</td><td>  5.110</td></tr>\n",
       "\t<tr><th scope=row>2</th><td>50.220</td><td>1880</td><td>1.974</td><td> 9</td><td>  3.879</td></tr>\n",
       "\t<tr><th scope=row>3</th><td>49.846</td><td>1884</td><td>1.055</td><td> 2</td><td>  1.589</td></tr>\n",
       "\t<tr><th scope=row>4</th><td>50.414</td><td>1888</td><td>0.604</td><td> 3</td><td> -5.553</td></tr>\n",
       "\t<tr><th scope=row>5</th><td>48.268</td><td>1892</td><td>2.274</td><td> 7</td><td>  2.763</td></tr>\n",
       "\t<tr><th scope=row>6</th><td>47.760</td><td>1896</td><td>3.410</td><td> 6</td><td>-10.024</td></tr>\n",
       "</tbody>\n",
       "</table>\n"
      ],
      "text/latex": [
       "A data.frame: 6 × 5\n",
       "\\begin{tabular}{r|lllll}\n",
       "  & inc\\_vote & year & inflation & goodnews & growth\\\\\n",
       "  & <dbl> & <dbl> & <dbl> & <dbl> & <dbl>\\\\\n",
       "\\hline\n",
       "\t1 & 48.516 & 1876 &    NA & NA &   5.110\\\\\n",
       "\t2 & 50.220 & 1880 & 1.974 &  9 &   3.879\\\\\n",
       "\t3 & 49.846 & 1884 & 1.055 &  2 &   1.589\\\\\n",
       "\t4 & 50.414 & 1888 & 0.604 &  3 &  -5.553\\\\\n",
       "\t5 & 48.268 & 1892 & 2.274 &  7 &   2.763\\\\\n",
       "\t6 & 47.760 & 1896 & 3.410 &  6 & -10.024\\\\\n",
       "\\end{tabular}\n"
      ],
      "text/markdown": [
       "\n",
       "A data.frame: 6 × 5\n",
       "\n",
       "| <!--/--> | inc_vote &lt;dbl&gt; | year &lt;dbl&gt; | inflation &lt;dbl&gt; | goodnews &lt;dbl&gt; | growth &lt;dbl&gt; |\n",
       "|---|---|---|---|---|---|\n",
       "| 1 | 48.516 | 1876 |    NA | NA |   5.110 |\n",
       "| 2 | 50.220 | 1880 | 1.974 |  9 |   3.879 |\n",
       "| 3 | 49.846 | 1884 | 1.055 |  2 |   1.589 |\n",
       "| 4 | 50.414 | 1888 | 0.604 |  3 |  -5.553 |\n",
       "| 5 | 48.268 | 1892 | 2.274 |  7 |   2.763 |\n",
       "| 6 | 47.760 | 1896 | 3.410 |  6 | -10.024 |\n",
       "\n"
      ],
      "text/plain": [
       "  inc_vote year inflation goodnews growth \n",
       "1 48.516   1876    NA     NA         5.110\n",
       "2 50.220   1880 1.974      9         3.879\n",
       "3 49.846   1884 1.055      2         1.589\n",
       "4 50.414   1888 0.604      3        -5.553\n",
       "5 48.268   1892 2.274      7         2.763\n",
       "6 47.760   1896 3.410      6       -10.024"
      ]
     },
     "metadata": {},
     "output_type": "display_data"
    }
   ],
   "source": [
    "# This prints out the first six observations (rows) of election.data.\n",
    "head(election.data)"
   ]
  },
  {
   "cell_type": "markdown",
   "metadata": {},
   "source": [
    "In this class, you'll also see a **codebook** that tells you what each variable means. Here's what the variables mean in this dataset:\n",
    "\n",
    "`inc_vote`: % of major party presidential vote won by incumbent party\n",
    "\n",
    "`year`: Year of the presidential election\n",
    "\n",
    "`inflation`: Inflation rate\n",
    "\n",
    "`goodnews`: Number of quarters in the first 15 quarters of admin in which econ growth>3.2%\n",
    "\n",
    "`growth`: % change in real GDP per capita"
   ]
  },
  {
   "cell_type": "markdown",
   "metadata": {},
   "source": [
    "As we can see R succesfully interpreted our file!\n",
    "\n",
    "While the dataset is insightful enough by itself, it would be nice to do some operations with it. R allow us to do some interesting operations with the dataset columns. `dataSetName$varName` allow us to read a specified column in our data set and return it as an **vector**."
   ]
  },
  {
   "cell_type": "code",
   "execution_count": 22,
   "metadata": {},
   "outputs": [
    {
     "data": {
      "text/html": [
       "<style>\n",
       ".list-inline {list-style: none; margin:0; padding: 0}\n",
       ".list-inline>li {display: inline-block}\n",
       ".list-inline>li:not(:last-child)::after {content: \"\\00b7\"; padding: 0 .5ex}\n",
       "</style>\n",
       "<ol class=list-inline><li>48.516</li><li>50.22</li><li>49.846</li><li>50.414</li><li>48.268</li><li>47.76</li><li>53.171</li><li>60.006</li><li>54.483</li><li>54.708</li><li>51.682</li><li>36.148</li><li>58.263</li><li>58.756</li><li>40.851</li><li>62.226</li><li>54.983</li><li>53.778</li><li>52.319</li><li>44.71</li><li>57.094</li><li>49.913</li><li>61.203</li><li>49.425</li><li>61.791</li><li>48.951</li><li>44.842</li><li>59.123</li><li>53.832</li><li>46.379</li><li>54.737</li><li>50.262</li><li>51.233</li><li>46.311</li><li>52.01</li><li>51.111</li></ol>\n"
      ],
      "text/latex": [
       "\\begin{enumerate*}\n",
       "\\item 48.516\n",
       "\\item 50.22\n",
       "\\item 49.846\n",
       "\\item 50.414\n",
       "\\item 48.268\n",
       "\\item 47.76\n",
       "\\item 53.171\n",
       "\\item 60.006\n",
       "\\item 54.483\n",
       "\\item 54.708\n",
       "\\item 51.682\n",
       "\\item 36.148\n",
       "\\item 58.263\n",
       "\\item 58.756\n",
       "\\item 40.851\n",
       "\\item 62.226\n",
       "\\item 54.983\n",
       "\\item 53.778\n",
       "\\item 52.319\n",
       "\\item 44.71\n",
       "\\item 57.094\n",
       "\\item 49.913\n",
       "\\item 61.203\n",
       "\\item 49.425\n",
       "\\item 61.791\n",
       "\\item 48.951\n",
       "\\item 44.842\n",
       "\\item 59.123\n",
       "\\item 53.832\n",
       "\\item 46.379\n",
       "\\item 54.737\n",
       "\\item 50.262\n",
       "\\item 51.233\n",
       "\\item 46.311\n",
       "\\item 52.01\n",
       "\\item 51.111\n",
       "\\end{enumerate*}\n"
      ],
      "text/markdown": [
       "1. 48.516\n",
       "2. 50.22\n",
       "3. 49.846\n",
       "4. 50.414\n",
       "5. 48.268\n",
       "6. 47.76\n",
       "7. 53.171\n",
       "8. 60.006\n",
       "9. 54.483\n",
       "10. 54.708\n",
       "11. 51.682\n",
       "12. 36.148\n",
       "13. 58.263\n",
       "14. 58.756\n",
       "15. 40.851\n",
       "16. 62.226\n",
       "17. 54.983\n",
       "18. 53.778\n",
       "19. 52.319\n",
       "20. 44.71\n",
       "21. 57.094\n",
       "22. 49.913\n",
       "23. 61.203\n",
       "24. 49.425\n",
       "25. 61.791\n",
       "26. 48.951\n",
       "27. 44.842\n",
       "28. 59.123\n",
       "29. 53.832\n",
       "30. 46.379\n",
       "31. 54.737\n",
       "32. 50.262\n",
       "33. 51.233\n",
       "34. 46.311\n",
       "35. 52.01\n",
       "36. 51.111\n",
       "\n",
       "\n"
      ],
      "text/plain": [
       " [1] 48.516 50.220 49.846 50.414 48.268 47.760 53.171 60.006 54.483 54.708\n",
       "[11] 51.682 36.148 58.263 58.756 40.851 62.226 54.983 53.778 52.319 44.710\n",
       "[21] 57.094 49.913 61.203 49.425 61.791 48.951 44.842 59.123 53.832 46.379\n",
       "[31] 54.737 50.262 51.233 46.311 52.010 51.111"
      ]
     },
     "metadata": {},
     "output_type": "display_data"
    }
   ],
   "source": [
    "# dataNameSet$varName give us the specified column as a vector.\n",
    "election.data$inc_vote"
   ]
  },
  {
   "cell_type": "markdown",
   "metadata": {},
   "source": [
    "Furthermore, it is possible to do different operations to this vector. In this case, let's compute the mean of the incumbent vote across presidential elections since 1876. lets use R's `mean()` function, which computes the mean of a given vector."
   ]
  },
  {
   "cell_type": "code",
   "execution_count": 23,
   "metadata": {},
   "outputs": [
    {
     "data": {
      "text/html": [
       "51.9256944444444"
      ],
      "text/latex": [
       "51.9256944444444"
      ],
      "text/markdown": [
       "51.9256944444444"
      ],
      "text/plain": [
       "[1] 51.92569"
      ]
     },
     "metadata": {},
     "output_type": "display_data"
    }
   ],
   "source": [
    "mean(election.data$inc_vote)"
   ]
  },
  {
   "cell_type": "markdown",
   "metadata": {},
   "source": [
    "You can even save the results into a variable."
   ]
  },
  {
   "cell_type": "code",
   "execution_count": 24,
   "metadata": {},
   "outputs": [
    {
     "data": {
      "text/html": [
       "51.9256944444444"
      ],
      "text/latex": [
       "51.9256944444444"
      ],
      "text/markdown": [
       "51.9256944444444"
      ],
      "text/plain": [
       "[1] 51.92569"
      ]
     },
     "metadata": {},
     "output_type": "display_data"
    }
   ],
   "source": [
    "inc_vote.mean <- mean(election.data$inc_vote) # This assigns the value to inc_vote.mean\n",
    "inc_vote.mean # This line just prints what is in inc_vote.mean"
   ]
  },
  {
   "cell_type": "markdown",
   "metadata": {},
   "source": [
    "Once we've assigned a variable, whether by using a command line `x <- 5` or the command above, they behave just like numbers. So, once they're assigned, so you can do arithmetic with the variables, too, just like we showed above."
   ]
  },
  {
   "cell_type": "markdown",
   "metadata": {},
   "source": [
    "### How `subset()` works\n",
    "\n",
    "Here's how `subset()` works:\n",
    "\n",
    "`name.of.new.subset.dataset <- subset(original.dataset, variable.in.dataset == accepted.value)`\n",
    "\n",
    "This line takes `original.dataset`, subsets it to rows (observations) when `variable.in.dataset` equals `accepted.value`, and saves that subset in `name.of.new.subset.dataset`.\n",
    "\n",
    "or \n",
    "\n",
    "`name.of.new.subset.dataset <- subset(original.dataset, variable.in.dataset > accepted.value)`\n",
    "\n",
    "or \n",
    "\n",
    "`name.of.new.subset.dataset <- subset(original.dataset, variable.in.dataset < accepted.value)`\n",
    "\n",
    "If the variable is a **string** variable (contains letters), you need to wrap it in quotations, like this (single quotes `'` and double quotes `\"` both work):\n",
    "\n",
    "`name.of.new.subset.dataset <- subset(original.dataset, variable.in.dataset == 'accepted.value')`\n",
    "\n"
   ]
  },
  {
   "cell_type": "markdown",
   "metadata": {},
   "source": [
    "Example use of subset()\n",
    "\n",
    "Let's say we want to subset the election data to look only for elections in which the economic growth rate\n",
    "is greater than zero."
   ]
  },
  {
   "cell_type": "code",
   "execution_count": 25,
   "metadata": {},
   "outputs": [
    {
     "data": {
      "text/html": [
       "<table class=\"dataframe\">\n",
       "<caption>A data.frame: 6 × 5</caption>\n",
       "<thead>\n",
       "\t<tr><th></th><th scope=col>inc_vote</th><th scope=col>year</th><th scope=col>inflation</th><th scope=col>goodnews</th><th scope=col>growth</th></tr>\n",
       "\t<tr><th></th><th scope=col>&lt;dbl&gt;</th><th scope=col>&lt;dbl&gt;</th><th scope=col>&lt;dbl&gt;</th><th scope=col>&lt;dbl&gt;</th><th scope=col>&lt;dbl&gt;</th></tr>\n",
       "</thead>\n",
       "<tbody>\n",
       "\t<tr><th scope=row>1</th><td>48.516</td><td>1876</td><td>   NA</td><td>NA</td><td>5.110</td></tr>\n",
       "\t<tr><th scope=row>2</th><td>50.220</td><td>1880</td><td>1.974</td><td> 9</td><td>3.879</td></tr>\n",
       "\t<tr><th scope=row>3</th><td>49.846</td><td>1884</td><td>1.055</td><td> 2</td><td>1.589</td></tr>\n",
       "\t<tr><th scope=row>5</th><td>48.268</td><td>1892</td><td>2.274</td><td> 7</td><td>2.763</td></tr>\n",
       "\t<tr><th scope=row>10</th><td>54.708</td><td>1912</td><td>2.172</td><td> 8</td><td>4.164</td></tr>\n",
       "\t<tr><th scope=row>11</th><td>51.682</td><td>1916</td><td>4.252</td><td> 3</td><td>2.229</td></tr>\n",
       "</tbody>\n",
       "</table>\n"
      ],
      "text/latex": [
       "A data.frame: 6 × 5\n",
       "\\begin{tabular}{r|lllll}\n",
       "  & inc\\_vote & year & inflation & goodnews & growth\\\\\n",
       "  & <dbl> & <dbl> & <dbl> & <dbl> & <dbl>\\\\\n",
       "\\hline\n",
       "\t1 & 48.516 & 1876 &    NA & NA & 5.110\\\\\n",
       "\t2 & 50.220 & 1880 & 1.974 &  9 & 3.879\\\\\n",
       "\t3 & 49.846 & 1884 & 1.055 &  2 & 1.589\\\\\n",
       "\t5 & 48.268 & 1892 & 2.274 &  7 & 2.763\\\\\n",
       "\t10 & 54.708 & 1912 & 2.172 &  8 & 4.164\\\\\n",
       "\t11 & 51.682 & 1916 & 4.252 &  3 & 2.229\\\\\n",
       "\\end{tabular}\n"
      ],
      "text/markdown": [
       "\n",
       "A data.frame: 6 × 5\n",
       "\n",
       "| <!--/--> | inc_vote &lt;dbl&gt; | year &lt;dbl&gt; | inflation &lt;dbl&gt; | goodnews &lt;dbl&gt; | growth &lt;dbl&gt; |\n",
       "|---|---|---|---|---|---|\n",
       "| 1 | 48.516 | 1876 |    NA | NA | 5.110 |\n",
       "| 2 | 50.220 | 1880 | 1.974 |  9 | 3.879 |\n",
       "| 3 | 49.846 | 1884 | 1.055 |  2 | 1.589 |\n",
       "| 5 | 48.268 | 1892 | 2.274 |  7 | 2.763 |\n",
       "| 10 | 54.708 | 1912 | 2.172 |  8 | 4.164 |\n",
       "| 11 | 51.682 | 1916 | 4.252 |  3 | 2.229 |\n",
       "\n"
      ],
      "text/plain": [
       "   inc_vote year inflation goodnews growth\n",
       "1  48.516   1876    NA     NA       5.110 \n",
       "2  50.220   1880 1.974      9       3.879 \n",
       "3  49.846   1884 1.055      2       1.589 \n",
       "5  48.268   1892 2.274      7       2.763 \n",
       "10 54.708   1912 2.172      8       4.164 \n",
       "11 51.682   1916 4.252      3       2.229 "
      ]
     },
     "metadata": {},
     "output_type": "display_data"
    }
   ],
   "source": [
    "growthgt0.election.data <- subset(election.data, growth > 0)\n",
    "head(growthgt0.election.data)"
   ]
  },
  {
   "cell_type": "markdown",
   "metadata": {
    "tags": [
     "include"
    ]
   },
   "source": [
    "## Review\n",
    "\n",
    "Over the course of this notebook, you were introduced to the basic types of objects in R, how to store them, and how to use them."
   ]
  },
  {
   "cell_type": "markdown",
   "metadata": {
    "tags": [
     "include"
    ]
   },
   "source": [
    "#### Reminder about Peer Consulting Office Hours\n",
    "\n",
    "If you had trouble with any content in this notebook, Data Peer Consultants are here to help! You\n",
    "can view their locations and availabilites at this link: https://data.berkeley.edu/degrees/peer-advising. Peer Consultants are there to answer all data-related questions, whether it be about the content of this notebook, applications of data science in the world or other data science courses offered at Berkeley -- make sure to take advantage of this wonderful resource!"
   ]
  }
 ],
 "metadata": {
  "kernelspec": {
   "display_name": "R",
   "language": "R",
   "name": "ir"
  },
  "language_info": {
   "codemirror_mode": "r",
   "file_extension": ".r",
   "mimetype": "text/x-r-source",
   "name": "R",
   "pygments_lexer": "r",
   "version": "4.1.2"
  },
  "latex_envs": {
   "LaTeX_envs_menu_present": true,
   "autoclose": false,
   "autocomplete": true,
   "bibliofile": "biblio.bib",
   "cite_by": "apalike",
   "current_citInitial": 1,
   "eqLabelWithNumbers": true,
   "eqNumInitial": 1,
   "hotkeys": {
    "equation": "Ctrl-E",
    "itemize": "Ctrl-I"
   },
   "labels_anchors": false,
   "latex_user_defs": false,
   "report_style_numbering": false,
   "user_envs_cfg": false
  }
 },
 "nbformat": 4,
 "nbformat_minor": 2
}
