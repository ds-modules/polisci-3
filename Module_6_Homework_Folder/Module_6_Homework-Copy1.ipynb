{
 "cells": [
  {
   "cell_type": "markdown",
   "id": "e8b44267",
   "metadata": {},
   "source": [
    "## POLSCI 3 Summer 2022\n",
    "\n",
    "## Week 6 Homework\n"
   ]
  },
  {
   "cell_type": "markdown",
   "id": "40853c95",
   "metadata": {},
   "source": [
    "In this homework we will explore how distributions of data impact our ability to draw conclusions about observations. From weighted coins to polling responses, we will determine how much we can take away from our data. "
   ]
  },
  {
   "cell_type": "markdown",
   "id": "b9f9c140",
   "metadata": {},
   "source": [
    "## Generating Distributions - Question 1\n",
    "To start, let's consider a probability distribution of a flip of a coin. Below, we simulate flipping the coin once using the <code>sample</code> function. Note that there are two options for outcomes of a coin flip: a 0 signifying tails or a 1 signifying heads."
   ]
  },
  {
   "cell_type": "code",
   "execution_count": 1,
   "id": "9e468c69",
   "metadata": {},
   "outputs": [
    {
     "data": {
      "text/html": [
       "0"
      ],
      "text/latex": [
       "0"
      ],
      "text/markdown": [
       "0"
      ],
      "text/plain": [
       "[1] 0"
      ]
     },
     "metadata": {},
     "output_type": "display_data"
    }
   ],
   "source": [
    "coin_choices <- c(0, 1)                                    # 0 for tails and 1 for heads\n",
    "coin_flip <- sample(coin_choices, replace = TRUE, size=1)  # Take 1 draw from `coin_choices`\n",
    "coin_flip                                                 # Display the results of the flips"
   ]
  },
  {
   "cell_type": "markdown",
   "id": "71123b70",
   "metadata": {
    "deletable": false,
    "editable": false
   },
   "source": [
    "### Question 1a:\n",
    "In the cell below, reproduce the roll of a die. (Hint: we did this in the lecture notebook.) What happens when you repeatedly run the cell?\n",
    "\n",
    "<!--\n",
    "BEGIN QUESTION\n",
    "name: q1a\n",
    "manual: false\n",
    "points: 2\n",
    "\n",
    "-->"
   ]
  },
  {
   "cell_type": "code",
   "execution_count": 6,
   "id": "72b8e49e",
   "metadata": {},
   "outputs": [
    {
     "data": {
      "text/html": [
       "5"
      ],
      "text/latex": [
       "5"
      ],
      "text/markdown": [
       "5"
      ],
      "text/plain": [
       "[1] 5"
      ]
     },
     "metadata": {},
     "output_type": "display_data"
    }
   ],
   "source": [
    "#Your Answer Here\n",
    "die_choices <- ...\n",
    "die_roll <- ...\n",
    "die_roll"
   ]
  },
  {
   "cell_type": "code",
   "execution_count": 7,
   "id": "a17ab54b",
   "metadata": {
    "deletable": false,
    "editable": false
   },
   "outputs": [
    {
     "name": "stdout",
     "output_type": "stream",
     "text": [
      "\n",
      "All tests passed!"
     ]
    }
   ],
   "source": [
    ". = ottr::check(\"tests/q1a.R\")"
   ]
  },
  {
   "cell_type": "markdown",
   "id": "77c33a81",
   "metadata": {},
   "source": [
    "By running the cell multiple times, you should see different outcomes: sometimes a 1, other times a 2, etc. We can reproduce this by changing a parameter in our previous function call: <code>size</code>. Below, we simulate flipping a coin 30 times. (Note the \"size=30\" in the first line.)"
   ]
  },
  {
   "cell_type": "code",
   "execution_count": 6,
   "id": "ba491a02",
   "metadata": {},
   "outputs": [],
   "source": [
    "coin_flips <- sample(coin_choices, replace = TRUE, size=30)\n",
    "coin_flips"
   ]
  },
  {
   "cell_type": "markdown",
   "id": "51bca097",
   "metadata": {
    "deletable": false,
    "editable": false
   },
   "source": [
    "### Question 1b:\n",
    "Using the cell above as a guide, reproduce the roll of a die 30 times:\n",
    "\n",
    "<!--\n",
    "BEGIN QUESTION\n",
    "name: q1b\n",
    "manual: false\n",
    "points: 1\n",
    "-->"
   ]
  },
  {
   "cell_type": "code",
   "execution_count": 58,
   "id": "bb275342",
   "metadata": {},
   "outputs": [],
   "source": [
    "## Your Answer Here\n",
    "dice_rolls <- ...\n",
    "dice_rolls"
   ]
  },
  {
   "cell_type": "code",
   "execution_count": null,
   "id": "8ce3df70",
   "metadata": {
    "deletable": false,
    "editable": false
   },
   "outputs": [],
   "source": [
    ". = ottr::check(\"tests/q1b.R\")"
   ]
  },
  {
   "cell_type": "markdown",
   "id": "128778a0",
   "metadata": {},
   "source": [
    "To better understand our data, we will want to visualize it. The <code>hist(array)</code> function allows you to produce a histogram of the data. What do you notice about the ratio of heads to tails?"
   ]
  },
  {
   "cell_type": "code",
   "execution_count": 52,
   "id": "12ab634e",
   "metadata": {},
   "outputs": [],
   "source": [
    "hist(coin_flips)"
   ]
  },
  {
   "cell_type": "markdown",
   "id": "45fde535",
   "metadata": {
    "deletable": false,
    "editable": false
   },
   "source": [
    "<!-- BEGIN QUESTION -->\n",
    "\n",
    "### Question 1c:\n",
    "In the cell below, reproduce the histogram above with dice rolls:\n",
    "\n",
    "<!--\n",
    "BEGIN QUESTION\n",
    "name: q1c\n",
    "manual: true\n",
    "points: 1\n",
    "-->"
   ]
  },
  {
   "cell_type": "code",
   "execution_count": 59,
   "id": "92d82d19",
   "metadata": {},
   "outputs": [],
   "source": [
    "## Your Code Here:\n",
    "die_roll_hist = ...\n",
    "die_roll_hist"
   ]
  },
  {
   "cell_type": "markdown",
   "id": "69bf5b08",
   "metadata": {},
   "source": [
    "<!-- END QUESTION -->\n",
    "\n",
    "\n",
    "\n",
    "## Producing a Sampling Distribution - Question 2\n",
    "We just produced one sample. To be able to draw conclusions about what we observe in the sample, we need to create a *sampling distribution*. By repeatedly generating samples from the same underlying population, we can create a distribution of different statistics of the population. Statisticians traditionally use the mean as the statistic of interest (it has useful mathematical properties outside of the scope of this homework). Let's explore how to produce a sampling distribution."
   ]
  },
  {
   "cell_type": "markdown",
   "id": "d28e12cc",
   "metadata": {},
   "source": [
    "To begin, we need to repeatedly generate samples. That is, we need to repeat the process of flipping 30 coins some large number (say 10000) times. YOU DO NOT NEED TO KNOW THE CODE FOR THIS, WHICH IS BELOW."
   ]
  },
  {
   "cell_type": "code",
   "execution_count": 11,
   "id": "20cb11d5",
   "metadata": {},
   "outputs": [],
   "source": [
    "sample_coin_means <- c()\n",
    "for (i in 1:10000){#Process to repeat 10,000 times\n",
    "    sample_coin_flips <- sample(coin_choices, replace = TRUE, size=30) #Draw one sample of 30 coin flips\n",
    "    sample_flips_average <- mean(sample_coin_flips) #Take the average of the coin flips\n",
    "    sample_coin_means <- append(sample_coin_means, sample_flips_average) #Add average to a list\n",
    "    \n",
    "}\n",
    "head(sample_coin_means)"
   ]
  },
  {
   "cell_type": "markdown",
   "id": "33a2026a",
   "metadata": {},
   "source": [
    "Below, are the above steps, but with dice rolls rather than coin flips."
   ]
  },
  {
   "cell_type": "code",
   "execution_count": 12,
   "id": "7d7b0f82",
   "metadata": {},
   "outputs": [],
   "source": [
    "sample_die_means <- c()\n",
    "for (i in 1:10000){#Process to repeat 10,000 times\n",
    "    sample_die_rolls <- sample(dice_rolls, replace = TRUE, size=30) ##Draw one sample of 30 die rolls\n",
    "    sample_die_average <- mean(sample_die_rolls) #Take the average of the die rolls\n",
    "    sample_die_means <- append(sample_die_means, sample_die_average) #Add average to a list\n",
    "    \n",
    "} \n",
    "head(sample_die_means)"
   ]
  },
  {
   "cell_type": "markdown",
   "id": "dee48ab8",
   "metadata": {},
   "source": [
    "Now that we have our distributions, we can plot them using the <code>hist(array)</code> function from above. Below, a histogram of the coin means:"
   ]
  },
  {
   "cell_type": "code",
   "execution_count": 13,
   "id": "55330b62",
   "metadata": {},
   "outputs": [],
   "source": [
    "hist(sample_coin_means)"
   ]
  },
  {
   "cell_type": "markdown",
   "id": "d5368f07",
   "metadata": {
    "deletable": false,
    "editable": false
   },
   "source": [
    "<!-- BEGIN QUESTION -->\n",
    "\n",
    "### Question 2a:\n",
    "Using the cell above as a guide, plot a histogram of the sample means for the dice.\n",
    "\n",
    "<!--\n",
    "BEGIN QUESTION\n",
    "name: q2a\n",
    "manual: true\n",
    "points: 1\n",
    "-->"
   ]
  },
  {
   "cell_type": "code",
   "execution_count": 14,
   "id": "4ecf1eee",
   "metadata": {},
   "outputs": [],
   "source": [
    "##Your Code Here\n",
    "..."
   ]
  },
  {
   "cell_type": "markdown",
   "id": "2889b82e",
   "metadata": {
    "deletable": false,
    "editable": false
   },
   "source": [
    "<!-- END QUESTION -->\n",
    "\n",
    "<!-- BEGIN QUESTION -->\n",
    "\n",
    "### Question 2b:\n",
    "What do you notice about the distribution of the sample means? \n",
    "<!--\n",
    "BEGIN QUESTION\n",
    "name: q2b\n",
    "manual: true\n",
    "points: 1\n",
    "-->"
   ]
  },
  {
   "cell_type": "markdown",
   "id": "bf5902da",
   "metadata": {},
   "source": [
    "_Type your answer here, replacing this text._"
   ]
  },
  {
   "cell_type": "markdown",
   "id": "afefe1ce",
   "metadata": {},
   "source": [
    "<!-- END QUESTION -->\n",
    "\n",
    "\n",
    "\n",
    "## Sampling Distribution Universality - Question 3\n",
    "Regardless of the underlying frequency distribution, we can generate a sampling distribution that holds the same properties as any other sampling distribution. To begin, let's look at several distributions (you don't need to know how the distribution is generated, just observe the shape of the distribution and the sampling distribution that it produces). The code will produce a distribution using a function you may not be familiar with, but that ist the point: even if we don't understand how our underlying frequency distribution is generated, we can still follow the same principles. "
   ]
  },
  {
   "cell_type": "markdown",
   "id": "56f08c23",
   "metadata": {},
   "source": [
    "Now here are some questions to test your understanding:"
   ]
  },
  {
   "cell_type": "markdown",
   "id": "31306fe1",
   "metadata": {
    "deletable": false,
    "editable": false
   },
   "source": [
    "### Question 3a:\n",
    "Decreasing the sample size, while holding the confidence level the same, will\n",
    "do what to the length of your confidence interval?\n",
    "\n",
    "a) Make it bigger  \n",
    "b) Make it smaller  \n",
    "c) It will stay the same  \n",
    "d) Cannot be determined from the given information\n",
    "\n",
    "Replace the `...` below with \"a\", \"b\", \"c\", or \"d\", with quotes around the letter.\n",
    "\n",
    "<!--\n",
    "BEGIN QUESTION\n",
    "name: q3a\n",
    "points: 2\n",
    "-->"
   ]
  },
  {
   "cell_type": "code",
   "execution_count": 15,
   "id": "28c844de",
   "metadata": {},
   "outputs": [],
   "source": [
    "q3a.answer <- ..."
   ]
  },
  {
   "cell_type": "code",
   "execution_count": null,
   "id": "0a340463",
   "metadata": {
    "deletable": false,
    "editable": false
   },
   "outputs": [],
   "source": [
    ". = ottr::check(\"tests/q3a.R\")"
   ]
  },
  {
   "cell_type": "markdown",
   "id": "e5f7cb72",
   "metadata": {
    "deletable": false,
    "editable": false
   },
   "source": [
    "### Question 3b:\n",
    "Decreasing the confidence level, while holding the sample size the same, will\n",
    "do what to the length of your confidence interval?  \n",
    "\n",
    "a) Make it bigger  \n",
    "b) Make it smaller  \n",
    "c) It will stay the same  \n",
    "d) Cannot be determined from the given information\n",
    "\n",
    "Replace the `...` below with \"a\", \"b\", \"c\", or \"d\", with quotes around the letter.\n",
    "\n",
    "<!--\n",
    "BEGIN QUESTION\n",
    "name: q3b\n",
    "points: 2\n",
    "-->"
   ]
  },
  {
   "cell_type": "code",
   "execution_count": 17,
   "id": "a59e08f2",
   "metadata": {},
   "outputs": [],
   "source": [
    "q3b.answer <- ..."
   ]
  },
  {
   "cell_type": "code",
   "execution_count": null,
   "id": "5188d8a9",
   "metadata": {
    "deletable": false,
    "editable": false
   },
   "outputs": [],
   "source": [
    ". = ottr::check(\"tests/q3b.R\")"
   ]
  },
  {
   "cell_type": "markdown",
   "id": "df0938fd",
   "metadata": {
    "deletable": false,
    "editable": false
   },
   "source": [
    "### Question 3c:\n",
    "A 95% confidence interval for the mean number of televisions per American household\n",
    "is (Lower limit: 1.15, Upper limit 4.20). For each of the following statements about the\n",
    "above confidence interval, decide whether the statements are True or False.  \n",
    "1) We are 95% confident that the true mean number of televisions per American household is between 1.15 and 4.20.  \n",
    "2) 95% of all American households have between 1.15 and 4.20 televisions.  \n",
    "3) Of 100 intervals calculated the same way (95%), we expect 95 of them to capture the population mean.  \n",
    "4) Of 100 intervals calculated the same way (95%), we expect 100 of them to capture the sample mean.\n",
    "\n",
    "Replace the `...` below with either `TRUE` or `FALSE` (without quotes and capitalized).\n",
    "\n",
    "<!--\n",
    "BEGIN QUESTION\n",
    "name: q3c1\n",
    "manual: false\n",
    "points: 1\n",
    "-->"
   ]
  },
  {
   "cell_type": "code",
   "execution_count": 19,
   "id": "a0ea025a",
   "metadata": {},
   "outputs": [],
   "source": [
    "q3c1.answer <- ..."
   ]
  },
  {
   "cell_type": "code",
   "execution_count": null,
   "id": "a6b42712",
   "metadata": {
    "deletable": false,
    "editable": false
   },
   "outputs": [],
   "source": [
    ". = ottr::check(\"tests/q3c1.R\")"
   ]
  },
  {
   "cell_type": "code",
   "execution_count": 21,
   "id": "2ced978f",
   "metadata": {},
   "outputs": [],
   "source": [
    "q3c2.answer <- ..."
   ]
  },
  {
   "cell_type": "code",
   "execution_count": null,
   "id": "91ba7fe5",
   "metadata": {
    "deletable": false,
    "editable": false
   },
   "outputs": [],
   "source": [
    ". = ottr::check(\"tests/q3c2.R\")"
   ]
  },
  {
   "cell_type": "code",
   "execution_count": 23,
   "id": "828960d9",
   "metadata": {},
   "outputs": [],
   "source": [
    "q3c3.answer <- ..."
   ]
  },
  {
   "cell_type": "code",
   "execution_count": null,
   "id": "78424adf",
   "metadata": {
    "deletable": false,
    "editable": false
   },
   "outputs": [],
   "source": [
    ". = ottr::check(\"tests/q3c3.R\")"
   ]
  },
  {
   "cell_type": "code",
   "execution_count": 25,
   "id": "baeb40aa",
   "metadata": {},
   "outputs": [],
   "source": [
    "q3c4.answer <- ..."
   ]
  },
  {
   "cell_type": "code",
   "execution_count": null,
   "id": "8140eafc",
   "metadata": {
    "deletable": false,
    "editable": false
   },
   "outputs": [],
   "source": [
    ". = ottr::check(\"tests/q3c4.R\")"
   ]
  },
  {
   "cell_type": "markdown",
   "id": "19a7b0f1",
   "metadata": {},
   "source": [
    "For the following questions, we will be using the scenario below:  \n",
    "*Researchers are concerned about the impact of students working while they are enrolled in classes, and they’d like to know if students work too much and therefore are spending less time on their classes than they should be. First, the researchers need to find out, on average, how many hours a week students are working. They know from previous studies\n",
    "that the standard deviation of this variable is about 5 hours.*"
   ]
  },
  {
   "cell_type": "markdown",
   "id": "5d4a3d03",
   "metadata": {
    "deletable": false,
    "editable": false
   },
   "source": [
    "### Question 3d:\n",
    "A survey of 225 students provides a sample mean of 7.10 hours worked. What is a 95% confidence interval based on this sample?\n",
    "\n",
    "**Hint:** To take the square root of some number x use the code x^.5\n",
    "\n",
    "<!--\n",
    "BEGIN QUESTION\n",
    "name: q3d\n",
    "points:\n",
    "    - .5\n",
    "    - .5\n",
    "    - .5\n",
    "    - .5\n",
    "    - 1\n",
    "    - 1\n",
    "-->"
   ]
  },
  {
   "cell_type": "code",
   "execution_count": 42,
   "id": "3cee7d07",
   "metadata": {},
   "outputs": [],
   "source": [
    "## YOUR ANSWER HERE\n",
    "lower_bound <- ...\n",
    "upper_bound <- ...\n",
    "c(lower_bound, upper_bound)"
   ]
  },
  {
   "cell_type": "code",
   "execution_count": null,
   "id": "c74d5837",
   "metadata": {
    "deletable": false,
    "editable": false
   },
   "outputs": [],
   "source": [
    ". = ottr::check(\"tests/q3d.R\")"
   ]
  },
  {
   "cell_type": "markdown",
   "id": "6443234d",
   "metadata": {
    "deletable": false,
    "editable": false
   },
   "source": [
    "### Question 3e:\n",
    "Suppose that this confidence interval was (6.82, 7.38). Which of these is a\n",
    "valid interpretation of this confidence interval?  \n",
    "a) There is a 95% probability that a randomly selected student worked between 6.82 and 7.38 hours.  \n",
    "b) We are 95% confident that the average number of hours worked by students in our sample is between 6.82 and 7.38 hours.  \n",
    "c) We are 95% confident that the interval between 6.82 and 7.38 hours contains the average number of hours worked by all students. \n",
    "\n",
    "Replace the `...` below with \"a\", \"b\", \"c\", or \"d\", with quotes around the letter.\n",
    "\n",
    "<!--\n",
    "BEGIN QUESTION\n",
    "name: q3e\n",
    "points: 2\n",
    "-->"
   ]
  },
  {
   "cell_type": "code",
   "execution_count": 34,
   "id": "ee612d8d",
   "metadata": {},
   "outputs": [],
   "source": [
    "q3e.answer <- 'c'"
   ]
  },
  {
   "cell_type": "code",
   "execution_count": null,
   "id": "f7233dc5",
   "metadata": {
    "deletable": false,
    "editable": false
   },
   "outputs": [],
   "source": [
    ". = ottr::check(\"tests/q3e.R\")"
   ]
  },
  {
   "cell_type": "markdown",
   "id": "7e3708c4",
   "metadata": {
    "deletable": false,
    "editable": false
   },
   "source": [
    "### Question 3f:\n",
    "We have 95% confidence in our interval instead of 100% confidence because we need to account for the fact that:\n",
    "a) The sample may not be truly random.  \n",
    "b) We have a sample, and not the whole population.  \n",
    "c) The distribution of hours worked may be skewed.  \n",
    "d) All of the above\n",
    "\n",
    "Replace the `...` below with \"a\", \"b\", \"c\", or \"d\", with quotes around the letter.\n",
    "\n",
    "<!--\n",
    "BEGIN QUESTION\n",
    "name: q3f\n",
    "points: 2\n",
    "-->"
   ]
  },
  {
   "cell_type": "code",
   "execution_count": 36,
   "id": "e715debb",
   "metadata": {},
   "outputs": [],
   "source": [
    "q3f.answer <- ..."
   ]
  },
  {
   "cell_type": "code",
   "execution_count": null,
   "id": "940b3f91",
   "metadata": {
    "deletable": false,
    "editable": false
   },
   "outputs": [],
   "source": [
    ". = ottr::check(\"tests/q3f.R\")"
   ]
  },
  {
   "cell_type": "markdown",
   "id": "a01bf14a",
   "metadata": {
    "deletable": false,
    "editable": false
   },
   "source": [
    "### Question 3g:\n",
    "The researchers are not satisfied with their confidence interval and want to do another study to find a shorter confidence interval. Which of the following best describes what they should do?  \n",
    "a) They should increase their confidence level and increase their sample size.  \n",
    "b) They should increase their confidence level or decrease their sample size.  \n",
    "c) They should decrease their confidence level or increase their sample size.  \n",
    "d) They should decrease their confidence level and decrease their sample size. \n",
    "\n",
    "Replace the `...` below with \"a\", \"b\", \"c\", or \"d\", with quotes around the letter.\n",
    "\n",
    "<!--\n",
    "BEGIN QUESTION\n",
    "name: q3g\n",
    "points: 2\n",
    "-->"
   ]
  },
  {
   "cell_type": "code",
   "execution_count": 38,
   "id": "5b53bc72",
   "metadata": {},
   "outputs": [],
   "source": [
    "q3g.answer <- ..."
   ]
  },
  {
   "cell_type": "code",
   "execution_count": null,
   "id": "1f96861b",
   "metadata": {
    "deletable": false,
    "editable": false
   },
   "outputs": [],
   "source": [
    ". = ottr::check(\"tests/q3g.R\")"
   ]
  },
  {
   "cell_type": "markdown",
   "id": "dca60bb0",
   "metadata": {},
   "source": [
    "<!-- END QUESTION -->\n",
    "\n",
    "\n",
    "\n",
    "-----\n",
    "## Submitting Your Notebook\n",
    "\n",
    "Congratulations! You have now finished your first coding assignment. Well done!\n",
    "\n",
    "Before you head off to celebrate your work, please remember to save your work and submit it before the deadline!\n",
    "\n",
    "To submit your notebook...\n",
    "\n",
    "### 1. Select the cell below and hit run. Then wait 10 seconds."
   ]
  },
  {
   "cell_type": "code",
   "execution_count": null,
   "id": "d3b10044",
   "metadata": {},
   "outputs": [],
   "source": [
    "# Don't worry about what is in this cell, just run it!\n",
    "nb_name <- \"Homework6.ipynb\"\n",
    "system(paste0(\"python3 -c 'import otter; otter.Notebook(\\\"\", nb_name, \"\\\").export()'\"))\n",
    "fp = tail(sort(Sys.glob(\"*.zip\")), n=1)\n",
    "IRdisplay::display_html(paste0(\"<a style='font-size: 36px;'' href='\", fp, \"' download='\", fp, \"'>Click here to download your submission</a>\"))"
   ]
  },
  {
   "cell_type": "markdown",
   "id": "c9340b12",
   "metadata": {},
   "source": [
    "After you hit \"Run\" on the cell above, wait for a moment (about 10 seconds), then click the download link. A .zip file should download to your computer.\n",
    "\n",
    "(If you make changes to your notebook, you'll need to run the cell above again before you submit to get a new version of it.)\n",
    "\n",
    "### 2. Submit the .zip file you just downloaded <a href=\"https://www.gradescope.com/courses/402785\" target=\"_blank\">on Gradescope here</a>.\n",
    "\n",
    "Notes:\n",
    "\n",
    "- **This does not seem to work on Chrome for iPad or iPhone.** If you're using an iPad or iPhone, you need to download the file using **Safari**.\n",
    "- If your web browser automatically unzips the .zip file (so you see a folder instead of a .zip file), you can just upload the .ipynb file that is inside the folder.\n",
    "- If this method is not working for you, try the \"old way\": hit `File`, then `Download as`, then `Notebook (.ipynb)` and submit that."
   ]
  },
  {
   "cell_type": "code",
   "execution_count": null,
   "id": "56b042fc",
   "metadata": {},
   "outputs": [],
   "source": []
  }
 ],
 "metadata": {
  "kernelspec": {
   "display_name": "R",
   "language": "R",
   "name": "ir"
  },
  "language_info": {
   "codemirror_mode": "r",
   "file_extension": ".r",
   "mimetype": "text/x-r-source",
   "name": "R",
   "pygments_lexer": "r",
   "version": "4.1.2"
  }
 },
 "nbformat": 4,
 "nbformat_minor": 5
}
